{
 "metadata": {
  "name": ""
 },
 "nbformat": 3,
 "nbformat_minor": 0,
 "worksheets": [
  {
   "cells": [
    {
     "cell_type": "heading",
     "level": 1,
     "metadata": {},
     "source": [
      "Single Baseline OQE tests"
     ]
    },
    {
     "cell_type": "markdown",
     "metadata": {},
     "source": [
      "Some notes.  Things to try:\n",
      "\n",
      "* Unweighted estimator i.e. $\\mathbf{E}_{\\alpha} = \\frac{1}{2} \\mathbf{C}_{,\\alpha}$\n",
      "* Analytic Gaussian, separable approx. implementation.\n",
      "* Analytic Gaussian, matrix implementation.\n",
      "* Analytic Gaussian, whitening with prior.\n",
      "* Eigen-mode interpretation of inverse, possibly with modes zeroed out by hand.\n",
      "* Same stuff with numerical Gaussian.\n",
      "* Same stuff with PAPER beam."
     ]
    },
    {
     "cell_type": "markdown",
     "metadata": {},
     "source": [
      "The purpose here is to try to do some simple end-to-end simulations of OQE for single baselines"
     ]
    },
    {
     "cell_type": "code",
     "collapsed": false,
     "input": [
      "import numpy as np\n",
      "import aipy as ap\n",
      "from scipy.special import erf\n",
      "%pylab inline"
     ],
     "language": "python",
     "metadata": {},
     "outputs": [
      {
       "output_type": "stream",
       "stream": "stdout",
       "text": [
        "Populating the interactive namespace from numpy and matplotlib\n"
       ]
      }
     ],
     "prompt_number": 1
    },
    {
     "cell_type": "markdown",
     "metadata": {},
     "source": [
      "First define some basic parameters"
     ]
    },
    {
     "cell_type": "code",
     "collapsed": false,
     "input": [
      "speedOfLight = 300. # In meters per microsecond\n",
      "centralFreq = 150. # Frequencies all in MHz\n",
      "totalBand = 10.\n",
      "freqRes = 0.05 # 50 kHz frequency resolution\n",
      "bottomFreq = centralFreq - totalBand / 2.\n",
      "topFreq = centralFreq + totalBand / 2.\n",
      "numFreqs = int( ( topFreq - bottomFreq ) / freqRes )\n",
      "freqVect = np.delete(np.linspace(bottomFreq, topFreq, numFreqs + 1), -1)"
     ],
     "language": "python",
     "metadata": {},
     "outputs": [],
     "prompt_number": 2
    },
    {
     "cell_type": "code",
     "collapsed": false,
     "input": [
      "pixRes = 0.05 # Pixel res. in radians\n",
      "pixExtent = 5. # Total spatial sidelength in radians\n",
      "leftPix = -1. * pixExtent / 2.\n",
      "rightPix = pixExtent / 2.\n",
      "npix = int( ( rightPix - leftPix ) / pixRes )\n",
      "pixVect = np.delete(np.linspace(leftPix,rightPix, npix + 1), -1)"
     ],
     "language": "python",
     "metadata": {},
     "outputs": [],
     "prompt_number": 3
    },
    {
     "cell_type": "code",
     "collapsed": false,
     "input": [
      "uRes = 1. / (npix * pixRes)"
     ],
     "language": "python",
     "metadata": {},
     "outputs": [],
     "prompt_number": 4
    },
    {
     "cell_type": "code",
     "collapsed": false,
     "input": [
      "blLength = 16. # baseline length in meters\n",
      "uForBaseline = np.array([ blLength * freq for freq in freqVect ]) / speedOfLight"
     ],
     "language": "python",
     "metadata": {},
     "outputs": [],
     "prompt_number": 5
    },
    {
     "cell_type": "heading",
     "level": 2,
     "metadata": {},
     "source": [
      "Analytic reduction of expressions, $\\delta$-function pixelization of output power spectrum"
     ]
    },
    {
     "cell_type": "markdown",
     "metadata": {},
     "source": [
      "Define an $u$ and $\\eta$ grid.  These form the $u$ and $\\eta$ values that define our bandpowers."
     ]
    },
    {
     "cell_type": "code",
     "collapsed": false,
     "input": [
      "uBinNumber = 10\n",
      "etaBinNumber = 12\n",
      "numBands = uBinNumber * etaBinNumber\n",
      "uGrid = np.linspace(uForBaseline[0],uForBaseline[-1],uBinNumber)\n",
      "etaGrid = np.linspace(-1/(2*freqRes),1/(2*freqRes), etaBinNumber)"
     ],
     "language": "python",
     "metadata": {},
     "outputs": [],
     "prompt_number": 76
    },
    {
     "cell_type": "code",
     "collapsed": false,
     "input": [
      "uGrid"
     ],
     "language": "python",
     "metadata": {},
     "outputs": [
      {
       "metadata": {},
       "output_type": "pyout",
       "prompt_number": 77,
       "text": [
        "array([ 7.73333333,  7.7922963 ,  7.85125926,  7.91022222,  7.96918519,\n",
        "        8.02814815,  8.08711111,  8.14607407,  8.20503704,  8.264     ])"
       ]
      }
     ],
     "prompt_number": 77
    },
    {
     "cell_type": "code",
     "collapsed": false,
     "input": [
      "etaGrid"
     ],
     "language": "python",
     "metadata": {},
     "outputs": [
      {
       "metadata": {},
       "output_type": "pyout",
       "prompt_number": 78,
       "text": [
        "array([-10.        ,  -8.18181818,  -6.36363636,  -4.54545455,\n",
        "        -2.72727273,  -0.90909091,   0.90909091,   2.72727273,\n",
        "         4.54545455,   6.36363636,   8.18181818,  10.        ])"
       ]
      }
     ],
     "prompt_number": 78
    },
    {
     "cell_type": "code",
     "collapsed": false,
     "input": [
      "def CcommaMatrix(uGrid, etaGrid, freqVect,centralFWHM=10.,centralFreq=150.,beamSlope=0.05):\n",
      "    \"\"\"Evaluates a family of C,alpha matrices.\n",
      "        Outputs an \"uber matrix\" that cycles through\n",
      "        eta the most rapidly, then u\"\"\"\n",
      "    nf = len(freqVect)\n",
      "    finalMatrix = np.zeros((len(uGrid)*len(etaGrid),nf,nf),dtype=complex128)\n",
      "    \n",
      "    beamWidths = centralFWHM - beamSlope * (freqVect - centralFreq)\n",
      "    beamWidths *= np.pi / 180.\n",
      "    beamWidths /= np.sqrt(8.*np.log(2.))\n",
      "    #print beamWidths\n",
      "    #assert False\n",
      "    k = 0\n",
      "    for uValue in uGrid:\n",
      "        for etaValue in etaGrid:\n",
      "            uShiftVect = uValue - uForBaseline\n",
      "            gVect = np.exp(1j * 2 * np.pi * etaValue * freqVect)\n",
      "            gVect *= beamWidths\n",
      "            gVect *= np.exp( -2 * np.pi * np.pi * beamWidths * beamWidths * uShiftVect * uShiftVect)\n",
      "            finalMatrix[k] = 2 * np.pi *np.outer(gVect,np.conjugate(gVect))\n",
      "            #gVect = beamWidths\n",
      "            #gVect *= np.exp( -2 * np.pi * np.pi * beamWidths * beamWidths * uShiftVect * uShiftVect)\n",
      "            #finalMatrix[k] = np.outer(gVect,np.conjugate(gVect))\n",
      "            #for i,freqi in enumerate(freqVect):\n",
      "            #    for j,freqj in enumerate(freqVect):\n",
      "            #        finalMatrix[k,i,j] *= np.cos( 2 * np.pi * etaValue * (freqi - freqj) )\n",
      "            #finalMatrix[k] *= 4 * np.pi\n",
      "            k += 1\n",
      "    return finalMatrix"
     ],
     "language": "python",
     "metadata": {},
     "outputs": [],
     "prompt_number": 40
    },
    {
     "cell_type": "markdown",
     "metadata": {},
     "source": [
      "Try a flat power spectrum first"
     ]
    },
    {
     "cell_type": "code",
     "collapsed": false,
     "input": [
      "pspecLevel = 7.2\n",
      "inputP = 7.2 * np.ones(len(uGrid)*len(etaGrid))"
     ],
     "language": "python",
     "metadata": {},
     "outputs": [],
     "prompt_number": 80
    },
    {
     "cell_type": "markdown",
     "metadata": {},
     "source": [
      "Form the covariance from these bandpowers"
     ]
    },
    {
     "cell_type": "code",
     "collapsed": false,
     "input": [
      "CcommaCollection = CcommaMatrix(uGrid,etaGrid,freqVect)\n",
      "totalCovar = np.einsum('a,aij', inputP, CcommaCollection)"
     ],
     "language": "python",
     "metadata": {},
     "outputs": [],
     "prompt_number": 81
    },
    {
     "cell_type": "code",
     "collapsed": false,
     "input": [
      "f, ax = plt.subplots(figsize=(10,6))\n",
      "ax.semilogy(np.real(np.linalg.eigvals(totalCovar)))"
     ],
     "language": "python",
     "metadata": {},
     "outputs": [
      {
       "metadata": {},
       "output_type": "pyout",
       "prompt_number": 82,
       "text": [
        "[<matplotlib.lines.Line2D at 0x1264b7250>]"
       ]
      },
      {
       "metadata": {},
       "output_type": "display_data",
       "png": "[encoded data removed]",
       "text": [
        "<matplotlib.figure.Figure at 0x1264e2c10>"
       ]
      }
     ],
     "prompt_number": 82
    },
    {
     "cell_type": "markdown",
     "metadata": {},
     "source": [
      "The steps are likely because of the 2D nature of the $u \\eta$ plane.  Probably the first four steps are real, the rest is numerical noise.  To generate random samples, we can do a truncated eigenvalue decomposition:\n",
      "\n",
      "Let $\\mathbf{C} = \\mathbf{V} \\mathbf{\\Lambda} \\mathbf{V}^\\dagger$.  Then define $\\mathbf{\\Gamma} \\equiv \\mathbf{V} \\mathbf{\\Lambda}^{1/2}_\\textrm{trunc}$, where the \"trunc\" label refers to having zeroed out the eigenmodes corresponding to numerical noise.  Draw uncorrelated random variables of unit variance, collect in $\\mathbf{z}$.  Then form $\\mathbf{x} \\equiv \\mathbf{\\Gamma} \\mathbf{z}$.  By construction, then, the covariance of $\\mathbf{x}$ is $\\langle \\mathbf{x} \\mathbf{x}^\\dagger \\rangle = \\mathbf{\\Gamma} \\mathbf{\\Gamma}^\\dagger = \\mathbf{V} \\mathbf{\\Lambda}_\\textrm{trunc} \\mathbf{V}^\\dagger \\approx \\mathbf{C}$."
     ]
    },
    {
     "cell_type": "code",
     "collapsed": false,
     "input": [
      "eigVals, Vmatrix = np.linalg.eigh(totalCovar)"
     ],
     "language": "python",
     "metadata": {},
     "outputs": [],
     "prompt_number": 83
    },
    {
     "cell_type": "code",
     "collapsed": false,
     "input": [
      "print eigVals[-43], eigVals[-44], eigVals[-45], eigVals[-56]"
     ],
     "language": "python",
     "metadata": {},
     "outputs": [
      {
       "output_type": "stream",
       "stream": "stdout",
       "text": [
        "2.25400044236e-08 2.23920608787e-08 1.7823529829e-12 1.04128490428e-12\n"
       ]
      }
     ],
     "prompt_number": 89
    },
    {
     "cell_type": "code",
     "collapsed": false,
     "input": [
      "eigToInclude = 45 # Number of eigenmodes to include in the truncation\n",
      "truncatedEigen = [eigs if i > numFreqs-eigToInclude-1 else 0. for i,eigs in enumerate(eigVals)]"
     ],
     "language": "python",
     "metadata": {},
     "outputs": [],
     "prompt_number": 90
    },
    {
     "cell_type": "code",
     "collapsed": false,
     "input": [
      "GammaMatrix = np.dot(Vmatrix,np.diagflat(np.sqrt(np.real(truncatedEigen))))"
     ],
     "language": "python",
     "metadata": {},
     "outputs": [],
     "prompt_number": 91
    },
    {
     "cell_type": "markdown",
     "metadata": {},
     "source": [
      "See if this reproduces the correct covariance statistics"
     ]
    },
    {
     "cell_type": "code",
     "collapsed": false,
     "input": [
      "numTrials = 10000\n",
      "ensembleC = np.zeros_like(totalCovar,dtype=complex64)\n",
      "for i in range(numTrials):\n",
      "    zRand = np.random.normal(size=numFreqs)\n",
      "    xTemp = np.copy(np.einsum('ij,j', GammaMatrix, zRand))\n",
      "    ensembleC += np.outer(xTemp,np.conjugate(xTemp))\n",
      "ensembleC /= numTrials"
     ],
     "language": "python",
     "metadata": {},
     "outputs": [],
     "prompt_number": 92
    },
    {
     "cell_type": "code",
     "collapsed": false,
     "input": [
      "abs(ensembleC-totalCovar)"
     ],
     "language": "python",
     "metadata": {},
     "outputs": [
      {
       "metadata": {},
       "output_type": "pyout",
       "prompt_number": 93,
       "text": [
        "array([[ 4.39400894,  0.00477098,  0.8145067 , ...,  2.48568302,\n",
        "         4.21596433,  0.14242057],\n",
        "       [ 0.00477098,  0.34940913,  1.90082569, ...,  0.28969987,\n",
        "         0.40895241,  0.30676173],\n",
        "       [ 0.8145067 ,  1.90082569,  0.47009763, ...,  0.66162194,\n",
        "         0.85775259,  1.70460166],\n",
        "       ..., \n",
        "       [ 2.48568302,  0.28969987,  0.66162194, ...,  2.5709072 ,\n",
        "         2.34302599,  0.39103069],\n",
        "       [ 4.21596433,  0.40895241,  0.85775259, ...,  2.34302599,\n",
        "         4.06164863,  0.27299809],\n",
        "       [ 0.14242057,  0.30676173,  1.70460166, ...,  0.39103069,\n",
        "         0.27299809,  0.26202423]])"
       ]
      }
     ],
     "prompt_number": 93
    },
    {
     "cell_type": "markdown",
     "metadata": {},
     "source": [
      "That's probably ok.  Now generate the window function matrix $\\mathbf{W}_{\\alpha \\beta} = tr[\\mathbf{E}_\\alpha \\mathbf{C}_{,\\beta}]$."
     ]
    },
    {
     "cell_type": "code",
     "collapsed": false,
     "input": [
      "unnormedWind = 0.5 * np.einsum('aij,bji', CcommaCollection,CcommaCollection)\n",
      "diagNorms = np.sum(unnormedWind, axis=1)\n",
      "diagMmatrix = np.diagflat(1 / diagNorms)\n",
      "diagNormedWind = np.einsum('ij,jk', diagMmatrix, unnormedWind)"
     ],
     "language": "python",
     "metadata": {},
     "outputs": [],
     "prompt_number": 94
    },
    {
     "cell_type": "markdown",
     "metadata": {},
     "source": [
      "The window functions basically make sense.  Each $\\eta$ mode is probed relatively well, and then the $u$ response is broad, but peaks at the central $u$ that the baseline is \"supposed\" to probe."
     ]
    },
    {
     "cell_type": "code",
     "collapsed": false,
     "input": [
      "f, ax = plt.subplots(figsize=(10,6))\n",
      "for i in range(0,10,4):\n",
      "    ax.plot(diagNormedWind[i])"
     ],
     "language": "python",
     "metadata": {},
     "outputs": [
      {
       "metadata": {},
       "output_type": "display_data",
       "png": "[encoded data removed]",
       "text": [
        "<matplotlib.figure.Figure at 0x126902fd0>"
       ]
      }
     ],
     "prompt_number": 95
    },
    {
     "cell_type": "markdown",
     "metadata": {},
     "source": [
      "Now try to form a pspec estimator.  Unnormed: $q_\\alpha \\equiv \\frac{1}{2} \\mathbf{x}^\\dagger \\mathbf{C}_{,\\alpha} \\mathbf{x}$.  Then $\\mathbf{W}_{\\alpha \\beta} = tr[\\mathbf{E}_\\alpha \\mathbf{C}_{,\\beta}] = \\frac{1}{2} tr[\\mathbf{C}_{,\\alpha} \\mathbf{C}_{,\\beta}]$.  For diagonal normalization, $\\mathbf{M}_{\\alpha \\beta} = \\delta_{\\alpha \\beta} (\\sum_\\beta \\mathbf{W}_{\\alpha \\beta})^{-1}$.  Finally, $p_\\alpha = \\sum_\\beta \\mathbf{M}_{\\alpha \\beta} q_\\beta$."
     ]
    },
    {
     "cell_type": "code",
     "collapsed": false,
     "input": [
      "zRand = np.random.normal(size=numFreqs)\n",
      "xCurrentRealization = np.copy(np.einsum('ij,j', GammaMatrix, zRand))\n",
      "qhat = 0.5 * np.einsum('i,ai',np.conjugate(xCurrentRealization), \\\n",
      "                 np.einsum('aij,j',CcommaCollection,xCurrentRealization))\n",
      "phat = np.dot(diagMmatrix,qhat)"
     ],
     "language": "python",
     "metadata": {},
     "outputs": [],
     "prompt_number": 96
    },
    {
     "cell_type": "code",
     "collapsed": false,
     "input": [
      "np.real(phat)"
     ],
     "language": "python",
     "metadata": {},
     "outputs": [
      {
       "metadata": {},
       "output_type": "pyout",
       "prompt_number": 97,
       "text": [
        "array([  1.14213445,   3.66373265,   2.52986336,   9.98662677,\n",
        "         3.30576982,  13.06743392,  13.06743392,   3.30576982,\n",
        "         9.98662677,   2.52986336,   3.66373265,   1.14213445,\n",
        "         1.14346369,   3.66293167,   2.52646701,   9.98588594,\n",
        "         3.31396534,  13.06553333,  13.06553333,   3.31396534,\n",
        "         9.98588594,   2.52646702,   3.66293167,   1.14346369,\n",
        "         1.14483158,   3.6621604 ,   2.52307574,   9.98519941,\n",
        "         3.32218388,  13.06364688,  13.06364688,   3.32218388,\n",
        "         9.98519941,   2.52307574,   3.6621604 ,   1.14483158,\n",
        "         1.14623895,   3.66142041,   2.51969115,   9.98456903,\n",
        "         3.33042215,  13.06177707,  13.06177707,   3.33042215,\n",
        "         9.98456903,   2.51969115,   3.66142041,   1.14623895,\n",
        "         1.14768661,   3.66071327,   2.51631489,   9.98399664,\n",
        "         3.3386768 ,  13.05992646,  13.05992646,   3.3386768 ,\n",
        "         9.98399664,   2.5163149 ,   3.66071327,   1.14768661,\n",
        "         1.14917539,   3.66004059,   2.51294862,   9.98348405,\n",
        "         3.3469444 ,  13.05809771,  13.05809771,   3.3469444 ,\n",
        "         9.98348404,   2.51294862,   3.66004058,   1.14917539,\n",
        "         1.15070611,   3.65940399,   2.50959401,   9.98303306,\n",
        "         3.35522146,  13.05629357,  13.05629358,   3.35522147,\n",
        "         9.98303306,   2.50959401,   3.65940399,   1.15070611,\n",
        "         1.15227961,   3.65880513,   2.50625274,   9.98264548,\n",
        "         3.36350442,  13.05451689,  13.05451689,   3.36350442,\n",
        "         9.98264547,   2.50625274,   3.65880513,   1.15227961,\n",
        "         1.15389672,   3.65824567,   2.50292653,   9.98232306,\n",
        "         3.37178964,  13.05277057,  13.05277058,   3.37178964,\n",
        "         9.98232306,   2.50292653,   3.65824566,   1.15389672,\n",
        "         1.1555583 ,   3.65772729,   2.49961708,   9.98206756,\n",
        "         3.38007342,  13.05105765,  13.05105765,   3.38007342,\n",
        "         9.98206756,   2.49961708,   3.65772729,   1.1555583 ])"
       ]
      }
     ],
     "prompt_number": 97
    },
    {
     "cell_type": "code",
     "collapsed": false,
     "input": [
      "plt.pcolor(np.transpose(np.reshape(np.real(phat),(uBinNumber,etaBinNumber))))"
     ],
     "language": "python",
     "metadata": {},
     "outputs": [
      {
       "metadata": {},
       "output_type": "pyout",
       "prompt_number": 98,
       "text": [
        "<matplotlib.collections.PolyCollection at 0x11d0f4cd0>"
       ]
      },
      {
       "metadata": {},
       "output_type": "display_data",
       "png": "[encoded data removed]",
       "text": [
        "<matplotlib.figure.Figure at 0x126928b50>"
       ]
      }
     ],
     "prompt_number": 98
    },
    {
     "cell_type": "markdown",
     "metadata": {},
     "source": [
      "Wow this really isn't so good.  But that's somewhat to be expected, since with just a single line-of-sight we have insane cosmic variance.  Let's try sticking $\\mathbf{C}^{-1}$ for fun to see what happens."
     ]
    },
    {
     "cell_type": "code",
     "collapsed": false,
     "input": [
      "truncatedEigenInv = np.array([1./eigs if eigs > 0. else 0. for eigs in truncatedEigen])"
     ],
     "language": "python",
     "metadata": {},
     "outputs": [],
     "prompt_number": 99
    },
    {
     "cell_type": "code",
     "collapsed": false,
     "input": [
      "LPLmatrices = np.einsum('aik,kj',np.einsum('ij,ajk', np.conjugate(Vmatrix).T, CcommaCollection),Vmatrix)"
     ],
     "language": "python",
     "metadata": {},
     "outputs": [],
     "prompt_number": 100
    },
    {
     "cell_type": "code",
     "collapsed": false,
     "input": [
      "weightedLPLmatrices = np.einsum('aik,kj',LPLmatrices,np.diagflat(truncatedEigenInv))"
     ],
     "language": "python",
     "metadata": {},
     "outputs": [],
     "prompt_number": 101
    },
    {
     "cell_type": "code",
     "collapsed": false,
     "input": [
      "unnormedWind = 0.5 * np.einsum('aij,bji', weightedLPLmatrices,weightedLPLmatrices)\n",
      "diagNorms = np.sum(unnormedWind, axis=1)\n",
      "diagMmatrix = np.diagflat(1 / diagNorms)\n",
      "diagNormedWind = np.einsum('ij,jk', diagMmatrix, unnormedWind)"
     ],
     "language": "python",
     "metadata": {},
     "outputs": [],
     "prompt_number": 102
    },
    {
     "cell_type": "markdown",
     "metadata": {},
     "source": [
      "Window functions actually look quite nice! They're peakier than they were before in the $u$ direction."
     ]
    },
    {
     "cell_type": "code",
     "collapsed": false,
     "input": [
      "f, ax = plt.subplots(figsize=(10,6))\n",
      "ax.plot(diagNormedWind[34])"
     ],
     "language": "python",
     "metadata": {},
     "outputs": [
      {
       "metadata": {},
       "output_type": "pyout",
       "prompt_number": 103,
       "text": [
        "[<matplotlib.lines.Line2D at 0x11d1291d0>]"
       ]
      },
      {
       "metadata": {},
       "output_type": "display_data",
       "png": "[encoded data removed]",
       "text": [
        "<matplotlib.figure.Figure at 0x126930dd0>"
       ]
      }
     ],
     "prompt_number": 103
    },
    {
     "cell_type": "code",
     "collapsed": false,
     "input": [
      "whitenedInputData = np.dot(np.diagflat(truncatedEigenInv),np.dot(np.conjugate(Vmatrix).T,xCurrentRealization))\n",
      "qhat = 0.5 * np.einsum('i,ai',np.conjugate(whitenedInputData), \\\n",
      "                 np.einsum('aij,j',LPLmatrices,whitenedInputData))\n",
      "phat = np.dot(diagMmatrix,qhat)"
     ],
     "language": "python",
     "metadata": {},
     "outputs": [],
     "prompt_number": 104
    },
    {
     "cell_type": "code",
     "collapsed": false,
     "input": [
      "print np.real(phat)"
     ],
     "language": "python",
     "metadata": {},
     "outputs": [
      {
       "output_type": "stream",
       "stream": "stdout",
       "text": [
        "[  2.60950950e+00   2.87577428e-01   1.16620024e+00   6.10152380e+00\n",
        "   6.63555119e+00   1.24560517e+01   1.24576278e+01   6.63446784e+00\n",
        "   6.09437813e+00   1.18037312e+00   2.79923603e-01   2.61706824e+00\n",
        "   1.84616471e+00   3.56501150e-01   3.96880047e+00   1.53074394e+00\n",
        "   8.65805702e+00   3.44623960e+01   3.43705768e+01   8.65602599e+00\n",
        "   1.54111049e+00   3.91327957e+00   3.52645641e-01   1.85018680e+00\n",
        "   7.04663528e+00   2.43160759e+00   4.83145655e+00   8.60229064e-03\n",
        "   1.70240416e+00   4.08338031e+01   4.07253877e+01   1.69295743e+00\n",
        "  -4.35214617e-03   4.77697484e+00   2.43770291e+00   7.01611714e+00\n",
        "   5.38396161e+00   6.74047776e+00   4.80496230e+00   3.61414907e-02\n",
        "   1.76987330e-01   3.29135384e+01   3.29199421e+01   1.62044053e-01\n",
        "   4.15232545e-02   4.80685021e+00   6.75340780e+00   5.35352705e+00\n",
        "   1.48997795e+00   1.30358202e+01   4.43579553e+00   1.49570967e-01\n",
        "   3.66046252e+00   1.88100380e+01   1.89005126e+01   3.65349846e+00\n",
        "   1.49228466e-01   4.49255118e+00   1.30427356e+01   1.50567397e+00\n",
        "   6.64347448e-02   1.34617712e+01   2.03076888e+00   1.54073668e+00\n",
        "   9.04955070e+00   3.95438136e+00   4.00418882e+00   9.04314235e+00\n",
        "   1.52778873e+00   2.07670841e+00   1.34603323e+01   7.29162591e-02\n",
        "   1.11031276e+00   6.64289824e+00   1.44257901e-01   3.61539765e+00\n",
        "   9.93569963e+00   3.07477765e+00   3.06828909e+00   9.93889680e+00\n",
        "   3.60664655e+00   1.49845053e-01   6.64057531e+00   1.11716340e+00\n",
        "   7.98243188e-01   1.77321095e+00   5.85625481e-01   6.23766696e+00\n",
        "   1.02121475e+01   6.71760098e+00   6.74087176e+00   1.02242296e+01\n",
        "   6.23632479e+00   5.84136921e-01   1.77736192e+00   7.95864840e-01\n",
        "   1.43324047e-01   1.73376734e+00   2.45818460e+00   1.01960409e+01\n",
        "   1.26413434e+01   4.08955344e+00   4.12642271e+00   1.26639854e+01\n",
        "   1.02155584e+01   2.49820526e+00   1.76399899e+00   1.24704828e-01\n",
        "   2.97055296e+00   4.44108660e+00   8.21758996e-01   5.43119734e+00\n",
        "   6.77366773e+00   6.38899638e-01   6.49329701e-01   6.76656187e+00\n",
        "   5.42176809e+00   8.08380808e-01   4.44282408e+00   2.98423391e+00]\n"
       ]
      }
     ],
     "prompt_number": 106
    },
    {
     "cell_type": "code",
     "collapsed": false,
     "input": [
      "plt.pcolor(np.transpose(np.reshape(np.real(phat),(uBinNumber,etaBinNumber))))"
     ],
     "language": "python",
     "metadata": {},
     "outputs": [
      {
       "metadata": {},
       "output_type": "pyout",
       "prompt_number": 107,
       "text": [
        "<matplotlib.collections.PolyCollection at 0x126912110>"
       ]
      },
      {
       "metadata": {},
       "output_type": "display_data",
       "png": "[encoded data removed]",
       "text": [
        "<matplotlib.figure.Figure at 0x11d138790>"
       ]
      }
     ],
     "prompt_number": 107
    },
    {
     "cell_type": "markdown",
     "metadata": {},
     "source": [
      "Still not particularly pretty.  This time we've broken the symmetry, because our window functions actually peak in $u$.  What about the error bars? I'd expect the cosmic variance errors to be crazy huge, because we just have one independent mode, which means our cosmic variance errors are $\\sqrt{\\frac{2}{N}} P(k) = \\sqrt{2} P(k)$.  Take some ensemble averages."
     ]
    },
    {
     "cell_type": "code",
     "collapsed": false,
     "input": [
      "numTrials = 5000\n",
      "bandNumForSlice = 50\n",
      "qhatMean = np.zeros(numBands)\n",
      "meanSlice = np.zeros(numTrials)\n",
      "qhatVariance = np.zeros((numBands,numBands))\n",
      "for i in range(numTrials):\n",
      "    zRand = np.random.normal(size=numFreqs)\n",
      "    xTemp = np.copy(np.einsum('ij,j', GammaMatrix, zRand))\n",
      "    whitenedRealization = np.dot(np.diagflat(truncatedEigenInv),np.dot(np.conjugate(Vmatrix).T,xTemp))\n",
      "    qhatRealization = 0.5 * np.einsum('i,ai',np.conjugate(whitenedRealization), \\\n",
      "                 np.einsum('aij,j',LPLmatrices,whitenedRealization))\n",
      "    qhatMean += qhatRealization\n",
      "    meanSlice[i] = qhatRealization[bandNumForSlice]\n",
      "    qhatVariance += np.outer(qhatRealization,np.conjugate(qhatRealization))\n",
      "qhatMean /= numTrials\n",
      "qhatVariance /= numTrials\n",
      "qhatVariance -= np.outer(qhatMean, np.conjugate(qhatMean))"
     ],
     "language": "python",
     "metadata": {},
     "outputs": [],
     "prompt_number": 108
    },
    {
     "cell_type": "code",
     "collapsed": false,
     "input": [
      "phatMean = np.dot(diagMmatrix,qhatMean)\n",
      "phatVariance = np.dot(diagMmatrix,np.dot(qhatVariance,np.conjugate(diagMmatrix).T))"
     ],
     "language": "python",
     "metadata": {},
     "outputs": [],
     "prompt_number": 109
    },
    {
     "cell_type": "code",
     "collapsed": false,
     "input": [
      "print np.real(phatMean)"
     ],
     "language": "python",
     "metadata": {},
     "outputs": [
      {
       "output_type": "stream",
       "stream": "stdout",
       "text": [
        "[ 7.07045973  7.23671306  7.23611547  7.14944863  7.09344667  7.24697554\n",
        "  7.24838969  7.09134277  7.14950345  7.23705771  7.23609627  7.07439506\n",
        "  7.1729779   7.1797899   7.23072594  7.12192401  7.220601    7.33887144\n",
        "  7.34371377  7.22143698  7.1226437   7.23319369  7.17881426  7.17485477\n",
        "  7.07220643  7.06588092  7.24155437  7.12101542  7.32657631  7.30636497\n",
        "  7.30601652  7.32170125  7.11422981  7.24231904  7.074474    7.05441632\n",
        "  6.95052782  7.09045908  7.19106842  7.09967974  7.32022524  7.24543405\n",
        "  7.24271203  7.31302895  7.10230778  7.1902275   7.09745612  6.93343259\n",
        "  6.98691308  7.28283544  7.24898382  7.10354256  7.29325342  7.30449664\n",
        "  7.30373915  7.29148788  7.10247143  7.25164213  7.27952754  6.9949704\n",
        "  7.09619806  7.40883389  7.27945196  7.04365817  7.16880749  7.35350929\n",
        "  7.35765853  7.16827695  7.0381805   7.28471677  7.40450743  7.09941074\n",
        "  7.14868704  7.35297315  7.24073969  7.00422013  7.09574439  7.333862\n",
        "  7.33181832  7.0980456   7.0001524   7.24255189  7.3520896   7.15199753\n",
        "  7.31645624  7.36961453  7.33167632  7.07304316  7.16720397  7.38082143\n",
        "  7.3760438   7.1697076   7.0674741   7.32597258  7.36800255  7.31517999\n",
        "  7.46606627  7.32247928  7.38640111  7.21185079  7.32429384  7.48188024\n",
        "  7.48094815  7.32818277  7.21353698  7.38864488  7.33119643  7.45678436\n",
        "  7.14957217  7.08670038  7.21186112  7.20765669  7.26780082  7.43981562\n",
        "  7.4405225   7.26820324  7.20539264  7.21231446  7.08876186  7.15677949]\n"
       ]
      }
     ],
     "prompt_number": 110
    },
    {
     "cell_type": "markdown",
     "metadata": {},
     "source": [
      "So the ensemble average comes to the right thing.  (Curiously the Monte Carlo variances seem to be off by a factor of 2.  This could be an issue with complex numbers).  It does seem to be a cosmic variance issue.  Let's see if we can get the same sort of success with the $\\mathbf{E}_\\alpha \\propto \\mathbf{C}_{,\\alpha}$ version."
     ]
    },
    {
     "cell_type": "code",
     "collapsed": false,
     "input": [
      "unnormedWind = 0.5 * np.einsum('aij,bji', CcommaCollection,CcommaCollection)\n",
      "diagNorms = np.sum(unnormedWind, axis=1)\n",
      "diagMmatrix = np.diagflat(1 / diagNorms)\n",
      "diagNormedWind = np.einsum('ij,jk', diagMmatrix, unnormedWind)"
     ],
     "language": "python",
     "metadata": {},
     "outputs": [],
     "prompt_number": 111
    },
    {
     "cell_type": "code",
     "collapsed": false,
     "input": [
      "numTrials = 5000\n",
      "bandNumForSlice = 50\n",
      "qhatMean = np.zeros(numBands)\n",
      "meanSlice = np.zeros(numTrials)\n",
      "qhatVariance = np.zeros((numBands,numBands))\n",
      "for i in range(numTrials):\n",
      "    zRand = np.random.normal(size=numFreqs)\n",
      "    xTemp = np.copy(np.einsum('ij,j', GammaMatrix, zRand))\n",
      "    qhatRealization = 0.5 * np.einsum('i,ai',np.conjugate(xTemp), \\\n",
      "                 np.einsum('aij,j',CcommaCollection,xTemp))\n",
      "    qhatMean += qhatRealization\n",
      "    meanSlice[i] = qhatRealization[bandNumForSlice]\n",
      "    qhatVariance += np.outer(qhatRealization,np.conjugate(qhatRealization))\n",
      "qhatMean /= numTrials\n",
      "qhatVariance /= numTrials\n",
      "qhatVariance -= np.outer(qhatMean, np.conjugate(qhatMean))"
     ],
     "language": "python",
     "metadata": {},
     "outputs": [],
     "prompt_number": 112
    },
    {
     "cell_type": "code",
     "collapsed": false,
     "input": [
      "phatMean = np.dot(diagMmatrix,qhatMean)\n",
      "phatVariance = np.dot(diagMmatrix,np.dot(qhatVariance,np.conjugate(diagMmatrix).T))"
     ],
     "language": "python",
     "metadata": {},
     "outputs": [],
     "prompt_number": 113
    },
    {
     "cell_type": "code",
     "collapsed": false,
     "input": [
      "np.real(phatMean)"
     ],
     "language": "python",
     "metadata": {},
     "outputs": [
      {
       "metadata": {},
       "output_type": "pyout",
       "prompt_number": 114,
       "text": [
        "array([ 7.13285993,  7.19263402,  7.17296223,  7.13864233,  7.10341371,\n",
        "        7.23030844,  7.23030844,  7.10341371,  7.13864233,  7.17296223,\n",
        "        7.19263402,  7.13285993,  7.13281592,  7.19264182,  7.17301823,\n",
        "        7.13857524,  7.10342108,  7.23047228,  7.23047228,  7.10342108,\n",
        "        7.13857524,  7.17301823,  7.19264182,  7.13281592,  7.13277289,\n",
        "        7.19264992,  7.17307552,  7.13850741,  7.10342939,  7.23063643,\n",
        "        7.23063643,  7.10342939,  7.13850741,  7.17307552,  7.19264992,\n",
        "        7.13277289,  7.13273088,  7.19265833,  7.17313411,  7.13843886,\n",
        "        7.10343866,  7.23080084,  7.23080084,  7.10343866,  7.13843886,\n",
        "        7.17313411,  7.19265833,  7.13273088,  7.13268994,  7.19266706,\n",
        "        7.17319401,  7.13836959,  7.10344891,  7.23096548,  7.23096548,\n",
        "        7.10344891,  7.13836959,  7.17319401,  7.19266706,  7.13268994,\n",
        "        7.13265013,  7.19267613,  7.17325524,  7.13829961,  7.10346018,\n",
        "        7.23113028,  7.23113028,  7.10346018,  7.13829961,  7.17325524,\n",
        "        7.19267613,  7.13265013,  7.13261149,  7.19268554,  7.17331783,\n",
        "        7.13822893,  7.10347249,  7.2312952 ,  7.2312952 ,  7.10347249,\n",
        "        7.13822893,  7.17331783,  7.19268554,  7.13261149,  7.13257408,\n",
        "        7.1926953 ,  7.17338178,  7.13815755,  7.10348585,  7.23146019,\n",
        "        7.23146019,  7.10348585,  7.13815755,  7.17338178,  7.1926953 ,\n",
        "        7.13257408,  7.13253794,  7.19270543,  7.17344712,  7.13808548,\n",
        "        7.1035003 ,  7.23162521,  7.23162521,  7.1035003 ,  7.13808548,\n",
        "        7.17344712,  7.19270543,  7.13253794,  7.13250312,  7.19271594,\n",
        "        7.17351385,  7.13801273,  7.10351585,  7.23179019,  7.23179019,\n",
        "        7.10351585,  7.13801273,  7.17351385,  7.19271594,  7.13250312])"
       ]
      }
     ],
     "prompt_number": 114
    },
    {
     "cell_type": "markdown",
     "metadata": {},
     "source": [
      "Ok good.  It works for the unweighted estimator too.  Let's see what happens with the optimal estimator, but with the pseudoinverse."
     ]
    },
    {
     "cell_type": "code",
     "collapsed": false,
     "input": [
      "Cinv = np.linalg.pinv(totalCovar)\n",
      "CcommaCinv = np.einsum('aik,kj', CcommaCollection,Cinv)\n",
      "unnormedWind = 0.5 * np.einsum('aij,bji', CcommaCinv,CcommaCinv)\n",
      "diagNorms = np.sum(unnormedWind, axis=1)\n",
      "diagMmatrix = np.diagflat(1 / diagNorms)\n",
      "diagNormedWind = np.einsum('ij,jk', diagMmatrix, unnormedWind)"
     ],
     "language": "python",
     "metadata": {},
     "outputs": [],
     "prompt_number": 39
    },
    {
     "cell_type": "code",
     "collapsed": false,
     "input": [
      "numTrials = 5000\n",
      "bandNumForSlice = 50\n",
      "qhatMean = np.zeros(numBands)\n",
      "meanSlice = np.zeros(numTrials)\n",
      "qhatVariance = np.zeros((numBands,numBands))\n",
      "for i in range(numTrials):\n",
      "    zRand = np.random.normal(size=numFreqs)\n",
      "    xTemp = np.copy(np.einsum('ij,j', GammaMatrix, zRand))\n",
      "    whitenedRealization = np.dot(Cinv,xTemp)\n",
      "    qhatRealization = 0.5 * np.einsum('i,ai',np.conjugate(whitenedRealization), \\\n",
      "                 np.einsum('aij,j',CcommaCollection,whitenedRealization))\n",
      "    qhatMean += qhatRealization\n",
      "    meanSlice[i] = qhatRealization[bandNumForSlice]\n",
      "    qhatVariance += np.outer(qhatRealization,np.conjugate(qhatRealization))\n",
      "qhatMean /= numTrials\n",
      "qhatVariance /= numTrials\n",
      "qhatVariance -= np.outer(qhatMean, np.conjugate(qhatMean))"
     ],
     "language": "python",
     "metadata": {},
     "outputs": [],
     "prompt_number": 40
    },
    {
     "cell_type": "code",
     "collapsed": false,
     "input": [
      "phatMean = np.dot(diagMmatrix,qhatMean)\n",
      "phatVariance = np.dot(diagMmatrix,np.dot(qhatVariance,np.conjugate(diagMmatrix).T))"
     ],
     "language": "python",
     "metadata": {},
     "outputs": [],
     "prompt_number": 41
    },
    {
     "cell_type": "code",
     "collapsed": false,
     "input": [
      "np.real(phatMean)"
     ],
     "language": "python",
     "metadata": {},
     "outputs": [
      {
       "metadata": {},
       "output_type": "pyout",
       "prompt_number": 42,
       "text": [
        "array([ 7.25513002,  7.20500701,  7.25023098,  7.26053062,  7.10876702,\n",
        "        6.93139904,  6.94774673,  7.10647654,  7.25106161,  7.25180678,\n",
        "        7.16927137,  7.23043263,  7.20386285,  7.14407551,  7.15750592,\n",
        "        7.33640368,  7.14350587,  7.14804076,  7.13612077,  7.14437145,\n",
        "        7.34365534,  7.15672976,  7.1702763 ,  7.22215496,  7.23668865,\n",
        "        7.13352507,  7.07798586,  7.33272583,  7.1766386 ,  7.26803877,\n",
        "        7.23383539,  7.18012722,  7.35219809,  7.07635467,  7.20808792,\n",
        "        7.28901895,  7.20931905,  7.16415307,  7.06178322,  7.30766106,\n",
        "        7.14870435,  7.21094516,  7.17831027,  7.15255591,  7.3257973 ,\n",
        "        7.06072924,  7.23699365,  7.25994994,  7.15237918,  7.18866353,\n",
        "        7.05146797,  7.26314294,  7.10800329,  7.1749058 ,  7.15682213,\n",
        "        7.11091458,  7.27253195,  7.05107864,  7.22933303,  7.1801637 ,\n",
        "        7.18812971,  7.17570474,  7.06568673,  7.18512006,  7.11944785,\n",
        "        7.23045918,  7.2436486 ,  7.11858985,  7.17746851,  7.06557692,\n",
        "        7.1449809 ,  7.16685554,  7.29297666,  7.15490283,  7.07997129,\n",
        "        7.14376472,  7.17563628,  7.27506804,  7.30602567,  7.17166049,\n",
        "        7.12754236,  7.07946155,  7.08400378,  7.24343026,  7.33443956,\n",
        "        7.17240462,  7.07249093,  7.13568271,  7.21857579,  7.24478441,\n",
        "        7.27765252,  7.21372837,  7.11898841,  7.07138321,  7.09579778,\n",
        "        7.2808406 ,  7.24859374,  7.24590168,  7.1563669 ,  7.17815438,\n",
        "        7.254561  ,  7.17748634,  7.19196737,  7.25204262,  7.17106943,\n",
        "        7.15559408,  7.2110062 ,  7.22473251,  7.21182795,  7.21304027,\n",
        "        7.35343486,  7.26904484,  7.23445996,  7.26603294,  7.2513735 ,\n",
        "        7.23609984,  7.27674906,  7.35476772,  7.24942452,  7.23690911])"
       ]
      }
     ],
     "prompt_number": 42
    },
    {
     "cell_type": "markdown",
     "metadata": {},
     "source": [
      "Ok, so we basically get the same thing.  But I do kinda like doing the pseudo-inversing by hand, so I know exactly which modes went into it.  Let's try a power spectrum that's not flat.  Start with a power spectrum that's a separable function of $u$ and $\\eta$."
     ]
    },
    {
     "cell_type": "code",
     "collapsed": false,
     "input": [
      "inputP = 8.6 * np.ones(len(uGrid)*len(etaGrid))\n",
      "uSepFct = 34.*np.sin(8* uGrid / np.pi)**2\n",
      "etaSepFct = np.sin(3* etaGrid / np.pi)**2\n",
      "pspecPic = np.outer(uSepFct,etaSepFct)\n",
      "inputP = np.reshape(pspecPic, (numBands))"
     ],
     "language": "python",
     "metadata": {},
     "outputs": [],
     "prompt_number": 115
    },
    {
     "cell_type": "code",
     "collapsed": false,
     "input": [
      "plt.pcolor(np.transpose(pspecPic))"
     ],
     "language": "python",
     "metadata": {},
     "outputs": [
      {
       "metadata": {},
       "output_type": "pyout",
       "prompt_number": 116,
       "text": [
        "<matplotlib.collections.PolyCollection at 0x11d156f90>"
       ]
      },
      {
       "metadata": {},
       "output_type": "display_data",
       "png": "[encoded data removed]",
       "text": [
        "<matplotlib.figure.Figure at 0x126934190>"
       ]
      }
     ],
     "prompt_number": 116
    },
    {
     "cell_type": "code",
     "collapsed": false,
     "input": [
      "totalCovar = np.einsum('a,aij', inputP, CcommaCollection)"
     ],
     "language": "python",
     "metadata": {},
     "outputs": [],
     "prompt_number": 117
    },
    {
     "cell_type": "code",
     "collapsed": false,
     "input": [
      "f, ax = plt.subplots(figsize=(10,6))\n",
      "ax.semilogy(np.real(np.linalg.eigvals(totalCovar)))"
     ],
     "language": "python",
     "metadata": {},
     "outputs": [
      {
       "metadata": {},
       "output_type": "pyout",
       "prompt_number": 118,
       "text": [
        "[<matplotlib.lines.Line2D at 0x126c53950>]"
       ]
      },
      {
       "metadata": {},
       "output_type": "display_data",
       "png": "[encoded data removed]",
       "text": [
        "<matplotlib.figure.Figure at 0x126c42290>"
       ]
      }
     ],
     "prompt_number": 118
    },
    {
     "cell_type": "markdown",
     "metadata": {},
     "source": [
      "We see that with this less trivial power spectrum, the scree plot is a little more complicated.  This means that the number of eigenmodes to include becomes a little more of a judgement call.  We might have to adjust a little bit, but let's start with the same number as before."
     ]
    },
    {
     "cell_type": "code",
     "collapsed": false,
     "input": [
      "eigVals, Vmatrix = np.linalg.eigh(totalCovar)"
     ],
     "language": "python",
     "metadata": {},
     "outputs": [],
     "prompt_number": 119
    },
    {
     "cell_type": "code",
     "collapsed": false,
     "input": [
      "eigToInclude = 45 # Number of eigenmodes to include in the truncation\n",
      "truncatedEigen = [eigs if i > numFreqs-eigToInclude-1 else 0. for i,eigs in enumerate(eigVals)]"
     ],
     "language": "python",
     "metadata": {},
     "outputs": [],
     "prompt_number": 120
    },
    {
     "cell_type": "code",
     "collapsed": false,
     "input": [
      "GammaMatrix = np.dot(Vmatrix,np.diagflat(np.sqrt(np.real(truncatedEigen))))"
     ],
     "language": "python",
     "metadata": {},
     "outputs": [],
     "prompt_number": 121
    },
    {
     "cell_type": "code",
     "collapsed": false,
     "input": [
      "truncatedEigenInv = np.array([1./eigs if eigs > 0. else 0. for eigs in truncatedEigen])"
     ],
     "language": "python",
     "metadata": {},
     "outputs": [],
     "prompt_number": 122
    },
    {
     "cell_type": "code",
     "collapsed": false,
     "input": [
      "LPLmatrices = np.einsum('aik,kj',np.einsum('ij,ajk', np.conjugate(Vmatrix).T, CcommaCollection),Vmatrix)"
     ],
     "language": "python",
     "metadata": {},
     "outputs": [],
     "prompt_number": 123
    },
    {
     "cell_type": "code",
     "collapsed": false,
     "input": [
      "weightedLPLmatrices = np.einsum('aik,kj',LPLmatrices,np.diagflat(truncatedEigenInv))"
     ],
     "language": "python",
     "metadata": {},
     "outputs": [],
     "prompt_number": 124
    },
    {
     "cell_type": "code",
     "collapsed": false,
     "input": [
      "fisher = 0.5 * np.einsum('aij,bji', weightedLPLmatrices,weightedLPLmatrices)\n",
      "diagNorms = np.sum(fisher, axis=1)\n",
      "diagMmatrix = np.diagflat(1 / diagNorms)\n",
      "diagNormedWind = np.einsum('ij,jk', diagMmatrix, fisher)"
     ],
     "language": "python",
     "metadata": {},
     "outputs": [],
     "prompt_number": 125
    },
    {
     "cell_type": "code",
     "collapsed": false,
     "input": [
      "f, ax = plt.subplots(figsize=(10,6))\n",
      "ax.plot(diagNormedWind[96])"
     ],
     "language": "python",
     "metadata": {},
     "outputs": [
      {
       "metadata": {},
       "output_type": "pyout",
       "prompt_number": 126,
       "text": [
        "[<matplotlib.lines.Line2D at 0x127cbba90>]"
       ]
      },
      {
       "metadata": {},
       "output_type": "display_data",
       "png": "[encoded data removed]",
       "text": [
        "<matplotlib.figure.Figure at 0x11d13fd50>"
       ]
      }
     ],
     "prompt_number": 126
    },
    {
     "cell_type": "code",
     "collapsed": false,
     "input": [
      "numTrials = 5000\n",
      "bandNumForSlice = 50\n",
      "qhatMean = np.zeros(numBands)\n",
      "meanSlice = np.zeros(numTrials)\n",
      "qhatVariance = np.zeros((numBands,numBands))\n",
      "for i in range(numTrials):\n",
      "    zRand = np.random.normal(size=numFreqs)\n",
      "    xTemp = np.copy(np.einsum('ij,j', GammaMatrix, zRand))\n",
      "    whitenedRealization = np.dot(np.diagflat(truncatedEigenInv),np.dot(np.conjugate(Vmatrix).T,xTemp))\n",
      "    qhatRealization = 0.5 * np.einsum('i,ai',np.conjugate(whitenedRealization), \\\n",
      "                 np.einsum('aij,j',LPLmatrices,whitenedRealization))\n",
      "    qhatMean += qhatRealization\n",
      "    meanSlice[i] = qhatRealization[bandNumForSlice]\n",
      "    qhatVariance += np.outer(qhatRealization,np.conjugate(qhatRealization))\n",
      "qhatMean /= numTrials\n",
      "qhatVariance /= numTrials\n",
      "qhatVariance -= np.outer(qhatMean, np.conjugate(qhatMean))"
     ],
     "language": "python",
     "metadata": {},
     "outputs": [],
     "prompt_number": 127
    },
    {
     "cell_type": "code",
     "collapsed": false,
     "input": [
      "phatMean = np.dot(diagMmatrix,qhatMean)\n",
      "phatVariance = np.dot(diagMmatrix,np.dot(qhatVariance,np.conjugate(diagMmatrix).T))"
     ],
     "language": "python",
     "metadata": {},
     "outputs": [],
     "prompt_number": 128
    },
    {
     "cell_type": "code",
     "collapsed": false,
     "input": [
      "print np.real(phatMean)"
     ],
     "language": "python",
     "metadata": {},
     "outputs": [
      {
       "output_type": "stream",
       "stream": "stdout",
       "text": [
        "[  0.30597071  20.23898892   0.82962779  17.64689023   5.33209831\n",
        "  11.90111724  11.89994435   5.33236069  17.64800375   0.82963997\n",
        "  20.23452253   0.30597015   0.33800101  23.49229054   0.92912503\n",
        "  20.08355723   5.99147998  13.2092725   13.2127719    5.98900392\n",
        "  20.07557946   0.92909323  23.498456     0.3380081    0.43265354\n",
        "  28.90775401   1.21318009  25.27273101   7.55368704  16.44773957\n",
        "  16.44547767   7.55394089  25.25888845   1.21313194  28.89943605\n",
        "   0.43263866   0.45323187  29.91721757   1.27291655  26.21947295\n",
        "   7.86998204  17.09384993  17.09756972   7.86917899  26.23210554\n",
        "   1.27289007  29.88810595   0.45323875   0.45957706  31.82208214\n",
        "   1.29824621  27.61264309   8.15789551  17.56599833  17.56735071\n",
        "   8.15444661  27.59402253   1.29825745  31.82092446   0.45959136\n",
        "   0.46763147  32.75710846   1.33123486  28.59399753   8.49055003\n",
        "  18.07498216  18.07818707   8.49283797  28.56719215   1.33122063\n",
        "  32.75464458   0.46759532   0.46576172  31.01282244   1.31076245\n",
        "  27.45436849   8.33327077  17.81327317  17.81948147   8.33250343\n",
        "  27.45425276   1.31075926  31.01942346   0.46575362   0.45831825\n",
        "  30.1574737    1.25767072  26.62640578   8.07116363  17.38440959\n",
        "  17.38856854   8.07114793  26.61406626   1.25762288  30.1631566\n",
        "   0.45829961   0.39743693  26.94703775   1.07625039  23.28172236\n",
        "   7.07337297  15.43297427  15.43675053   7.07592424  23.24804059\n",
        "   1.07625143  26.93498682   0.39744851   0.34392049  23.60310669\n",
        "   0.98029044  20.17399219   6.19626858  13.79241599  13.79220109\n",
        "   6.19620043  20.17131942   0.98028572  23.60650861   0.34392037]\n"
       ]
      }
     ],
     "prompt_number": 129
    },
    {
     "cell_type": "code",
     "collapsed": false,
     "input": [
      "print inputP"
     ],
     "language": "python",
     "metadata": {},
     "outputs": [
      {
       "output_type": "stream",
       "stream": "stdout",
       "text": [
        "[  0.29247835  18.92968498   0.79606625  16.45886053   4.96607838\n",
        "  11.04204701  11.04204701   4.96607838  16.45886053   0.79606625\n",
        "  18.92968498   0.29247835   0.36817292  23.82876304   1.00209138\n",
        "  20.71847936   6.25131929  13.89977287  13.89977287   6.25131929\n",
        "  20.71847936   1.00209138  23.82876304   0.36817292   0.43438481\n",
        "  28.11410677   1.18230661  24.44447241   7.37555104  16.39949577\n",
        "  16.39949577   7.37555104  24.44447241   1.18230661  28.11410677\n",
        "   0.43438481   0.48518793  31.40216935   1.32058232  27.30335588\n",
        "   8.23815264  18.3174855   18.3174855    8.23815264  27.30335588\n",
        "   1.32058232  31.40216935   0.48518793   0.51603531  33.39866261\n",
        "   1.40454256  29.03925397   8.76191951  19.48207818  19.48207818\n",
        "   8.76191951  29.03925397   1.40454256  33.39866261   0.51603531\n",
        "   0.52416603  33.92489641   1.42667272  29.49680035   8.89997349\n",
        "  19.78904041  19.78904041   8.89997349  29.49680035   1.42667272\n",
        "  33.92489641   0.52416603   0.50885238  32.93377179   1.38499211\n",
        "  28.63504369   8.63995846  19.21089848  19.21089848   8.63995846\n",
        "  28.63504369   1.38499211  32.93377179   0.50885238   0.47146497\n",
        "  30.51399636   1.28323122  26.53111295   8.00514629  17.79939723\n",
        "  17.79939723   8.00514629  26.53111295   1.28323122  30.51399636\n",
        "   0.47146497   0.41535004  26.88214488   1.13049786  23.37331412\n",
        "   7.05235394  15.68086885  15.68086885   7.05235394  23.37331412\n",
        "   1.13049786  26.88214488   0.41535004   0.34552999  22.36327528\n",
        "   0.94046197  19.4442765    5.86685821  13.04492585  13.04492585\n",
        "   5.86685821  19.4442765    0.94046197  22.36327528   0.34552999]\n"
       ]
      }
     ],
     "prompt_number": 130
    },
    {
     "cell_type": "code",
     "collapsed": false,
     "input": [
      "plt.pcolor(np.transpose(np.reshape(np.real(phatMean),(uBinNumber,etaBinNumber))))"
     ],
     "language": "python",
     "metadata": {},
     "outputs": [
      {
       "metadata": {},
       "output_type": "pyout",
       "prompt_number": 131,
       "text": [
        "<matplotlib.collections.PolyCollection at 0x127c20f10>"
       ]
      },
      {
       "metadata": {},
       "output_type": "display_data",
       "png": "[encoded data removed]",
       "text": [
        "<matplotlib.figure.Figure at 0x127cc1050>"
       ]
      }
     ],
     "prompt_number": 131
    },
    {
     "cell_type": "markdown",
     "metadata": {},
     "source": [
      "So we see that the rough features are correctly captured.  We only expect rough agreement because our estimator has window functions of non-zero width, which means we expect\n",
      "\n",
      "$\\langle \\hat{p}_\\alpha \\rangle = \\sum_{\\beta} \\mathbf{W}_{\\alpha \\beta} p_\\beta$.\n",
      "\n",
      "We can test this, actually."
     ]
    },
    {
     "cell_type": "code",
     "collapsed": false,
     "input": [
      "expectedMeasurement = np.dot(diagNormedWind,inputP)"
     ],
     "language": "python",
     "metadata": {},
     "outputs": [],
     "prompt_number": 132
    },
    {
     "cell_type": "code",
     "collapsed": false,
     "input": [
      "print np.real(expectedMeasurement)"
     ],
     "language": "python",
     "metadata": {},
     "outputs": [
      {
       "output_type": "stream",
       "stream": "stdout",
       "text": [
        "[  0.31198852  19.92760289   0.84914097  17.4379467    5.29634482\n",
        "  11.77225965  11.77218426   5.29637433  17.44323892   0.84914497\n",
        "  19.92852907   0.31198825   0.34855405  22.73014241   0.94873246\n",
        "  19.75056613   5.92704152  13.17460797  13.17545126   5.92608588\n",
        "  19.74425277   0.94872045  22.72763325   0.34855752   0.4390874   27.952679\n",
        "   1.19508503  24.5443338    7.45950131  16.5757682   16.57520069\n",
        "   7.45949606  24.55271574   1.19506484  27.94916076   0.43908015\n",
        "   0.45785272  29.57668838   1.24620827  25.74932839   7.77401851\n",
        "  17.28367757  17.28446012   7.77371897  25.74605222   1.24619501\n",
        "  29.61676035   0.45785606   0.47045519  30.60123868   1.280621\n",
        "  26.63830108   8.00083071  17.78454894  17.783945     7.99980469\n",
        "  26.62412739   1.28062391  30.59393927   0.47046214   0.48661094\n",
        "  31.41163293   1.32447042  27.46628534   8.27561243  18.39177094\n",
        "  18.39187177   8.27664205  27.46122913   1.32446155  31.40687335\n",
        "   0.48659333   0.47981727  31.07756256   1.30594968  27.01422481\n",
        "   8.14801263  18.11501533  18.11551546   8.14776296  27.01271023\n",
        "   1.30594761  31.06945914   0.47981334   0.4631641   29.70612605\n",
        "   1.26071347  25.9958018    7.87008163  17.48987974  17.49030945\n",
        "   7.87013728  25.99813512   1.26069301  29.68931858   0.46315502\n",
        "   0.40179266  26.02027179   1.09367124  22.70254005   6.83263887\n",
        "  15.18687052  15.18744442   6.83369318  22.69937593   1.09367713\n",
        "  26.02392173   0.40179831   0.35871404  23.01967887   0.97636834\n",
        "  20.10515483   6.09106068  13.53967639  13.53941459   6.09105772\n",
        "  20.10886574   0.97636287  23.01988028   0.35871397]\n"
       ]
      }
     ],
     "prompt_number": 133
    },
    {
     "cell_type": "markdown",
     "metadata": {},
     "source": [
      "Wonderful! The input power spectrum, when \"convolved\" with the window functions (\"covolution\" in quotes because the kernel is not translation-invariant) gives an answer that is closer to the results of the Monte Carlo.  Let's now experiment with the details of the $u\\eta$ grid."
     ]
    },
    {
     "cell_type": "markdown",
     "metadata": {},
     "source": [
      "First try keeping the range the same, but halving the resolution on the grid in both directions."
     ]
    },
    {
     "cell_type": "code",
     "collapsed": false,
     "input": [
      "uBinNumber = 5\n",
      "etaBinNumber = 6\n",
      "numBands = uBinNumber * etaBinNumber\n",
      "uGrid = np.linspace(uForBaseline[0],uForBaseline[-1],uBinNumber)\n",
      "etaGrid = np.linspace(-1/(2*freqRes),1/(2*freqRes), etaBinNumber)"
     ],
     "language": "python",
     "metadata": {},
     "outputs": [],
     "prompt_number": 137
    },
    {
     "cell_type": "code",
     "collapsed": false,
     "input": [
      "uGrid"
     ],
     "language": "python",
     "metadata": {},
     "outputs": [
      {
       "metadata": {},
       "output_type": "pyout",
       "prompt_number": 138,
       "text": [
        "array([ 7.73333333,  7.866     ,  7.99866667,  8.13133333,  8.264     ])"
       ]
      }
     ],
     "prompt_number": 138
    },
    {
     "cell_type": "code",
     "collapsed": false,
     "input": [
      "etaGrid"
     ],
     "language": "python",
     "metadata": {},
     "outputs": [
      {
       "metadata": {},
       "output_type": "pyout",
       "prompt_number": 139,
       "text": [
        "array([-10.,  -6.,  -2.,   2.,   6.,  10.])"
       ]
      }
     ],
     "prompt_number": 139
    },
    {
     "cell_type": "markdown",
     "metadata": {},
     "source": [
      "Now this is interesting.  What we'd like to do, actually, is to generate the data from the \"full\" covariance that was constructed from our highly-resolved set of bands.  We would also like to use the high resolution covariance model.  The only things we want to change, really, are the $\\mathbf{C}_{,\\alpha}$ matrices.  Doing things this way should provide a better test than if we regenerated our random realizations of the data with the coarse bandpowers, because then we'd basically be doing the same thing as before, since the code doesn't \"know\" that we halved the number of bins.  It just accepts the new number of bins as the \"number of bins in our Universe\"."
     ]
    },
    {
     "cell_type": "code",
     "collapsed": false,
     "input": [
      "CcommaCollection = CcommaMatrix(uGrid,etaGrid,freqVect)\n",
      "LPLmatrices = np.einsum('aik,kj',np.einsum('ij,ajk', np.conjugate(Vmatrix).T, CcommaCollection),Vmatrix)\n",
      "weightedLPLmatrices = np.einsum('aik,kj',LPLmatrices,np.diagflat(truncatedEigenInv))\n",
      "fisher = 0.5 * np.einsum('aij,bji', weightedLPLmatrices,weightedLPLmatrices)\n",
      "diagNorms = np.sum(fisher, axis=1)\n",
      "diagMmatrix = np.diagflat(1 / diagNorms)\n",
      "diagNormedWind = np.einsum('ij,jk', diagMmatrix, fisher)"
     ],
     "language": "python",
     "metadata": {},
     "outputs": [],
     "prompt_number": 140
    },
    {
     "cell_type": "code",
     "collapsed": false,
     "input": [
      "f, ax = plt.subplots(figsize=(10,6))\n",
      "ax.plot(diagNormedWind[15])"
     ],
     "language": "python",
     "metadata": {},
     "outputs": [
      {
       "metadata": {},
       "output_type": "pyout",
       "prompt_number": 141,
       "text": [
        "[<matplotlib.lines.Line2D at 0x127c57410>]"
       ]
      },
      {
       "metadata": {},
       "output_type": "display_data",
       "png": "[encoded data removed]",
       "text": [
        "<matplotlib.figure.Figure at 0x127c0f6d0>"
       ]
      }
     ],
     "prompt_number": 141
    },
    {
     "cell_type": "markdown",
     "metadata": {},
     "source": [
      "Now these windows are quite interesting.  First, they have broader responses in the $\\eta$ direction.  (And that's not just because the bins are thicker.  Note that the window functions are plotted in terms of bin numbers (not absolute $\\eta$) so the non-delta function behavior we're seeing here indicates some width to the windows.  Second, note that there's a broad response now in the $u$ direction; the estimator is not really isolating $u$ information.  Some thoughts about this:\n",
      "\n",
      "* It's a little surprising that the window functions change so much when we halve the resolution.  This could suggest that we need to integrate over the bands.  Hopefully then things are a little less sensitive to changes in the band size.\n",
      "* Alternatively, one could imagine the following exercise---we continue halving the band resolution until we get convergence.  Then that suggests the natural scale at which we have converged.  If we did this in our current code, I would bet that our old resolution is where it converges, since that's the \"native\" resolution of the signal that has been put in.\n",
      "* This could also be interpreted as a failure of the smooth power spectrum approximation.  Perhaps it is time to switch to approximating the ratio of the bandpower to the prior as the piecewise constant things.\n",
      "* If these results end up horrible, I wonder if decorrelation would be helpful."
     ]
    },
    {
     "cell_type": "code",
     "collapsed": false,
     "input": [
      "numTrials = 5000\n",
      "bandNumForSlice = 25\n",
      "qhatMean = np.zeros(numBands)\n",
      "meanSlice = np.zeros(numTrials)\n",
      "qhatVariance = np.zeros((numBands,numBands))\n",
      "for i in range(numTrials):\n",
      "    zRand = np.random.normal(size=numFreqs)\n",
      "    xTemp = np.copy(np.einsum('ij,j', GammaMatrix, zRand))\n",
      "    whitenedRealization = np.dot(np.diagflat(truncatedEigenInv),np.dot(np.conjugate(Vmatrix).T,xTemp))\n",
      "    qhatRealization = 0.5 * np.einsum('i,ai',np.conjugate(whitenedRealization), \\\n",
      "                 np.einsum('aij,j',LPLmatrices,whitenedRealization))\n",
      "    qhatMean += qhatRealization\n",
      "    meanSlice[i] = qhatRealization[bandNumForSlice]\n",
      "    qhatVariance += np.outer(qhatRealization,np.conjugate(qhatRealization))\n",
      "qhatMean /= numTrials\n",
      "qhatVariance /= numTrials\n",
      "qhatVariance -= np.outer(qhatMean, np.conjugate(qhatMean))"
     ],
     "language": "python",
     "metadata": {},
     "outputs": [],
     "prompt_number": 142
    },
    {
     "cell_type": "code",
     "collapsed": false,
     "input": [
      "phatMean = np.dot(diagMmatrix,qhatMean)\n",
      "phatVariance = np.dot(diagMmatrix,np.dot(qhatVariance,np.conjugate(diagMmatrix).T))"
     ],
     "language": "python",
     "metadata": {},
     "outputs": [],
     "prompt_number": 143
    },
    {
     "cell_type": "code",
     "collapsed": false,
     "input": [
      "print np.real(phatMean)"
     ],
     "language": "python",
     "metadata": {},
     "outputs": [
      {
       "output_type": "stream",
       "stream": "stdout",
       "text": [
        "[  1.89144316e-08   2.37779374e-12   1.91879297e-12   1.91879018e-12\n",
        "   2.59164939e-12   1.92660480e-08   1.70588566e-08   2.30863091e-12\n",
        "   1.91877164e-12   1.91877110e-12   2.51315729e-12   1.41442765e-08\n",
        "   4.17818710e-09   2.24589849e-12   1.91875105e-12   1.91875294e-12\n",
        "   2.42755176e-12   4.70310966e-09   6.54456439e-09   2.19171779e-12\n",
        "   1.91873185e-12   1.91873631e-12   2.34518208e-12   7.52402680e-09\n",
        "   9.08017288e-09   2.14640572e-12   1.91871479e-12   1.91872201e-12\n",
        "   2.27214337e-12   9.09578779e-09]\n"
       ]
      }
     ],
     "prompt_number": 144
    },
    {
     "cell_type": "code",
     "collapsed": false,
     "input": [
      "plt.pcolor(np.transpose(np.reshape(np.real(phatMean),(uBinNumber,etaBinNumber))))"
     ],
     "language": "python",
     "metadata": {},
     "outputs": [
      {
       "metadata": {},
       "output_type": "pyout",
       "prompt_number": 197,
       "text": [
        "<matplotlib.collections.PolyCollection at 0x110c06d10>"
       ]
      },
      {
       "metadata": {},
       "output_type": "display_data",
       "png": "[encoded data removed]",
       "text": [
        "<matplotlib.figure.Figure at 0x10ac17690>"
       ]
      }
     ],
     "prompt_number": 197
    },
    {
     "cell_type": "code",
     "collapsed": false,
     "input": [
      "np.linalg.eigvalsh(fisher)"
     ],
     "language": "python",
     "metadata": {},
     "outputs": [
      {
       "metadata": {},
       "output_type": "pyout",
       "prompt_number": 199,
       "text": [
        "array([  2.13340611e-02+0.j,   1.75217161e-01+0.j,   2.25234029e-01+0.j,\n",
        "         2.70194158e-01+0.j,   4.86583809e-01+0.j,   7.36513956e-01+0.j,\n",
        "         2.59055121e+00+0.j,   3.21182629e+00+0.j,   7.19891802e+00+0.j,\n",
        "         9.09208258e+00+0.j,   2.82585662e+01+0.j,   7.04960788e+01+0.j,\n",
        "         8.36955919e+01+0.j,   1.25712483e+02+0.j,   3.43704876e+06+0.j,\n",
        "         5.04134165e+06+0.j,   6.15343918e+06+0.j,   2.37260870e+07+0.j,\n",
        "         1.15292360e+10+0.j,   1.60886940e+10+0.j,   8.95509011e+10+0.j,\n",
        "         3.37715367e+11+0.j,   1.22507761e+13+0.j,   2.10808864e+13+0.j,\n",
        "         2.36981719e+13+0.j,   7.30399129e+13+0.j,   1.40515014e+16+0.j,\n",
        "         1.37071434e+17+0.j,   1.54830147e+17+0.j,   1.91894289e+17+0.j])"
       ]
      }
     ],
     "prompt_number": 199
    },
    {
     "cell_type": "markdown",
     "metadata": {},
     "source": [
      "Ok, so that's a bit of a mess.  Let's try the opposite extreme.  Let's try doubling the resolution from before to see what happens.  Let's be systematic about this, so first we'll try to double the eta direction only."
     ]
    },
    {
     "cell_type": "code",
     "collapsed": false,
     "input": [
      "uBinNumber = 10\n",
      "etaBinNumber = 14\n",
      "numBands = uBinNumber * etaBinNumber\n",
      "uGrid = np.linspace(uForBaseline[0],uForBaseline[-1],uBinNumber)\n",
      "etaGrid = np.linspace(1/totalBand,1/(2*freqRes), etaBinNumber)"
     ],
     "language": "python",
     "metadata": {},
     "outputs": [],
     "prompt_number": 217
    },
    {
     "cell_type": "code",
     "collapsed": false,
     "input": [
      "CcommaCollection = CcommaMatrix(uGrid,etaGrid,freqVect)\n",
      "LPLmatrices = np.einsum('aik,kj',np.einsum('ij,ajk', np.conjugate(Vmatrix).T, CcommaCollection),Vmatrix)\n",
      "weightedLPLmatrices = np.einsum('aik,kj',LPLmatrices,np.diagflat(truncatedEigenInv))\n",
      "fisher = 0.5 * np.einsum('aij,bji', weightedLPLmatrices,weightedLPLmatrices)\n",
      "diagNorms = np.sum(fisher, axis=1)\n",
      "diagMmatrix = np.diagflat(1 / diagNorms)\n",
      "diagNormedWind = np.einsum('ij,jk', diagMmatrix, fisher)"
     ],
     "language": "python",
     "metadata": {},
     "outputs": [],
     "prompt_number": 218
    },
    {
     "cell_type": "code",
     "collapsed": false,
     "input": [
      "f, ax = plt.subplots(figsize=(10,6))\n",
      "ax.plot(diagNormedWind[18])"
     ],
     "language": "python",
     "metadata": {},
     "outputs": [
      {
       "metadata": {},
       "output_type": "pyout",
       "prompt_number": 219,
       "text": [
        "[<matplotlib.lines.Line2D at 0x1122db610>]"
       ]
      },
      {
       "metadata": {},
       "output_type": "display_data",
       "png": "[encoded data removed]",
       "text": [
        "<matplotlib.figure.Figure at 0x1122b8190>"
       ]
      }
     ],
     "prompt_number": 219
    },
    {
     "cell_type": "markdown",
     "metadata": {},
     "source": [
      "This is so bizarre.  I don't know what to make of it.  Maybe it's some kind of resonance effect.  In that case, integrating over the bands should help a lot."
     ]
    },
    {
     "cell_type": "code",
     "collapsed": false,
     "input": [
      "numTrials = 10000\n",
      "bandNumForSlice = 25\n",
      "qhatMean = np.zeros(numBands)\n",
      "meanSlice = np.zeros(numTrials)\n",
      "qhatVariance = np.zeros((numBands,numBands))\n",
      "for i in range(numTrials):\n",
      "    zRand = np.random.normal(size=numFreqs)\n",
      "    xTemp = np.copy(np.einsum('ij,j', GammaMatrix, zRand))\n",
      "    whitenedRealization = np.dot(np.diagflat(truncatedEigenInv),np.dot(np.conjugate(Vmatrix).T,xTemp))\n",
      "    qhatRealization = 0.5 * np.einsum('i,ai',np.conjugate(whitenedRealization), \\\n",
      "                 np.einsum('aij,j',LPLmatrices,whitenedRealization))\n",
      "    qhatMean += qhatRealization\n",
      "    meanSlice[i] = qhatRealization[bandNumForSlice]\n",
      "    qhatVariance += np.outer(qhatRealization,np.conjugate(qhatRealization))\n",
      "qhatMean /= numTrials\n",
      "qhatVariance /= numTrials\n",
      "qhatVariance -= np.outer(qhatMean, np.conjugate(qhatMean))\n",
      "phatMean = np.dot(diagMmatrix,qhatMean)\n",
      "phatVariance = np.dot(diagMmatrix,np.dot(qhatVariance,np.conjugate(diagMmatrix).T))"
     ],
     "language": "python",
     "metadata": {},
     "outputs": [],
     "prompt_number": 206
    },
    {
     "cell_type": "code",
     "collapsed": false,
     "input": [
      "print np.real(phatMean)"
     ],
     "language": "python",
     "metadata": {},
     "outputs": [
      {
       "output_type": "stream",
       "stream": "stdout",
       "text": [
        "[  3.85373055e-10   1.07236436e-10   7.74486215e-10   9.82071996e-11\n",
        "   2.98132772e-10   1.09367439e-10   1.09382205e-10   6.46866974e-11\n",
        "   5.53658848e-11   6.23839189e-11   7.76153644e-11   8.16823955e-11\n",
        "   3.36207509e-11   2.06883130e-11   1.31311187e-11   1.25527545e-11\n",
        "   1.55524977e-11   6.79195201e-11   5.49433157e-11   1.83777691e-10\n",
        "   7.02761984e-11   1.09819921e-09   1.28552229e-10   6.62037432e-10\n",
        "   1.76626083e-08   1.07117581e-10   7.66514264e-10   9.82115645e-11\n",
        "   2.97594763e-10   1.10118582e-10   1.09365681e-10   6.46496611e-11\n",
        "   5.53636986e-11   6.23842266e-11   7.76789899e-11   8.67237365e-11\n",
        "   3.38038565e-11   2.06897929e-11   1.31310665e-11   1.25526924e-11\n",
        "   1.55514362e-11   6.78792289e-11   5.61918463e-11   1.83418354e-10\n",
        "   7.02815953e-11   1.09113089e-09   1.28078032e-10   2.95689252e-08\n",
        "   3.34200103e-10   1.07011776e-10   7.58405184e-10   9.82159091e-11\n",
        "   2.97037986e-10   1.10822689e-10   1.09348796e-10   6.46168899e-11\n",
        "   5.53615383e-11   6.23840387e-11   7.77373771e-11   9.23788710e-11\n",
        "   3.39913913e-11   2.06912594e-11   1.31310305e-11   1.25526363e-11\n",
        "   1.55505392e-11   6.78366173e-11   5.74033341e-11   1.83044066e-10\n",
        "   7.02866043e-11   1.08384071e-09   1.27657459e-10   5.60327736e-10\n",
        "   3.05717568e-10   1.06920922e-10   7.50177594e-10   9.82202251e-11\n",
        "   2.96462364e-10   1.11464715e-10   1.09331547e-10   6.45886923e-11\n",
        "   5.53594052e-11   6.23833295e-11   7.77901233e-11   9.85458928e-11\n",
        "   3.41780183e-11   2.06927077e-11   1.31310115e-11   1.25525866e-11\n",
        "   1.55498166e-11   6.77916380e-11   5.85411924e-11   1.82654754e-10\n",
        "   7.02911997e-11   1.07634154e-09   1.27297047e-10   5.18111030e-10\n",
        "   1.06143736e-09   1.06846870e-10   7.41849311e-10   9.82245039e-11\n",
        "   2.95867837e-10   1.12029045e-10   1.09313928e-10   6.45653664e-11\n",
        "   5.53573007e-11   6.23820738e-11   7.78368293e-11   1.04973182e-10\n",
        "   3.43566129e-11   2.06941325e-11   1.31310101e-11   1.25525434e-11\n",
        "   1.55492776e-11   6.77442444e-11   5.95637032e-11   1.82250358e-10\n",
        "   7.02953562e-11   1.06864611e-09   1.27003132e-10   1.79906083e-09\n",
        "   2.81152823e-09   1.06791358e-10   7.33437277e-10   9.82287368e-11\n",
        "   2.95254362e-10   1.12500131e-10   1.09295935e-10   6.45471958e-11\n",
        "   5.53552261e-11   6.23802469e-11   7.78771035e-11   1.11204361e-10\n",
        "   3.45184365e-11   2.06955277e-11   1.31310268e-11   1.25525069e-11\n",
        "   1.55489310e-11   6.76943904e-11   6.04262064e-11   1.81830835e-10\n",
        "   7.02990489e-11   1.06076694e-09   1.26781679e-10   4.72750825e-09\n",
        "   3.53475867e-10   1.06755954e-10   7.24957506e-10   9.82329152e-11\n",
        "   2.94621915e-10   1.12863253e-10   1.09277563e-10   6.45344456e-11\n",
        "   5.53531825e-11   6.23778250e-11   7.79105651e-11   1.16565078e-10\n",
        "   3.46537279e-11   2.06968869e-11   1.31310622e-11   1.25524775e-11\n",
        "   1.55487845e-11   6.76420311e-11   6.10844333e-11   1.81396157e-10\n",
        "   7.03022533e-11   1.05271625e-09   1.26638124e-10   5.92976391e-10\n",
        "   2.99729097e-10   1.06741992e-10   7.16425051e-10   9.82370300e-11\n",
        "   2.93970489e-10   1.13105353e-10   1.09258807e-10   6.45273586e-11\n",
        "   5.53511712e-11   6.23747853e-11   7.79368483e-11   1.20249734e-10\n",
        "   3.47527630e-11   2.06982029e-11   1.31311168e-11   1.25524553e-11\n",
        "   1.55488449e-11   6.75871222e-11   6.14987489e-11   1.80946310e-10\n",
        "   7.03049456e-11   1.04450593e-09   1.26577193e-10   5.02042549e-10\n",
        "   3.09367335e-09   1.06750516e-10   7.07853979e-10   9.82410725e-11\n",
        "   2.93300094e-10   1.13215889e-10   1.09239663e-10   6.45261509e-11\n",
        "   5.53491933e-11   6.23711062e-11   7.79556064e-11   1.21539102e-10\n",
        "   3.48072733e-11   2.06994679e-11   1.31311912e-11   1.25524405e-11\n",
        "   1.55491180e-11   6.75296204e-11   6.16387371e-11   1.80481297e-10\n",
        "   7.03071031e-11   1.03614746e-09   1.26602746e-10   5.12924248e-09\n",
        "   4.27857498e-10   1.06782226e-10   6.99257374e-10   9.82450339e-11\n",
        "   2.92610756e-10   1.13187595e-10   1.09220124e-10   6.45310083e-11\n",
        "   5.53472499e-11   6.23667676e-11   7.79665153e-11   1.20080512e-10\n",
        "   3.48119163e-11   2.07006736e-11   1.31312857e-11   1.25524334e-11\n",
        "   1.55496081e-11   6.74694835e-11   6.14872873e-11   1.80001135e-10\n",
        "   7.03087038e-11   1.02765194e-09   1.26717629e-10   7.14286744e-10]\n"
       ]
      }
     ],
     "prompt_number": 207
    },
    {
     "cell_type": "code",
     "collapsed": false,
     "input": [
      "plt.pcolor(np.transpose(np.reshape(np.real(phatMean),(uBinNumber,etaBinNumber))))"
     ],
     "language": "python",
     "metadata": {},
     "outputs": [
      {
       "metadata": {},
       "output_type": "pyout",
       "prompt_number": 208,
       "text": [
        "<matplotlib.collections.PolyCollection at 0x110fb0cd0>"
       ]
      },
      {
       "metadata": {},
       "output_type": "display_data",
       "png": "[encoded data removed]",
       "text": [
        "<matplotlib.figure.Figure at 0x110f8f8d0>"
       ]
      }
     ],
     "prompt_number": 208
    },
    {
     "cell_type": "heading",
     "level": 2,
     "metadata": {},
     "source": [
      "Analytic Beams, band-integrated pixelization of output power spectrum"
     ]
    },
    {
     "cell_type": "markdown",
     "metadata": {},
     "source": [
      "In the above treatment we parameterized the power spectrum in terms of a series of delta functions.  This potentially led to some pathologies, and I suspect it's a matter of a mismatch between the $(u,\\eta)$ bands used in the simulations and the $(u,\\eta)$ bands used when trying to recover the input.  (I suspect that we're generating $u$ modes that essentially aren't being probed by the baseline...actually, I'm not sure what I just said holds water, since if that were the case it shouldn't mess up when I change the $\\eta$ spacing without changing the $u$ spacing.  Things to try:\n",
      "\n",
      "* Simulate data where we actually integrate over the full $(u, \\eta)$ plane, and not just sum bandpowers.\n",
      "* Have each $\\mathbf{C}_{,\\alpha}$ correspond to an integral over some band.  If implemented properly, this is actually the same as the previous bullet point for a piece-wise constant pspec."
     ]
    },
    {
     "cell_type": "code",
     "collapsed": false,
     "input": [
      "uBinNumber_sim = 10\n",
      "etaBinNumber_sim = 12\n",
      "numBands_sim = uBinNumber_sim * etaBinNumber_sim\n",
      "uBoundaries_sim = np.linspace(uForBaseline[0],uForBaseline[-1],uBinNumber_sim+1)\n",
      "etaBoundaries_sim = np.linspace(-1/(2*freqRes),1/(2*freqRes), etaBinNumber_sim+1)\n",
      "uBounds_sim = np.zeros((uBinNumber_sim,2))\n",
      "uBounds_sim[:,0] = uBoundaries_sim[:-1] # lower boundaries\n",
      "uBounds_sim[:,1] = uBoundaries_sim[1:] # upper boundaries\n",
      "etaBounds_sim = np.zeros((etaBinNumber_sim,2))\n",
      "etaBounds_sim[:,0] = etaBoundaries_sim[:-1]\n",
      "etaBounds_sim[:,1] = etaBoundaries_sim[1:]"
     ],
     "language": "python",
     "metadata": {},
     "outputs": [],
     "prompt_number": 11
    },
    {
     "cell_type": "code",
     "collapsed": false,
     "input": [
      "def Ccomma_bandIntegrated(uBounds, etaBounds, freqVect, bl, centralFWHM=10.,centralFreq=150.,beamSlope=0.05):\n",
      "    \"\"\"Evaluates a family of C,alpha matrices.\n",
      "        Outputs an \"uber matrix\" that cycles through\n",
      "        eta the most rapidly, then u\"\"\"\n",
      "    nf = len(freqVect)\n",
      "    finalMatrices = np.zeros((len(uBounds)*len(etaBounds),nf,nf),dtype=complex128)\n",
      "    \n",
      "    beamWidths = centralFWHM - beamSlope * (freqVect - centralFreq)\n",
      "    beamWidths *= np.pi / 180.\n",
      "    beamWidths /= np.sqrt(8.*np.log(2.))\n",
      "    bluCoords = (bl / 300.) * freqVect\n",
      "\n",
      "    k = 0\n",
      "    for uLow,uHigh in uBounds:\n",
      "        for etaLow,etaHigh in etaBounds:\n",
      "            deltaEta = etaHigh - etaLow\n",
      "            avEta = (etaHigh + etaLow) / 2.\n",
      "            #print avEta\n",
      "            \n",
      "            for i,(freqi,thetai,ui) in enumerate(zip(freqVect,beamWidths,bluCoords)):\n",
      "                for j,(freqj,thetaj,uj) in enumerate(zip(freqVect,beamWidths,bluCoords)):\n",
      "                    deltaNu = freqi - freqj\n",
      "                    thetaSqCombo = 2 * np.pi * np.pi * thetai * thetai * thetaj * thetaj\n",
      "                    thetaSqCombo /= thetai * thetai + thetaj * thetaj\n",
      "                                        \n",
      "                    spectralPiece = np.exp(1j * 2 * np.pi * deltaNu * avEta)\n",
      "                    spectralPiece *= np.sinc(deltaNu * deltaEta) \n",
      "                    # This is secretly sinc(pi deltaNu deltaEta).\n",
      "                    # Unlike normal people, numpy includes a pi in\n",
      "                    # the definition, so sinc(x) = sin(pi x) / pi x\n",
      "                    \n",
      "                    spectralGauss = -1 * thetaSqCombo * (ui - uj)**2\n",
      "                    spectralGauss = np.exp(spectralGauss)\n",
      "                    \n",
      "                    uBarij = ui * thetai * thetai + uj * thetaj * thetaj\n",
      "                    uBarij /= (thetai * thetai + thetaj * thetaj)\n",
      "                    qlow = (uLow - uBarij) * np.pi * np.sqrt(2 * (thetai * thetai + thetaj * thetaj))\n",
      "                    qhigh = (uHigh - uBarij) * np.pi * np.sqrt(2 * (thetai * thetai + thetaj * thetaj))\n",
      "                    spatialPiece = erf(qhigh) - erf(qlow)\n",
      "                    \n",
      "                    finalMatrices[k,i,j] = deltaEta * np.sqrt(thetaSqCombo) / ( 2 * np.sqrt(np.pi) )\n",
      "                    finalMatrices[k,i,j] *= spatialPiece * spectralGauss * spectralPiece\n",
      "                    #finalMatrices[k,i,j] =  np.exp(1j * 2 * np.pi * deltaNu * avEta) #spectralPiece\n",
      "                    #print deltaNu\n",
      "            \n",
      "            k += 1\n",
      "    return finalMatrices"
     ],
     "language": "python",
     "metadata": {},
     "outputs": [],
     "prompt_number": 12
    },
    {
     "cell_type": "code",
     "collapsed": false,
     "input": [
      "Ccomma_sim = Ccomma_bandIntegrated(uBounds_sim, etaBounds_sim, freqVect, blLength)"
     ],
     "language": "python",
     "metadata": {},
     "outputs": [],
     "prompt_number": 13
    },
    {
     "cell_type": "markdown",
     "metadata": {},
     "source": [
      "Let's begin with the case where the simulation bins are precisely the same as the bins that we choose for extracting the signal."
     ]
    },
    {
     "cell_type": "code",
     "collapsed": false,
     "input": [
      "inputP = 8.6 * np.ones(uBinNumber_sim * etaBinNumber_sim)\n",
      "uSepFct = 34.*np.sin(8* ((uBounds_sim[:,0] + uBounds_sim[:,1])/2) / np.pi)**2\n",
      "etaSepFct = np.sin(3* ((etaBounds_sim[:,0] + etaBounds_sim[:,1])/2) / np.pi)**2\n",
      "pspecPic = np.outer(uSepFct,etaSepFct)\n",
      "inputP = np.reshape(pspecPic, (numBands_sim))"
     ],
     "language": "python",
     "metadata": {},
     "outputs": [],
     "prompt_number": 14
    },
    {
     "cell_type": "code",
     "collapsed": false,
     "input": [
      "plt.pcolor(np.transpose(pspecPic))"
     ],
     "language": "python",
     "metadata": {},
     "outputs": [
      {
       "metadata": {},
       "output_type": "pyout",
       "prompt_number": 15,
       "text": [
        "<matplotlib.collections.PolyCollection at 0x10a07bf10>"
       ]
      },
      {
       "metadata": {},
       "output_type": "display_data",
       "png": "[encoded data removed]",
       "text": [
        "<matplotlib.figure.Figure at 0x1071b8fd0>"
       ]
      }
     ],
     "prompt_number": 15
    },
    {
     "cell_type": "code",
     "collapsed": false,
     "input": [
      "totalCovar = np.einsum('a,aij', inputP, Ccomma_sim)\n",
      "f, ax = plt.subplots(figsize=(10,6))\n",
      "ax.semilogy(np.real(np.linalg.eigh(totalCovar)[0][::-1]))"
     ],
     "language": "python",
     "metadata": {},
     "outputs": [
      {
       "metadata": {},
       "output_type": "pyout",
       "prompt_number": 16,
       "text": [
        "[<matplotlib.lines.Line2D at 0x1097bf650>]"
       ]
      },
      {
       "metadata": {},
       "output_type": "display_data",
       "png": "[encoded data removed]",
       "text": [
        "<matplotlib.figure.Figure at 0x10a046190>"
       ]
      }
     ],
     "prompt_number": 16
    },
    {
     "cell_type": "markdown",
     "metadata": {},
     "source": [
      "Huh.  Well this is interesting.  We no longer have a sharply dropping scree plot.  Interesting.  Well on the bright side, now we can do a straight Cholesky decomposition instead of an eigenvalue decomp."
     ]
    },
    {
     "cell_type": "code",
     "collapsed": false,
     "input": [
      "Lmatrix = np.linalg.cholesky(totalCovar)\n",
      "LinvMatrix = np.linalg.inv(Lmatrix)"
     ],
     "language": "python",
     "metadata": {},
     "outputs": [],
     "prompt_number": 12
    },
    {
     "cell_type": "code",
     "collapsed": false,
     "input": [
      "LPLmatrices = np.einsum('aik,kj',np.einsum('ij,ajk', LinvMatrix, Ccomma_sim),np.conjugate(LinvMatrix).T)"
     ],
     "language": "python",
     "metadata": {},
     "outputs": [],
     "prompt_number": 13
    },
    {
     "cell_type": "code",
     "collapsed": false,
     "input": [
      "fisher = 0.5 * np.einsum('aij,bji', LPLmatrices,LPLmatrices)\n",
      "diagNorms = np.sum(fisher, axis=1)\n",
      "diagMmatrix = np.diagflat(1 / diagNorms)\n",
      "diagNormedWind = np.einsum('ij,jk', diagMmatrix, fisher)"
     ],
     "language": "python",
     "metadata": {},
     "outputs": [],
     "prompt_number": 17
    },
    {
     "cell_type": "code",
     "collapsed": false,
     "input": [
      "f, ax = plt.subplots(figsize=(10,6))\n",
      "ax.plot(diagNormedWind[29])"
     ],
     "language": "python",
     "metadata": {},
     "outputs": [
      {
       "metadata": {},
       "output_type": "pyout",
       "prompt_number": 20,
       "text": [
        "[<matplotlib.lines.Line2D at 0x10dcbd150>]"
       ]
      },
      {
       "metadata": {},
       "output_type": "display_data",
       "png": "[encoded data removed]",
       "text": [
        "<matplotlib.figure.Figure at 0x10dcc5c10>"
       ]
      }
     ],
     "prompt_number": 20
    },
    {
     "cell_type": "markdown",
     "metadata": {},
     "source": [
      "Uh oh...the window functions are broad in $u$.  That doesn't look too encouraging.  Really nice and sharp in $\\eta$ though."
     ]
    },
    {
     "cell_type": "code",
     "collapsed": false,
     "input": [
      "numTrials = 10000\n",
      "bandNumForSlice = 25\n",
      "qhatMean = np.zeros(numBands_sim)\n",
      "meanSlice = np.zeros(numTrials)\n",
      "qhatVariance = np.zeros((numBands_sim,numBands_sim))\n",
      "for i in range(numTrials):\n",
      "    zRand = np.random.normal(size=numFreqs)\n",
      "    xTemp = np.copy(np.einsum('ij,j', Lmatrix, zRand))\n",
      "    whitenedRealization = np.dot(LinvMatrix,xTemp)\n",
      "    qhatRealization = 0.5 * np.einsum('i,ai',np.conjugate(whitenedRealization), \\\n",
      "                 np.einsum('aij,j',LPLmatrices,whitenedRealization))\n",
      "    qhatMean += qhatRealization\n",
      "    meanSlice[i] = qhatRealization[bandNumForSlice]\n",
      "    qhatVariance += np.outer(qhatRealization,np.conjugate(qhatRealization))\n",
      "qhatMean /= numTrials\n",
      "qhatVariance /= numTrials\n",
      "qhatVariance -= np.outer(qhatMean, np.conjugate(qhatMean))\n",
      "phatMean = np.dot(diagMmatrix,qhatMean)\n",
      "phatVariance = np.dot(diagMmatrix,np.dot(qhatVariance,np.conjugate(diagMmatrix).T))"
     ],
     "language": "python",
     "metadata": {},
     "outputs": [],
     "prompt_number": 21
    },
    {
     "cell_type": "code",
     "collapsed": false,
     "input": [
      "plt.pcolor(np.transpose(np.reshape(np.real(phatMean),(uBinNumber_sim,etaBinNumber_sim))))"
     ],
     "language": "python",
     "metadata": {},
     "outputs": [
      {
       "metadata": {},
       "output_type": "pyout",
       "prompt_number": 22,
       "text": [
        "<matplotlib.collections.PolyCollection at 0x10dce7f90>"
       ]
      },
      {
       "metadata": {},
       "output_type": "display_data",
       "png": "[encoded data removed]",
       "text": [
        "<matplotlib.figure.Figure at 0x10dcd0710>"
       ]
      }
     ],
     "prompt_number": 22
    },
    {
     "cell_type": "markdown",
     "metadata": {},
     "source": [
      "Ok, so as expected, the information is totally spread out in $u$."
     ]
    },
    {
     "cell_type": "code",
     "collapsed": false,
     "input": [
      "print np.real(phatMean)"
     ],
     "language": "python",
     "metadata": {},
     "outputs": [
      {
       "output_type": "stream",
       "stream": "stdout",
       "text": [
        "[ 11.3493754   17.03091264  12.65672206  16.00215122  13.78949143\n",
        "  14.9067622   14.9067622   13.78949143  16.00215122  12.65672206\n",
        "  17.03091264  11.3493754   11.34940401  17.03073314  12.65666419\n",
        "  16.00242842  13.78965682  14.90682296  14.90682296  13.78965682\n",
        "  16.00242842  12.65666419  17.03073314  11.34940401  11.34943447\n",
        "  17.03054762  12.65660752  16.00270646  13.78982487  14.90688395\n",
        "  14.90688395  13.78982487  16.00270646  12.65660752  17.03054762\n",
        "  11.34943447  11.34946682  17.03035596  12.6565521   16.00298527\n",
        "  13.78999558  14.90694518  14.90694518  13.78999558  16.00298527\n",
        "  12.6565521   17.03035596  11.34946682  11.34950112  17.03015804\n",
        "  12.65649797  16.00326481  13.790169    14.90700662  14.90700662\n",
        "  13.790169    16.00326481  12.65649797  17.03015804  11.34950112\n",
        "  11.34953741  17.02995374  12.65644521  16.003545    13.79034513\n",
        "  14.90706826  14.90706826  13.79034513  16.003545    12.65644521\n",
        "  17.02995374  11.34953741  11.34957572  17.02974295  12.65639385\n",
        "  16.00382579  13.79052401  14.9071301   14.9071301   13.79052401\n",
        "  16.00382579  12.65639385  17.02974295  11.34957572  11.34961613\n",
        "  17.02952554  12.65634396  16.00410711  13.79070566  14.90719212\n",
        "  14.90719212  13.79070566  16.00410711  12.65634396  17.02952554\n",
        "  11.34961613  11.34965866  17.02930141  12.65629559  16.00438891\n",
        "  13.79089011  14.90725429  14.90725429  13.79089011  16.00438891\n",
        "  12.65629559  17.02930141  11.34965866  11.34970336  17.02907042\n",
        "  12.65624879  16.00467111  13.79107737  14.90731662  14.90731662\n",
        "  13.79107737  16.00467111  12.65624879  17.02907042  11.34970336]\n"
       ]
      }
     ],
     "prompt_number": 23
    },
    {
     "cell_type": "code",
     "collapsed": false,
     "input": [
      "expectedMeasurement = np.dot(diagNormedWind,inputP)\n",
      "print np.real(expectedMeasurement)"
     ],
     "language": "python",
     "metadata": {},
     "outputs": [
      {
       "output_type": "stream",
       "stream": "stdout",
       "text": [
        "[ 11.39897218  17.07325939  12.62591034  16.0162715   13.77735019\n",
        "  14.91180067  14.91180067  13.77735019  16.0162715   12.62591034\n",
        "  17.07325939  11.39897218  11.39897353  17.07332684  12.6259091\n",
        "  16.0163138   13.77735945  14.91182421  14.91182421  13.77735945\n",
        "  16.0163138   12.6259091   17.07332684  11.39897353  11.39897608\n",
        "  17.07339049  12.62590945  16.01635443  13.7773696   14.91184759\n",
        "  14.91184759  13.7773696   16.01635443  12.62590945  17.07339049\n",
        "  11.39897608  11.39897985  17.07345021  12.62591143  16.01639335\n",
        "  13.77738066  14.91187079  14.91187079  13.77738066  16.01639335\n",
        "  12.62591143  17.07345021  11.39897985  11.39898488  17.07350588\n",
        "  12.6259151   16.01643047  13.77739265  14.9118938   14.9118938\n",
        "  13.77739265  16.01643047  12.6259151   17.07350588  11.39898488\n",
        "  11.39899121  17.07355735  12.62592049  16.01646575  13.7774056\n",
        "  14.91191662  14.91191662  13.7774056   16.01646575  12.62592049\n",
        "  17.07355735  11.39899121  11.39899887  17.0736045   12.62592765\n",
        "  16.01649912  13.77741954  14.91193921  14.91193921  13.77741954\n",
        "  16.01649912  12.62592765  17.0736045   11.39899887  11.39900789\n",
        "  17.07364718  12.62593663  16.01653052  13.77743447  14.91196158\n",
        "  14.91196158  13.77743447  16.01653052  12.62593663  17.07364718\n",
        "  11.39900789  11.39901832  17.07368527  12.62594749  16.01655988\n",
        "  13.77745044  14.91198372  14.91198372  13.77745044  16.01655988\n",
        "  12.62594749  17.07368527  11.39901832  11.39903018  17.07371862\n",
        "  12.62596026  16.01658714  13.77746745  14.9120056   14.9120056\n",
        "  13.77746745  16.01658714  12.62596026  17.07371862  11.39903018]\n"
       ]
      }
     ],
     "prompt_number": 24
    },
    {
     "cell_type": "markdown",
     "metadata": {},
     "source": [
      "Reasonable agreement here.  Now let's do a test where we the simulation (\"sim\") is at a higher resolution than the signal extraction (\"ext\")."
     ]
    },
    {
     "cell_type": "code",
     "collapsed": false,
     "input": [
      "uBinNumber_ext = 10\n",
      "etaBinNumber_ext = 6\n",
      "numBands_ext = uBinNumber_ext * etaBinNumber_ext\n",
      "uBoundaries_ext = np.linspace(uForBaseline[0],uForBaseline[-1],uBinNumber_ext+1)\n",
      "etaBoundaries_ext = np.linspace(-1/(2*freqRes),1/(2*freqRes), etaBinNumber_ext+1)\n",
      "uBounds_ext = np.zeros((uBinNumber_ext,2))\n",
      "uBounds_ext[:,0] = uBoundaries_ext[:-1] # lower boundaries\n",
      "uBounds_ext[:,1] = uBoundaries_ext[1:] # upper boundaries\n",
      "etaBounds_ext = np.zeros((etaBinNumber_ext,2))\n",
      "etaBounds_ext[:,0] = etaBoundaries_ext[:-1]\n",
      "etaBounds_ext[:,1] = etaBoundaries_ext[1:]"
     ],
     "language": "python",
     "metadata": {},
     "outputs": [],
     "prompt_number": 25
    },
    {
     "cell_type": "code",
     "collapsed": false,
     "input": [
      "Ccomma_ext = Ccomma_bandIntegrated(uBounds_ext, etaBounds_ext, freqVect, blLength)"
     ],
     "language": "python",
     "metadata": {},
     "outputs": [],
     "prompt_number": 28
    },
    {
     "cell_type": "markdown",
     "metadata": {},
     "source": [
      "Now remember, we are retaining our covariance model to be the full resolution one.  (Nothing wrong with that---it's perfectly acceptable to have whatever model of the data you want).  This means that the only thing that changes is the $\\mathbf{C}_{,\\alpha}$ matrix that we use for the signal extraction.  The $\\mathbf{C}$ and $\\mathbf{L}$ matrices remain the same."
     ]
    },
    {
     "cell_type": "code",
     "collapsed": false,
     "input": [
      "LPLmatrices_ext = np.einsum('aik,kj',np.einsum('ij,ajk', LinvMatrix, Ccomma_ext),np.conjugate(LinvMatrix).T)"
     ],
     "language": "python",
     "metadata": {},
     "outputs": [],
     "prompt_number": 29
    },
    {
     "cell_type": "code",
     "collapsed": false,
     "input": [
      "fisher = 0.5 * np.einsum('aij,bji', LPLmatrices_ext,LPLmatrices_ext)\n",
      "diagNorms = np.sum(fisher, axis=1)\n",
      "diagMmatrix = np.diagflat(1 / diagNorms)\n",
      "diagNormedWind = np.einsum('ij,jk', diagMmatrix, fisher)"
     ],
     "language": "python",
     "metadata": {},
     "outputs": [],
     "prompt_number": 30
    },
    {
     "cell_type": "code",
     "collapsed": false,
     "input": [
      "f, ax = plt.subplots(figsize=(10,6))\n",
      "ax.plot(diagNormedWind[0])"
     ],
     "language": "python",
     "metadata": {},
     "outputs": [
      {
       "metadata": {},
       "output_type": "pyout",
       "prompt_number": 33,
       "text": [
        "[<matplotlib.lines.Line2D at 0x11f445190>]"
       ]
      },
      {
       "metadata": {},
       "output_type": "display_data",
       "png": "[encoded data removed]",
       "text": [
        "<matplotlib.figure.Figure at 0x10de4dd50>"
       ]
      }
     ],
     "prompt_number": 33
    },
    {
     "cell_type": "markdown",
     "metadata": {},
     "source": [
      "Ok, window functions look mostly the same.  Maybe except for a rounded uptick near the edges.  Do the simulation now.  Remember, the data generation is still exactly the same as before, at \"full res\"."
     ]
    },
    {
     "cell_type": "code",
     "collapsed": false,
     "input": [
      "numTrials = 10000\n",
      "bandNumForSlice = 25\n",
      "qhatMean = np.zeros(numBands_ext)\n",
      "meanSlice = np.zeros(numTrials)\n",
      "qhatVariance = np.zeros((numBands_ext,numBands_ext))\n",
      "for i in range(numTrials):\n",
      "    zRand = np.random.normal(size=numFreqs)\n",
      "    xTemp = np.copy(np.einsum('ij,j', Lmatrix, zRand))\n",
      "    whitenedRealization = np.dot(LinvMatrix,xTemp)\n",
      "    qhatRealization = 0.5 * np.einsum('i,ai',np.conjugate(whitenedRealization), \\\n",
      "                 np.einsum('aij,j',LPLmatrices_ext,whitenedRealization))\n",
      "    qhatMean += qhatRealization\n",
      "    meanSlice[i] = qhatRealization[bandNumForSlice]\n",
      "    qhatVariance += np.outer(qhatRealization,np.conjugate(qhatRealization))\n",
      "qhatMean /= numTrials\n",
      "qhatVariance /= numTrials\n",
      "qhatVariance -= np.outer(qhatMean, np.conjugate(qhatMean))\n",
      "phatMean = np.dot(diagMmatrix,qhatMean)\n",
      "phatVariance = np.dot(diagMmatrix,np.dot(qhatVariance,np.conjugate(diagMmatrix).T))"
     ],
     "language": "python",
     "metadata": {},
     "outputs": [],
     "prompt_number": 34
    },
    {
     "cell_type": "code",
     "collapsed": false,
     "input": [
      "plt.pcolor(np.transpose(np.reshape(np.real(phatMean),(uBinNumber_ext,etaBinNumber_ext))))"
     ],
     "language": "python",
     "metadata": {},
     "outputs": [
      {
       "metadata": {},
       "output_type": "pyout",
       "prompt_number": 36,
       "text": [
        "<matplotlib.collections.PolyCollection at 0x11f4942d0>"
       ]
      },
      {
       "metadata": {},
       "output_type": "display_data",
       "png": "[encoded data removed]",
       "text": [
        "<matplotlib.figure.Figure at 0x10de6ac90>"
       ]
      }
     ],
     "prompt_number": 36
    },
    {
     "cell_type": "code",
     "collapsed": false,
     "input": [
      "print np.real(phatMean)"
     ],
     "language": "python",
     "metadata": {},
     "outputs": [
      {
       "output_type": "stream",
       "stream": "stdout",
       "text": [
        "[ 13.14090178  13.96834904  14.32706073  14.32706073  13.96834904\n",
        "  13.14090178  13.14097653  13.9681303   14.32709073  14.32709073\n",
        "  13.9681303   13.14097653  13.1410521   13.96790959  14.32712152\n",
        "  14.32712152  13.96790959  13.1410521   13.14112849  13.96768694\n",
        "  14.32715313  14.32715313  13.96768694  13.14112849  13.14120571\n",
        "  13.96746234  14.32718556  14.32718556  13.96746234  13.14120571\n",
        "  13.14128376  13.96723582  14.32721883  14.32721883  13.96723582\n",
        "  13.14128376  13.14136263  13.96700739  14.32725294  14.32725294\n",
        "  13.96700739  13.14136263  13.14144232  13.96677706  14.32728792\n",
        "  14.32728792  13.96677706  13.14144232  13.14152285  13.96654485\n",
        "  14.32732378  14.32732378  13.96654485  13.14152285  13.1416042\n",
        "  13.96631078  14.32736052  14.32736052  13.96631078  13.1416042 ]\n"
       ]
      }
     ],
     "prompt_number": 37
    },
    {
     "cell_type": "markdown",
     "metadata": {},
     "source": [
      "Ok, it's not entirely obvious how to compare these to the input power spectrum.  Because our input pspec vector is twice as long as our estimated power spectrum.  (So our window function matrix is the wrong size for multiplying by the input pspec).  Let's just do a crude thing where we downsample the input power spectrum appropriately.  We shouldn't expect perfect agreement, but it will hopefully be in the right rough ballpark."
     ]
    },
    {
     "cell_type": "code",
     "collapsed": false,
     "input": [
      "testP = np.zeros(numBands_ext)\n",
      "for i in range(numBands_ext): # Can just downsample our serialized vect because we chose to cycle through eta quickest\n",
      "    testP[i] = (inputP[2*i] + inputP[2*i+1])/2."
     ],
     "language": "python",
     "metadata": {},
     "outputs": [],
     "prompt_number": 46
    },
    {
     "cell_type": "code",
     "collapsed": false,
     "input": [
      "expectedMeasurement = np.dot(np.real(diagNormedWind),testP)\n",
      "print np.real(expectedMeasurement)"
     ],
     "language": "python",
     "metadata": {},
     "outputs": [
      {
       "output_type": "stream",
       "stream": "stdout",
       "text": [
        "[ 14.3360089   14.33190809  14.32982406  14.32982406  14.33190809\n",
        "  14.3360089   14.33602737  14.33192645  14.32984248  14.32984248\n",
        "  14.33192645  14.33602737  14.33604602  14.331945    14.32986108\n",
        "  14.32986108  14.331945    14.33604602  14.33606486  14.33196374\n",
        "  14.32987987  14.32987987  14.33196374  14.33606486  14.33608389\n",
        "  14.33198266  14.32989885  14.32989885  14.33198266  14.33608389\n",
        "  14.33610309  14.33200177  14.32991802  14.32991802  14.33200177\n",
        "  14.33610309  14.33612249  14.33202106  14.32993736  14.32993736\n",
        "  14.33202106  14.33612249  14.33614206  14.33204053  14.3299569\n",
        "  14.3299569   14.33204053  14.33614206  14.33616183  14.33206019\n",
        "  14.32997662  14.32997662  14.33206019  14.33616183  14.33618177\n",
        "  14.33208003  14.32999652  14.32999652  14.33208003  14.33618177]\n"
       ]
      }
     ],
     "prompt_number": 51
    },
    {
     "cell_type": "markdown",
     "metadata": {},
     "source": [
      "Ok, this is probably in the right ballpark! A better test might be to see what happens when we overresolve."
     ]
    },
    {
     "cell_type": "code",
     "collapsed": false,
     "input": [
      "uBinNumber_ext = 10\n",
      "etaBinNumber_ext = 24\n",
      "numBands_ext = uBinNumber_ext * etaBinNumber_ext\n",
      "uBoundaries_ext = np.linspace(uForBaseline[0],uForBaseline[-1],uBinNumber_ext+1)\n",
      "etaBoundaries_ext = np.linspace(-1/(2*freqRes),1/(2*freqRes), etaBinNumber_ext+1)\n",
      "uBounds_ext = np.zeros((uBinNumber_ext,2))\n",
      "uBounds_ext[:,0] = uBoundaries_ext[:-1] # lower boundaries\n",
      "uBounds_ext[:,1] = uBoundaries_ext[1:] # upper boundaries\n",
      "etaBounds_ext = np.zeros((etaBinNumber_ext,2))\n",
      "etaBounds_ext[:,0] = etaBoundaries_ext[:-1]\n",
      "etaBounds_ext[:,1] = etaBoundaries_ext[1:]"
     ],
     "language": "python",
     "metadata": {},
     "outputs": [],
     "prompt_number": 53
    },
    {
     "cell_type": "code",
     "collapsed": false,
     "input": [
      "Ccomma_ext = Ccomma_bandIntegrated(uBounds_ext, etaBounds_ext, freqVect, blLength)"
     ],
     "language": "python",
     "metadata": {},
     "outputs": [],
     "prompt_number": 54
    },
    {
     "cell_type": "code",
     "collapsed": false,
     "input": [
      "LPLmatrices_ext = np.einsum('aik,kj',np.einsum('ij,ajk', LinvMatrix, Ccomma_ext),np.conjugate(LinvMatrix).T)"
     ],
     "language": "python",
     "metadata": {},
     "outputs": [],
     "prompt_number": 56
    },
    {
     "cell_type": "code",
     "collapsed": false,
     "input": [
      "fisher = 0.5 * np.einsum('aij,bji', LPLmatrices_ext,LPLmatrices_ext)\n",
      "diagNorms = np.sum(fisher, axis=1)\n",
      "diagMmatrix = np.diagflat(1 / diagNorms)\n",
      "diagNormedWind = np.einsum('ij,jk', diagMmatrix, fisher)"
     ],
     "language": "python",
     "metadata": {},
     "outputs": [],
     "prompt_number": 57
    },
    {
     "cell_type": "code",
     "collapsed": false,
     "input": [
      "f, ax = plt.subplots(figsize=(10,6))\n",
      "ax.plot(diagNormedWind[0])"
     ],
     "language": "python",
     "metadata": {},
     "outputs": [
      {
       "metadata": {},
       "output_type": "pyout",
       "prompt_number": 58,
       "text": [
        "[<matplotlib.lines.Line2D at 0x11f4f3ad0>]"
       ]
      },
      {
       "metadata": {},
       "output_type": "display_data",
       "png": "[encoded data removed]",
       "text": [
        "<matplotlib.figure.Figure at 0x11f45fa10>"
       ]
      }
     ],
     "prompt_number": 58
    },
    {
     "cell_type": "code",
     "collapsed": false,
     "input": [
      "numTrials = 50000\n",
      "bandNumForSlice = 25\n",
      "qhatMean = np.zeros(numBands_ext)\n",
      "meanSlice = np.zeros(numTrials)\n",
      "qhatVariance = np.zeros((numBands_ext,numBands_ext))\n",
      "for i in range(numTrials):\n",
      "    zRand = np.random.normal(size=numFreqs)\n",
      "    xTemp = np.copy(np.einsum('ij,j', Lmatrix, zRand))\n",
      "    whitenedRealization = np.dot(LinvMatrix,xTemp)\n",
      "    qhatRealization = 0.5 * np.einsum('i,ai',np.conjugate(whitenedRealization), \\\n",
      "                 np.einsum('aij,j',LPLmatrices_ext,whitenedRealization))\n",
      "    qhatMean += qhatRealization\n",
      "    meanSlice[i] = qhatRealization[bandNumForSlice]\n",
      "    qhatVariance += np.outer(qhatRealization,np.conjugate(qhatRealization))\n",
      "qhatMean /= numTrials\n",
      "qhatVariance /= numTrials\n",
      "qhatVariance -= np.outer(qhatMean, np.conjugate(qhatMean))\n",
      "phatMean = np.dot(diagMmatrix,qhatMean)\n",
      "phatVariance = np.dot(diagMmatrix,np.dot(qhatVariance,np.conjugate(diagMmatrix).T))"
     ],
     "language": "python",
     "metadata": {},
     "outputs": [],
     "prompt_number": 59
    },
    {
     "cell_type": "code",
     "collapsed": false,
     "input": [
      "plt.pcolor(np.transpose(np.reshape(np.real(phatMean),(uBinNumber_ext,etaBinNumber_ext))))"
     ],
     "language": "python",
     "metadata": {},
     "outputs": [
      {
       "metadata": {},
       "output_type": "pyout",
       "prompt_number": 60,
       "text": [
        "<matplotlib.collections.PolyCollection at 0x11fb70190>"
       ]
      },
      {
       "metadata": {},
       "output_type": "display_data",
       "png": "[encoded data removed]",
       "text": [
        "<matplotlib.figure.Figure at 0x11f4defd0>"
       ]
      }
     ],
     "prompt_number": 60
    },
    {
     "cell_type": "markdown",
     "metadata": {},
     "source": [
      "This is pretty awesome, because it's basically right! You can see that in the $\\eta$ direction, every bandpower is essentially repeated twice.  That nicely reflects that fact that we're over-resolving by a factor of 2, but the input simulated power spectrum isn't any finer."
     ]
    },
    {
     "cell_type": "code",
     "collapsed": false,
     "input": [
      "np.real(phatMean)"
     ],
     "language": "python",
     "metadata": {},
     "outputs": [
      {
       "metadata": {},
       "output_type": "pyout",
       "prompt_number": 61,
       "text": [
        "array([ 11.35501962,  11.47048839,  17.05617155,  17.11039682,\n",
        "        12.61734569,  12.60787072,  15.99331482,  16.02690851,\n",
        "        13.81305961,  13.73172646,  14.86912152,  14.92097669,\n",
        "        14.92097669,  14.86912152,  13.73172646,  13.81305961,\n",
        "        16.02690851,  15.99331482,  12.60787072,  12.61734569,\n",
        "        17.11039682,  17.05617155,  11.47048839,  11.35501962,\n",
        "        11.35504733,  11.47046052,  17.05628302,  17.11042227,\n",
        "        12.61731957,  12.60777518,  15.99334198,  16.02692159,\n",
        "        13.81304925,  13.73172246,  14.86919465,  14.92097396,\n",
        "        14.92097396,  14.86919465,  13.73172246,  13.81304925,\n",
        "        16.02692159,  15.99334198,  12.60777518,  12.61731957,\n",
        "        17.11042227,  17.05628302,  11.47046052,  11.35504733,\n",
        "        11.35507584,  11.47043429,  17.05639078,  17.11044405,\n",
        "        12.61729519,  12.60768044,  15.99336654,  16.02693316,\n",
        "        13.8130397 ,  13.73171911,  14.86926827,  14.9209705 ,\n",
        "        14.9209705 ,  14.86926827,  13.73171911,  13.8130397 ,\n",
        "        16.02693316,  15.99336654,  12.60768044,  12.61729519,\n",
        "        17.11044405,  17.05639078,  11.47043429,  11.35507584,\n",
        "        11.35510517,  11.47040975,  17.05649469,  17.11046203,\n",
        "        12.61727262,  12.60758656,  15.9933884 ,  16.02694316,\n",
        "        13.81303098,  13.73171641,  14.86934238,  14.92096628,\n",
        "        14.92096628,  14.86934238,  13.73171641,  13.81303098,\n",
        "        16.02694316,  15.9933884 ,  12.60758656,  12.61727262,\n",
        "        17.11046203,  17.05649469,  11.47040975,  11.35510517,\n",
        "        11.35513533,  11.47038696,  17.05659461,  17.1104761 ,\n",
        "        12.61725191,  12.60749359,  15.99340748,  16.02695155,\n",
        "        13.81302312,  13.7317144 ,  14.86941698,  14.92096128,\n",
        "        14.92096128,  14.86941698,  13.7317144 ,  13.81302312,\n",
        "        16.02695155,  15.99340748,  12.60749359,  12.61725191,\n",
        "        17.1104761 ,  17.05659461,  11.47038696,  11.35513533,\n",
        "        11.35516635,  11.47036597,  17.05669038,  17.11048615,\n",
        "        12.61723312,  12.60740159,  15.99342371,  16.02695827,\n",
        "        13.81301613,  13.73171309,  14.86949204,  14.92095549,\n",
        "        14.92095549,  14.86949204,  13.73171309,  13.81301613,\n",
        "        16.02695827,  15.99342371,  12.60740159,  12.61723312,\n",
        "        17.11048615,  17.05669038,  11.47036597,  11.35516635,\n",
        "        11.35519823,  11.47034685,  17.05678186,  17.11049205,\n",
        "        12.6172163 ,  12.60731061,  15.99343697,  16.02696328,\n",
        "        13.81301006,  13.7317125 ,  14.86956758,  14.92094888,\n",
        "        14.92094888,  14.86956758,  13.7317125 ,  13.81301006,\n",
        "        16.02696328,  15.99343697,  12.60731061,  12.6172163 ,\n",
        "        17.11049205,  17.05678186,  11.47034685,  11.35519823,\n",
        "        11.355231  ,  11.47032965,  17.05686891,  17.1104937 ,\n",
        "        12.61720153,  12.60722072,  15.9934472 ,  16.02696653,\n",
        "        13.81300492,  13.73171266,  14.86964357,  14.92094144,\n",
        "        14.92094144,  14.86964357,  13.73171266,  13.81300492,\n",
        "        16.02696653,  15.9934472 ,  12.60722072,  12.61720153,\n",
        "        17.1104937 ,  17.05686891,  11.47032965,  11.355231  ,\n",
        "        11.35526467,  11.47031443,  17.05695138,  17.11049098,\n",
        "        12.61718885,  12.60713196,  15.99345431,  16.02696796,\n",
        "        13.81300075,  13.73171359,  14.86972002,  14.92093315,\n",
        "        14.92093315,  14.86972002,  13.73171359,  13.81300075,\n",
        "        16.02696796,  15.99345431,  12.60713196,  12.61718885,\n",
        "        17.11049098,  17.05695138,  11.47031443,  11.35526467,\n",
        "        11.35529925,  11.47030125,  17.05702911,  17.11048377,\n",
        "        12.61717834,  12.60704439,  15.99345819,  16.02696752,\n",
        "        13.81299756,  13.7317153 ,  14.86979691,  14.92092398,\n",
        "        14.92092398,  14.86979691,  13.7317153 ,  13.81299756,\n",
        "        16.02696752,  15.99345819,  12.60704439,  12.61717834,\n",
        "        17.11048377,  17.05702911,  11.47030125,  11.35529925])"
       ]
      }
     ],
     "prompt_number": 61
    },
    {
     "cell_type": "code",
     "collapsed": false,
     "input": [
      "testP = np.zeros(numBands_ext)\n",
      "for i in range(numBands_sim):\n",
      "    testP[2*i] = inputP[i]\n",
      "    testP[2*i+1] = inputP[i]"
     ],
     "language": "python",
     "metadata": {},
     "outputs": [],
     "prompt_number": 62
    },
    {
     "cell_type": "code",
     "collapsed": false,
     "input": [
      "expectedMeasurement = np.dot(np.real(diagNormedWind),testP)\n",
      "print np.real(expectedMeasurement)"
     ],
     "language": "python",
     "metadata": {},
     "outputs": [
      {
       "output_type": "stream",
       "stream": "stdout",
       "text": [
        "[ 11.34217727  11.45704769  17.03762149  17.10915363  12.63514166\n",
        "  12.61671056  15.99098634  16.04170282  13.79065873  13.7640962\n",
        "  14.89336203  14.93032911  14.93032911  14.89336203  13.7640962\n",
        "  13.79065873  16.04170282  15.99098634  12.61671056  12.63514166\n",
        "  17.10915363  17.03762149  11.45704769  11.34217727  11.34218563\n",
        "  11.45704171  17.0376937   17.10921623  12.63513937  12.61671035\n",
        "  15.9910318   16.04174192  13.79066639  13.76410705  14.89338783\n",
        "  14.93035037  14.93035037  14.89338783  13.76410705  13.79066639\n",
        "  16.04174192  15.9910318   12.61671035  12.63513937  17.10921623\n",
        "  17.0376937   11.45704171  11.34218563  11.34219458  11.45703755\n",
        "  17.03776163  17.10927554  12.63513877  12.61671165  15.99107528\n",
        "  16.04177968  13.79067508  13.76411864  14.89341326  14.93037168\n",
        "  14.93037168  14.89341326  13.76411864  13.79067508  16.04177968\n",
        "  15.99107528  12.61671165  12.63513877  17.10927554  17.03776163\n",
        "  11.45703755  11.34219458  11.34220415  11.45703527  17.03782513\n",
        "  17.10933144  12.63513989  12.61671449  15.99111671  16.04181604\n",
        "  13.79068483  13.764131    14.8934383   14.93039303  14.93039303\n",
        "  14.8934383   13.764131    13.79068483  16.04181604  15.99111671\n",
        "  12.61671449  12.63513989  17.10933144  17.03782513  11.45703527\n",
        "  11.34220415  11.34221434  11.4570349   17.03788405  17.1093838\n",
        "  12.63514278  12.61671892  15.99115602  16.04185096  13.79069566\n",
        "  13.76414414  14.89346291  14.93041442  14.93041442  14.89346291\n",
        "  13.76414414  13.79069566  16.04185096  15.99115602  12.61671892\n",
        "  12.63514278  17.1093838   17.03788405  11.4570349   11.34221434\n",
        "  11.34222518  11.45703652  17.03793823  17.10943253  12.63514749\n",
        "  12.61672498  15.99119313  16.04188439  13.79070761  13.76415809\n",
        "  14.89348709  14.93043585  14.93043585  14.89348709  13.76415809\n",
        "  13.79070761  16.04188439  15.99119313  12.61672498  12.63514749\n",
        "  17.10943253  17.03793823  11.45703652  11.34222518  11.34223668\n",
        "  11.45704016  17.03798754  17.10947748  12.63515407  12.61673271\n",
        "  15.99122798  16.04191626  13.79072069  13.76417286  14.89351082\n",
        "  14.93045731  14.93045731  14.89351082  13.76417286  13.79072069\n",
        "  16.04191626  15.99122798  12.61673271  12.63515407  17.10947748\n",
        "  17.03798754  11.45704016  11.34223668  11.34224885  11.4570459\n",
        "  17.03803181  17.10951856  12.63516258  12.61674217  15.99126049\n",
        "  16.04194654  13.79073495  13.76418847  14.89353406  14.9304788\n",
        "  14.9304788   14.89353406  13.76418847  13.79073495  16.04194654\n",
        "  15.99126049  12.61674217  12.63516258  17.10951856  17.03803181\n",
        "  11.4570459   11.34224885  11.34226171  11.45705379  17.03807089\n",
        "  17.10955563  12.63517307  12.6167534   15.99129058  16.04197516\n",
        "  13.79075041  13.76420493  14.89355682  14.9305003   14.9305003\n",
        "  14.89355682  13.76420493  13.79075041  16.04197516  15.99129058\n",
        "  12.6167534   12.63517307  17.10955563  17.03807089  11.45705379\n",
        "  11.34226171  11.34227527  11.45706388  17.03810463  17.10958858\n",
        "  12.63518558  12.61676643  15.99131818  16.04200207  13.79076709\n",
        "  13.76422228  14.89357906  14.93052182  14.93052182  14.89357906\n",
        "  13.76422228  13.79076709  16.04200207  15.99131818  12.61676643\n",
        "  12.63518558  17.10958858  17.03810463  11.45706388  11.34227527]\n"
       ]
      }
     ],
     "prompt_number": 64
    },
    {
     "cell_type": "markdown",
     "metadata": {},
     "source": [
      "Wonderful! It looks like we're ok with the resolution issues now.  It's looking like we can under-resolve or over-resolve, and that the key was to integrate over each bandpower, rather than taking it to be a series of delta functions."
     ]
    },
    {
     "cell_type": "markdown",
     "metadata": {},
     "source": [
      "Now we'd like to figure out why the response is so ridiculously broad in the $u$ direction.  At some level, maybe it makes sense.  The primary beam kernel allows a baseline to sample a certain (rather localized) spread of $u$ values at a particularly frequency.  But this localized region translates with frequency, which means we don't really have any other info as we do our Fourier transform in the $\\nu$ direction.  The only way to actually get some $\\eta$ info is to combine stuff from different $u$ values, and the window functions are telling us that our estimator did exactly that."
     ]
    },
    {
     "cell_type": "markdown",
     "metadata": {},
     "source": [
      "Let's test this.  If this is what's going on, I would expect that artificially increasing the range of our $u$ would give window functions that drop off beyond some $u$.  Just extend the range in $u$ and see."
     ]
    },
    {
     "cell_type": "code",
     "collapsed": false,
     "input": [
      "uBinNumber_ext = 20\n",
      "etaBinNumber_ext = 12\n",
      "numBands_ext = uBinNumber_ext * etaBinNumber_ext\n",
      "uBoundaries_ext = np.linspace(0,2*uForBaseline[-1],uBinNumber_ext+1)\n",
      "etaBoundaries_ext = np.linspace(-1/(2*freqRes),1/(2*freqRes), etaBinNumber_ext+1)\n",
      "uBounds_ext = np.zeros((uBinNumber_ext,2))\n",
      "uBounds_ext[:,0] = uBoundaries_ext[:-1] # lower boundaries\n",
      "uBounds_ext[:,1] = uBoundaries_ext[1:] # upper boundaries\n",
      "etaBounds_ext = np.zeros((etaBinNumber_ext,2))\n",
      "etaBounds_ext[:,0] = etaBoundaries_ext[:-1]\n",
      "etaBounds_ext[:,1] = etaBoundaries_ext[1:]"
     ],
     "language": "python",
     "metadata": {},
     "outputs": [],
     "prompt_number": 68
    },
    {
     "cell_type": "code",
     "collapsed": false,
     "input": [
      "Ccomma_ext = Ccomma_bandIntegrated(uBounds_ext, etaBounds_ext, freqVect, blLength)"
     ],
     "language": "python",
     "metadata": {},
     "outputs": [],
     "prompt_number": 69
    },
    {
     "cell_type": "code",
     "collapsed": false,
     "input": [
      "LPLmatrices_ext = np.einsum('aik,kj',np.einsum('ij,ajk', LinvMatrix, Ccomma_ext),np.conjugate(LinvMatrix).T)"
     ],
     "language": "python",
     "metadata": {},
     "outputs": [],
     "prompt_number": 70
    },
    {
     "cell_type": "code",
     "collapsed": false,
     "input": [
      "fisher = 0.5 * np.einsum('aij,bji', LPLmatrices_ext,LPLmatrices_ext)\n",
      "diagNorms = np.sum(fisher, axis=1)\n",
      "diagMmatrix = np.diagflat(1 / diagNorms)\n",
      "diagNormedWind = np.einsum('ij,jk', diagMmatrix, fisher)"
     ],
     "language": "python",
     "metadata": {},
     "outputs": [],
     "prompt_number": 71
    },
    {
     "cell_type": "code",
     "collapsed": false,
     "input": [
      "f, ax = plt.subplots(figsize=(10,6))\n",
      "ax.plot(diagNormedWind[50])\n",
      "ax.plot(diagNormedWind[52])\n",
      "ax.plot(diagNormedWind[54])"
     ],
     "language": "python",
     "metadata": {},
     "outputs": [
      {
       "metadata": {},
       "output_type": "pyout",
       "prompt_number": 75,
       "text": [
        "[<matplotlib.lines.Line2D at 0x10f504e50>]"
       ]
      },
      {
       "metadata": {},
       "output_type": "display_data",
       "png": "[encoded data removed]",
       "text": [
        "<matplotlib.figure.Figure at 0x10f2dd1d0>"
       ]
      }
     ],
     "prompt_number": 75
    },
    {
     "cell_type": "markdown",
     "metadata": {},
     "source": [
      "Yay! This works! This suggests that my guess was correct, and that we were just looking at modes in $u$ that were way too fine.  It's time to \"graduate\" to a numerical implementation of a Gaussian"
     ]
    },
    {
     "cell_type": "heading",
     "level": 2,
     "metadata": {},
     "source": [
      "Testing the numerical implementation"
     ]
    },
    {
     "cell_type": "markdown",
     "metadata": {},
     "source": [
      "Here we use our analytic formulation, but we use the exact bins from the numerical implementation, just so that we can see what's going wrong."
     ]
    },
    {
     "cell_type": "code",
     "collapsed": false,
     "input": [
      "uNumBins_comp = 10\n",
      "etaNumBins_comp = 12 #20\n",
      "numBands_comp = uNumBins_comp * etaNumBins_comp\n",
      "uBuffer = 2. # in rad^-1\n",
      "etaBuffer = 2. # in MHz^-1\n",
      "uTemp = np.linspace(uForBaseline[0]-uBuffer,uForBaseline[-1]+uBuffer,uNumBins_comp+1)\n",
      "etaTemp = np.linspace(-1/(2*freqRes)-etaBuffer,1/(2*freqRes)+etaBuffer, etaNumBins_comp+1)\n",
      "uBandBounds_comp = np.zeros((uNumBins_comp,2))\n",
      "etaBandBounds_comp = np.zeros((etaNumBins_comp,2))\n",
      "uBandBounds_comp[:,0] = uTemp[:-1]\n",
      "uBandBounds_comp[:,1] = uTemp[1:]\n",
      "etaBandBounds_comp[:,0] = etaTemp[:-1]\n",
      "etaBandBounds_comp[:,1] = etaTemp[1:]"
     ],
     "language": "python",
     "metadata": {},
     "outputs": [],
     "prompt_number": 26
    },
    {
     "cell_type": "code",
     "collapsed": false,
     "input": [
      "#########\n",
      "uBinNumber_sim = 10\n",
      "etaBinNumber_sim = 12\n",
      "numBands_sim = uBinNumber_sim * etaBinNumber_sim\n",
      "uBoundaries_sim = np.linspace(uForBaseline[0],uForBaseline[-1],uBinNumber_sim+1)\n",
      "etaBoundaries_sim = np.linspace(-1/(2*freqRes),1/(2*freqRes), etaBinNumber_sim+1)\n",
      "uBounds_sim = np.zeros((uBinNumber_sim,2))\n",
      "uBounds_sim[:,0] = uBoundaries_sim[:-1] # lower boundaries\n",
      "uBounds_sim[:,1] = uBoundaries_sim[1:] # upper boundaries\n",
      "etaBounds_sim = np.zeros((etaBinNumber_sim,2))\n",
      "etaBounds_sim[:,0] = etaBoundaries_sim[:-1]\n",
      "etaBounds_sim[:,1] = etaBoundaries_sim[1:]"
     ],
     "language": "python",
     "metadata": {},
     "outputs": []
    },
    {
     "cell_type": "code",
     "collapsed": false,
     "input": [
      "blLength"
     ],
     "language": "python",
     "metadata": {},
     "outputs": [
      {
       "metadata": {},
       "output_type": "pyout",
       "prompt_number": 30,
       "text": [
        "16.0"
       ]
      }
     ],
     "prompt_number": 30
    },
    {
     "cell_type": "code",
     "collapsed": false,
     "input": [
      "Ccomma_comp = Ccomma_bandIntegrated_debug(uBandBounds_comp, etaBandBounds_comp, freqVect, blLength)"
     ],
     "language": "python",
     "metadata": {},
     "outputs": [],
     "prompt_number": 27
    },
    {
     "cell_type": "code",
     "collapsed": false,
     "input": [
      "inputP = 8.6 * np.ones(uNumBins_comp * etaNumBins_comp)\n",
      "uSepFct = 34.*np.sin(8* ((uBandBounds_comp[:,0] + uBandBounds_comp[:,1])/2) / np.pi)**2\n",
      "etaSepFct = np.sin(3* ((etaBandBounds_comp[:,0] + etaBandBounds_comp[:,1])/2) / np.pi)**2\n",
      "pspecPic = np.outer(uSepFct,etaSepFct)\n",
      "inputP = np.reshape(pspecPic, (numBands_comp))"
     ],
     "language": "python",
     "metadata": {},
     "outputs": [],
     "prompt_number": 28
    },
    {
     "cell_type": "code",
     "collapsed": false,
     "input": [
      "totalCovar = np.einsum('a,aij', inputP, Ccomma_comp)\n",
      "f, ax = plt.subplots(figsize=(10,6))\n",
      "ax.semilogy(np.real(np.linalg.eigh(totalCovar)[0][::-1]))"
     ],
     "language": "python",
     "metadata": {},
     "outputs": [
      {
       "metadata": {},
       "output_type": "pyout",
       "prompt_number": 29,
       "text": [
        "[<matplotlib.lines.Line2D at 0x1082356d0>]"
       ]
      },
      {
       "metadata": {},
       "output_type": "display_data",
       "png": "[encoded data removed]",
       "text": [
        "<matplotlib.figure.Figure at 0x10823b910>"
       ]
      }
     ],
     "prompt_number": 29
    },
    {
     "cell_type": "code",
     "collapsed": false,
     "input": [
      "plt.plot(np.real(np.diagonal(Ccomma_comp[0])))"
     ],
     "language": "python",
     "metadata": {},
     "outputs": [
      {
       "metadata": {},
       "output_type": "pyout",
       "prompt_number": 33,
       "text": [
        "[<matplotlib.lines.Line2D at 0x1139717d0>]"
       ]
      },
      {
       "metadata": {},
       "output_type": "display_data",
       "png": "[encoded data removed]",
       "text": [
        "<matplotlib.figure.Figure at 0x108222950>"
       ]
      }
     ],
     "prompt_number": 33
    },
    {
     "cell_type": "code",
     "collapsed": false,
     "input": [
      "plt.plot(np.log(np.real(Ccomma_comp[0,50])))"
     ],
     "language": "python",
     "metadata": {},
     "outputs": [
      {
       "output_type": "stream",
       "stream": "stderr",
       "text": [
        "-c:1: RuntimeWarning: invalid value encountered in log\n"
       ]
      },
      {
       "metadata": {},
       "output_type": "pyout",
       "prompt_number": 30,
       "text": [
        "[<matplotlib.lines.Line2D at 0x11393ef90>]"
       ]
      },
      {
       "metadata": {},
       "output_type": "display_data",
       "png": "[encoded data removed]",
       "text": [
        "<matplotlib.figure.Figure at 0x108232e10>"
       ]
      }
     ],
     "prompt_number": 30
    },
    {
     "cell_type": "code",
     "collapsed": false,
     "input": [
      "def Ccomma_bandIntegrated_debug(uBounds, etaBounds, freqVect, bl, centralFWHM=40.,centralFreq=150.,beamSlope=0.5):\n",
      "    \"\"\"Evaluates a family of C,alpha matrices.\n",
      "        Outputs an \"uber matrix\" that cycles through\n",
      "        eta the most rapidly, then u\"\"\"\n",
      "    nf = len(freqVect)\n",
      "    finalMatrices = np.zeros((len(uBounds)*len(etaBounds),nf,nf),dtype=complex128)\n",
      "    \n",
      "    beamWidths = centralFWHM - beamSlope * (freqVect - centralFreq)\n",
      "    beamWidths *= np.pi / 180.\n",
      "    beamWidths /= np.sqrt(8.*np.log(2.))\n",
      "    bluCoords = (bl / 300.) * freqVect\n",
      "\n",
      "    k = 0\n",
      "    for uLow,uHigh in uBounds:\n",
      "        for etaLow,etaHigh in etaBounds:\n",
      "            deltaEta = etaHigh - etaLow\n",
      "            avEta = (etaHigh + etaLow) / 2.\n",
      "            #print avEta\n",
      "            \n",
      "            for i,(freqi,thetai,ui) in enumerate(zip(freqVect,beamWidths,bluCoords)):\n",
      "                for j,(freqj,thetaj,uj) in enumerate(zip(freqVect,beamWidths,bluCoords)):\n",
      "                    deltaNu = freqi - freqj\n",
      "                    thetaSqCombo = 2 * np.pi * np.pi * thetai * thetai * thetaj * thetaj\n",
      "                    thetaSqCombo /= thetai * thetai + thetaj * thetaj\n",
      "                                        \n",
      "                    spectralPiece = np.exp(1j * 2 * np.pi * deltaNu * avEta)\n",
      "                    spectralPiece *= np.sinc(deltaNu * deltaEta) \n",
      "                    # This is secretly sinc(pi deltaNu deltaEta).\n",
      "                    # Unlike normal people, numpy includes a pi in\n",
      "                    # the definition, so sinc(x) = sin(pi x) / pi x\n",
      "                    \n",
      "                    spectralGauss = -1 * thetaSqCombo * (ui - uj)**2\n",
      "                    spectralGauss = np.exp(spectralGauss)\n",
      "                    \n",
      "                    uBarij = ui * thetai * thetai + uj * thetaj * thetaj\n",
      "                    uBarij /= (thetai * thetai + thetaj * thetaj)\n",
      "                    qlow = (uLow - uBarij) * np.pi * np.sqrt(2 * (thetai * thetai + thetaj * thetaj))\n",
      "                    qhigh = (uHigh - uBarij) * np.pi * np.sqrt(2 * (thetai * thetai + thetaj * thetaj))\n",
      "                    spatialPiece = erf(qhigh) - erf(qlow)\n",
      "                    \n",
      "                    finalMatrices[k,i,j] = deltaEta * np.sqrt(thetaSqCombo) / ( 2 * np.sqrt(np.pi) )\n",
      "                    finalMatrices[k,i,j] *= spatialPiece * spectralGauss * spectralPiece\n",
      "                    #finalMatrices[k,i,j] =  np.exp(1j * 2 * np.pi * deltaNu * avEta) #spectralPiece\n",
      "                    #print deltaNu\n",
      "            \n",
      "            k += 1\n",
      "    return finalMatrices"
     ],
     "language": "python",
     "metadata": {},
     "outputs": [],
     "prompt_number": 22
    },
    {
     "cell_type": "code",
     "collapsed": false,
     "input": [
      "def Ccomma_bandIntegrated_debug(uBounds, etaBounds, freqVect, bl, centralFWHM=10.,centralFreq=150.,beamSlope=0.05):\n",
      "    \"\"\"Evaluates a family of C,alpha matrices.\n",
      "        Outputs an \"uber matrix\" that cycles through\n",
      "        eta the most rapidly, then u\"\"\"\n",
      "    nf = len(freqVect)\n",
      "    finalMatrices = np.zeros((len(uBounds)*len(etaBounds),nf,nf),dtype=complex128)\n",
      "    \n",
      "    beamWidths = centralFWHM - beamSlope * (freqVect - centralFreq)\n",
      "    beamWidths *= np.pi / 180.\n",
      "    beamWidths /= np.sqrt(8.*np.log(2.))\n",
      "    bluCoords = (bl / 300.) * freqVect\n"
     ],
     "language": "python",
     "metadata": {},
     "outputs": []
    }
   ],
   "metadata": {}
  }
 ]
}