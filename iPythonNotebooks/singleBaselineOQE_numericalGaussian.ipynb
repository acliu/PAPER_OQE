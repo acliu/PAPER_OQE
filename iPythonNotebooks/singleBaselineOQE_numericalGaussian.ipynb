{
 "metadata": {
  "name": ""
 },
 "nbformat": 3,
 "nbformat_minor": 0,
 "worksheets": [
  {
   "cells": [
    {
     "cell_type": "heading",
     "level": 1,
     "metadata": {},
     "source": [
      "Single baseline OQE using numerical Gaussian beams"
     ]
    },
    {
     "cell_type": "markdown",
     "metadata": {},
     "source": [
      "The goal here is to build on the previous iPython notebook that used analytic forms for the $\\mathbf{C}_{,\\alpha}$ matrices.  Now we're going to use numerical beams, which will make it easier to generalize to an arbitrary beam.  However, we're still going to work in the flat-sky approximation for now, which is an assumption that will have to be relaxed in the future.  Also, this is still for a 1D array, although note that if we're only doing a single-baseline estimate, it is always permissible to make the 1D assumption."
     ]
    },
    {
     "cell_type": "code",
     "collapsed": false,
     "input": [
      "import numpy as np\n",
      "from scipy.interpolate import interp1d\n",
      "from scipy.integrate import quad\n",
      "%pylab inline"
     ],
     "language": "python",
     "metadata": {},
     "outputs": [
      {
       "output_type": "stream",
       "stream": "stdout",
       "text": [
        "Populating the interactive namespace from numpy and matplotlib\n"
       ]
      }
     ],
     "prompt_number": 1
    },
    {
     "cell_type": "code",
     "collapsed": false,
     "input": [
      "roughPrimaryBeamWidth = 45. # In degrees, used to help figure out the grid extent + resolution for the uv plane.\n",
      "roughPrimaryBeamWidth *= np.pi / 180.\n",
      "speedOfLight = 300. # In meters per microsecond\n",
      "centralFreq = 150. # Frequencies all in MHz\n",
      "totalBand = 10.\n",
      "freqRes = 0.05 # 50 kHz frequency resolution\n",
      "bottomFreq = centralFreq - totalBand / 2.\n",
      "topFreq = centralFreq + totalBand / 2.\n",
      "numFreqs = int( ( topFreq - bottomFreq ) / freqRes )\n",
      "freqVect = np.delete(np.linspace(bottomFreq, topFreq, numFreqs + 1), -1)\n",
      "blLength = 16. # In meters\n",
      "uBaseline = blLength * freqVect / speedOfLight"
     ],
     "language": "python",
     "metadata": {},
     "outputs": [],
     "prompt_number": 2
    },
    {
     "cell_type": "markdown",
     "metadata": {},
     "source": [
      "The width of the primary beam can vary arbitrarily with frequency, if we want.  Use a smooth, linear function for now, where\n",
      "\n",
      "$\\textrm{FWHM}( \\nu ) = \\textrm{FWHM}(\\nu_0) - \\alpha (\\nu - \\nu_0)$, with $\\nu_0$ being our central frequency, and $\\alpha = 0.5\\,\\textrm{degrees per MHz}$.  (The value of $\\alpha$ here is totally arbitrary)."
     ]
    },
    {
     "cell_type": "code",
     "collapsed": false,
     "input": [
      "centralBeamFWHM = 40. # In degrees, once again\n",
      "beamSlope = 0.5 # In degrees per MHz\n",
      "beamWidths = centralBeamFWHM - beamSlope * ( freqVect - centralFreq )\n",
      "beamWidths *= np.pi / 180."
     ],
     "language": "python",
     "metadata": {},
     "outputs": [],
     "prompt_number": 3
    },
    {
     "cell_type": "markdown",
     "metadata": {},
     "source": [
      "Define a Gaussian beam, although of course we may put in whatever we like."
     ]
    },
    {
     "cell_type": "code",
     "collapsed": false,
     "input": [
      "def gaussBeamFct(theta, beamFWHM, thetaCenter = 0.):\n",
      "    \"\"\"Evaluates Gaussian beam.  Inputs are angle and FWHM in radians.\n",
      "        Normalized so that A(0) = 1\"\"\"\n",
      "    sigma = beamFWHM / np.sqrt( 8. * np.log(2.))\n",
      "    deviation = theta - thetaCenter\n",
      "    return np.exp(-0.5 * deviation**2 / sigma**2)"
     ],
     "language": "python",
     "metadata": {},
     "outputs": [],
     "prompt_number": 4
    },
    {
     "cell_type": "markdown",
     "metadata": {},
     "source": [
      "There are three grids that we have to consider here.  One is a grid for performing the spatial Fourier transform of the primary beam.  Another is for performing the integrals over the bands.  The final one is the actual boundaries of the bandpowers."
     ]
    },
    {
     "cell_type": "markdown",
     "metadata": {},
     "source": [
      "Before we start Fourier transforming, need to choose a nice grid so that we can resolve the $uv$ plane primary beam kernel properly.  For the minimum and maximum $u$ that we probe, it's important to look at more than just the minimum and maximum dictated by the baseline's $u$ coordinate, because the primary beam kernel provides some spillover."
     ]
    },
    {
     "cell_type": "markdown",
     "metadata": {},
     "source": [
      "For a Gaussian beam, a beamwidth of $\\theta_b$ gives a beamwidth of $\\frac{1}{2 \\pi \\theta_b}$ in $u$ space.  Suppose we have a beam size of $40^\\circ$.  In radians this is"
     ]
    },
    {
     "cell_type": "code",
     "collapsed": false,
     "input": [
      "40. * np.pi / 180."
     ],
     "language": "python",
     "metadata": {},
     "outputs": [
      {
       "metadata": {},
       "output_type": "pyout",
       "prompt_number": 5,
       "text": [
        "0.6981317007977318"
       ]
      }
     ],
     "prompt_number": 5
    },
    {
     "cell_type": "markdown",
     "metadata": {},
     "source": [
      "And the size of the beam in $u$ is then"
     ]
    },
    {
     "cell_type": "code",
     "collapsed": false,
     "input": [
      "1/ ( 2 * np.pi * (40. * np.pi / 180.) )"
     ],
     "language": "python",
     "metadata": {},
     "outputs": [
      {
       "metadata": {},
       "output_type": "pyout",
       "prompt_number": 6,
       "text": [
        "0.22797266319526"
       ]
      }
     ],
     "prompt_number": 6
    },
    {
     "cell_type": "markdown",
     "metadata": {},
     "source": [
      "This is a good ballpark number for the bleed in $u$.  Now, the $u$ coordinate probed by our baseline is frequency-dependent, and we'd better span this entire range:"
     ]
    },
    {
     "cell_type": "code",
     "collapsed": false,
     "input": [
      "print uBaseline[0],uBaseline[-1]"
     ],
     "language": "python",
     "metadata": {},
     "outputs": [
      {
       "output_type": "stream",
       "stream": "stdout",
       "text": [
        "7.73333333333 8.264\n"
       ]
      }
     ],
     "prompt_number": 7
    },
    {
     "cell_type": "markdown",
     "metadata": {},
     "source": [
      "If we do $\\pm 2.0$ in $u$, that should be plenty, since the primary beam kernel only makes things spill over by about $0.23$."
     ]
    },
    {
     "cell_type": "markdown",
     "metadata": {},
     "source": [
      "Now, let's say we want to resolve the primary beam by about a factor of 5.  Then we need $\\Delta u = 0.05$.  This means we need a grid in real-space that is $20$ radians wide.  Now how many pixels do we need? We also want to be able to resolve the beam in image space, so that we can get good Fourier transforms.  We'd like the beamwidth to be well-resolved, so maybe $0.05$ radians resolution.  This means $400$ pixels on one side.  Let's round that up to a nice $512$."
     ]
    },
    {
     "cell_type": "code",
     "collapsed": false,
     "input": [
      "pixRes = 0.05 # Pixel res. in radians\n",
      "npix = 512\n",
      "pixExtent = npix * pixRes\n",
      "pixVect = np.delete(np.linspace(-pixExtent/2., pixExtent/2., npix+1), -1)\n",
      "uVectFFT = np.fft.fftshift(np.fft.fftfreq(npix,pixRes))"
     ],
     "language": "python",
     "metadata": {},
     "outputs": [],
     "prompt_number": 8
    },
    {
     "cell_type": "code",
     "collapsed": false,
     "input": [
      "pixVect[1]-pixVect[0]"
     ],
     "language": "python",
     "metadata": {},
     "outputs": [
      {
       "metadata": {},
       "output_type": "pyout",
       "prompt_number": 9,
       "text": [
        "0.050000000000000711"
       ]
      }
     ],
     "prompt_number": 9
    },
    {
     "cell_type": "code",
     "collapsed": false,
     "input": [
      "f, ax = plt.subplots(figsize=(10,6))\n",
      "for bmWidth in beamWidths:\n",
      "    temp = [gaussBeamFct(theta, bmWidth) for theta in pixVect]\n",
      "    ax.plot(pixVect, temp)\n",
      "ax.set_xlim(-1.5,1.5)\n",
      "ax.set_xlabel(r\"$\\theta$ in rad\")"
     ],
     "language": "python",
     "metadata": {},
     "outputs": [
      {
       "metadata": {},
       "output_type": "pyout",
       "prompt_number": 10,
       "text": [
        "<matplotlib.text.Text at 0x107e42750>"
       ]
      },
      {
       "metadata": {},
       "output_type": "display_data",
       "png": "[encoded data removed]",
       "text": [
        "<matplotlib.figure.Figure at 0x107e3d310>"
       ]
      }
     ],
     "prompt_number": 10
    },
    {
     "cell_type": "markdown",
     "metadata": {},
     "source": [
      "Collect all the beams into an array, with each row representing the beam at a frequency."
     ]
    },
    {
     "cell_type": "code",
     "collapsed": false,
     "input": [
      "primaryBeamCollection = np.zeros((numFreqs,npix), dtype=complex)\n",
      "for i in range(numFreqs):\n",
      "    for j,pix in enumerate(pixVect):\n",
      "        primaryBeamCollection[i,j] = gaussBeamFct(pix,beamWidths[i])"
     ],
     "language": "python",
     "metadata": {},
     "outputs": [],
     "prompt_number": 11
    },
    {
     "cell_type": "markdown",
     "metadata": {},
     "source": [
      "Fourier transform each row to get $\\overline{A} \\left( u-\\frac{\\nu b }{ c} \\right) \\equiv \\int  A(\\theta, \\nu) \\,e^{i 2 \\pi\\, (u - \\nu b / c)\\, \\theta} \\, d\\theta$."
     ]
    },
    {
     "cell_type": "code",
     "collapsed": false,
     "input": [
      "overlineBeamCollection = np.zeros_like(primaryBeamCollection)\n",
      "for j,row in enumerate(primaryBeamCollection):\n",
      "    temp = np.fft.fftshift(row)\n",
      "    temp = np.fft.fft(temp)\n",
      "    temp = np.fft.fftshift(temp)\n",
      "    overlineBeamCollection[j] = temp"
     ],
     "language": "python",
     "metadata": {},
     "outputs": [],
     "prompt_number": 12
    },
    {
     "cell_type": "code",
     "collapsed": false,
     "input": [
      "f, ax = plt.subplots(figsize=(10,6))\n",
      "for uBeam in overlineBeamCollection:\n",
      "    ax.plot(uVectFFT,uBeam)\n",
      "ax.set_xlim(-5,5)\n",
      "ax.set_xlabel(r\"$u$ in rad$^{-1}$\")"
     ],
     "language": "python",
     "metadata": {},
     "outputs": [
      {
       "output_type": "stream",
       "stream": "stderr",
       "text": [
        "//anaconda/lib/python2.7/site-packages/numpy/core/numeric.py:320: ComplexWarning: Casting complex values to real discards the imaginary part\n",
        "  return array(a, dtype, copy=False, order=order)\n"
       ]
      },
      {
       "metadata": {},
       "output_type": "pyout",
       "prompt_number": 13,
       "text": [
        "<matplotlib.text.Text at 0x10925ea10>"
       ]
      },
      {
       "metadata": {},
       "output_type": "display_data",
       "png": "[encoded data removed]",
       "text": [
        "<matplotlib.figure.Figure at 0x105314150>"
       ]
      }
     ],
     "prompt_number": 13
    },
    {
     "cell_type": "markdown",
     "metadata": {},
     "source": [
      "What we need for our $\\mathbf{C}_{,\\alpha}$ matrices is the overlap integral $\\int_{u_{\\rm lower}}^{u_{\\rm upper}} \\overline{A} \\left( u-\\frac{\\nu_i b }{ c} \\right)  \\overline{A}^* \\left( u-\\frac{\\nu_j b }{ c} \\right) du$.  Unfortunately, what we have so far might not be quite high-resolution enough, if we look at how much the $u$ coordinate of the baseline varies from channel-to-channel, it's rather small.  We'd like to be able to pick up on the continuously changing overlap with frequency.  Because we have quite a short baseline here, the shift in $u$ is quite small from one frequency channel to the next.  We'd like to be able to pick up on that, rather than having the baseline's $u$ coordinate \"snapping\" to a grid and having discrete jumps every few frequency channels."
     ]
    },
    {
     "cell_type": "markdown",
     "metadata": {},
     "source": [
      "On the other hand, we'd prefer not to increase the FFT resolution by too much more. If the beam profile is relatively smooth, we can fit the Fourier-transformed beam using a cubic spline (or some other fit, like fitting the logarithm to a higher order polynomial or something)."
     ]
    },
    {
     "cell_type": "code",
     "collapsed": false,
     "input": [
      "overlineBeamFits = []\n",
      "for beam in overlineBeamCollection:\n",
      "    overlineBeamFits.append(interp1d(uVectFFT, beam, kind='cubic'))"
     ],
     "language": "python",
     "metadata": {},
     "outputs": [],
     "prompt_number": 14
    },
    {
     "cell_type": "markdown",
     "metadata": {},
     "source": [
      "Define an overlap function:"
     ]
    },
    {
     "cell_type": "code",
     "collapsed": false,
     "input": [
      "def overlapFct(u,iChannel,jChannel,overlineBeamFits,uBl):\n",
      "    overlap = overlineBeamFits[iChannel](u-uBl[iChannel])\n",
      "    overlap *= np.conjugate(overlineBeamFits[jChannel](u-uBl[jChannel]))\n",
      "    return overlap"
     ],
     "language": "python",
     "metadata": {},
     "outputs": [],
     "prompt_number": 15
    },
    {
     "cell_type": "markdown",
     "metadata": {},
     "source": [
      "Now we're ready to form our $\\mathbf{C}_{,\\alpha}$ matrices, which are given by\n",
      "\n",
      "$\\mathbf{C}_{,\\alpha} = \\int_{\\eta_{\\rm lower}}^{\\eta_{\\rm higher}} d\\eta e^{i 2 \\pi \\eta (\\nu_i - \\nu_j)}  \\int_{u_{\\rm lower}}^{u_{\\rm higher}} du \\,\n",
      "\\overline{A} \\left( u-\\frac{\\nu_i b }{ c} \\right)  \\overline{A}^* \\left( u-\\frac{\\nu_j b }{ c} \\right)$.\n",
      "\n",
      "Notice how the integrals separate.  This is good news, because it means we can just compute the spatial part (indexed by the $u$ coordinates of our bands) and then multiply by the corresponding $\\eta$ portion.  This saves us a lot of computation."
     ]
    },
    {
     "cell_type": "markdown",
     "metadata": {},
     "source": [
      "Define our bandpowers:"
     ]
    },
    {
     "cell_type": "code",
     "collapsed": false,
     "input": [
      "uNumBins = 10\n",
      "etaNumBins = 20\n",
      "numBands = uNumBins * etaNumBins\n",
      "uBuffer = 2. # in rad^-1\n",
      "etaBuffer = 2. # in MHz^-1\n",
      "uTemp = np.linspace(uBaseline[0]-uBuffer,uBaseline[-1]+uBuffer,uNumBins+1)\n",
      "etaTemp = np.linspace(-1/(2*freqRes)-etaBuffer,1/(2*freqRes)+etaBuffer, etaNumBins+1)\n",
      "uBandBounds = np.zeros((uNumBins,2))\n",
      "etaBandBounds = np.zeros((etaNumBins,2))\n",
      "uBandBounds[:,0] = uTemp[:-1]\n",
      "uBandBounds[:,1] = uTemp[1:]\n",
      "etaBandBounds[:,0] = etaTemp[:-1]\n",
      "etaBandBounds[:,1] = etaTemp[1:]"
     ],
     "language": "python",
     "metadata": {},
     "outputs": [],
     "prompt_number": 16
    },
    {
     "cell_type": "code",
     "collapsed": false,
     "input": [
      "integratedOverlapVects = np.zeros((uNumBins,numFreqs*(numFreqs+1)/2),dtype=complex128)\n",
      "for bandNum,(uLower,uHigher) in enumerate(uBandBounds):\n",
      "    print bandNum,uLower,uHigher\n",
      "    k=0\n",
      "    for i in range(numFreqs):\n",
      "        for j in range(i+1):\n",
      "            integratedOverlapVects[bandNum,k] = \\\n",
      "            quad(lambda u: np.real(overlapFct(u,i,j,overlineBeamFits,uBaseline)), uLower,uHigher)[0]\n",
      "            k += 1"
     ],
     "language": "python",
     "metadata": {},
     "outputs": [
      {
       "output_type": "stream",
       "stream": "stdout",
       "text": [
        "0 5.73333333333 6.1864\n",
        "1"
       ]
      },
      {
       "output_type": "stream",
       "stream": "stdout",
       "text": [
        " 6.1864 6.63946666667\n",
        "2"
       ]
      },
      {
       "output_type": "stream",
       "stream": "stdout",
       "text": [
        " 6.63946666667 7.09253333333\n",
        "3"
       ]
      },
      {
       "output_type": "stream",
       "stream": "stdout",
       "text": [
        " 7.09253333333 7.5456\n",
        "4"
       ]
      },
      {
       "output_type": "stream",
       "stream": "stdout",
       "text": [
        " 7.5456 7.99866666667\n",
        "5"
       ]
      },
      {
       "output_type": "stream",
       "stream": "stdout",
       "text": [
        " 7.99866666667 8.45173333333\n",
        "6"
       ]
      },
      {
       "output_type": "stream",
       "stream": "stdout",
       "text": [
        " 8.45173333333 8.9048\n",
        "7"
       ]
      },
      {
       "output_type": "stream",
       "stream": "stdout",
       "text": [
        " 8.9048 9.35786666667\n",
        "8"
       ]
      },
      {
       "output_type": "stream",
       "stream": "stdout",
       "text": [
        " 9.35786666667 9.81093333333\n",
        "9"
       ]
      },
      {
       "output_type": "stream",
       "stream": "stdout",
       "text": [
        " 9.81093333333 10.264\n"
       ]
      }
     ],
     "prompt_number": 17
    },
    {
     "cell_type": "markdown",
     "metadata": {},
     "source": [
      "Note that if the beam isn't real and symmetric, the overlap integral can be complex.  Will have to revise this if the beam is asymmetric."
     ]
    },
    {
     "cell_type": "markdown",
     "metadata": {},
     "source": [
      "The $\\eta$ portion of the integral can be done analytically.  We have\n",
      "\n",
      "$\\int_{\\eta_{\\rm lower}}^{\\eta_{\\rm higher}} e^{i 2\\pi (\\nu_i - \\nu_j) \\eta} d\\eta = (\\eta_{\\rm higher} - \\eta_{\\rm lower}) e^{i 2 \\pi (\\nu_i - \\nu_j) \\overline{\\eta}} \\textrm{sinc} [ \\pi (\\nu_i - \\nu_j) (\\eta_{\\rm higher} - \\eta_{\\rm lower})]$."
     ]
    },
    {
     "cell_type": "code",
     "collapsed": false,
     "input": [
      "etaPieceVects = np.zeros((etaNumBins,numFreqs*(numFreqs+1)/2),dtype=complex128)\n",
      "for bandNum,(etaLower,etaHigher) in enumerate(etaBandBounds):\n",
      "    deltaEta = etaHigher - etaLower\n",
      "    avEta = (etaLower + etaHigher) / 2.\n",
      "    k=0\n",
      "    for i in range(numFreqs):\n",
      "        for j in range(i+1):\n",
      "            deltaNu = freqVect[i] - freqVect[j]\n",
      "            etaPieceVects[bandNum,k] = deltaEta * np.sinc(deltaNu * deltaEta)\n",
      "            etaPieceVects[bandNum,k] *= np.exp(1j * 2 * np.pi * avEta * deltaNu)\n",
      "            # Again, don't forget that numpy does the silly thing where a pi is included in the definition of sinc\n",
      "            k += 1"
     ],
     "language": "python",
     "metadata": {},
     "outputs": [],
     "prompt_number": 18
    },
    {
     "cell_type": "code",
     "collapsed": false,
     "input": [
      "uBandBounds"
     ],
     "language": "python",
     "metadata": {},
     "outputs": [
      {
       "metadata": {},
       "output_type": "pyout",
       "prompt_number": 24,
       "text": [
        "array([[  5.73333333,   6.1864    ],\n",
        "       [  6.1864    ,   6.63946667],\n",
        "       [  6.63946667,   7.09253333],\n",
        "       [  7.09253333,   7.5456    ],\n",
        "       [  7.5456    ,   7.99866667],\n",
        "       [  7.99866667,   8.45173333],\n",
        "       [  8.45173333,   8.9048    ],\n",
        "       [  8.9048    ,   9.35786667],\n",
        "       [  9.35786667,   9.81093333],\n",
        "       [  9.81093333,  10.264     ]])"
       ]
      }
     ],
     "prompt_number": 24
    },
    {
     "cell_type": "code",
     "collapsed": false,
     "input": [
      "integratedOverlapVects[8,32]"
     ],
     "language": "python",
     "metadata": {},
     "outputs": [
      {
       "metadata": {},
       "output_type": "pyout",
       "prompt_number": 25,
       "text": [
        "(0.00078628119201328613+0j)"
       ]
      }
     ],
     "prompt_number": 25
    },
    {
     "cell_type": "markdown",
     "metadata": {},
     "source": [
      "Combine it all, giving one matrix per cell on the $(u, \\eta)$ plane.  The convention we adopt is that we cycle through the $\\eta$ bands more quickly than we do the $u$ bands."
     ]
    },
    {
     "cell_type": "code",
     "collapsed": false,
     "input": [
      "CcommaVects = np.zeros((numBands,numFreqs*(numFreqs+1)/2),dtype=complex128)\n",
      "k=0\n",
      "for i in range(uNumBins):\n",
      "    for j in range(etaNumBins):\n",
      "        CcommaVects[k] = etaPieceVects[j] * integratedOverlapVects[i] #integratedOverlapVects[i]\n",
      "        k += 1"
     ],
     "language": "python",
     "metadata": {},
     "outputs": [],
     "prompt_number": 18
    },
    {
     "cell_type": "code",
     "collapsed": false,
     "input": [
      "def vect2sq(n,vect):\n",
      "    \"\"\"Converts a Hermitian matrix from lower triangular vector form to square matrix form\"\"\"\n",
      "    sq = np.zeros((n,n),dtype=complex128)\n",
      "    for i in range(n):\n",
      "        for j in range(n):\n",
      "            if i >= j:\n",
      "                sq[i,j] = vect[j+i*(i+1)/2]\n",
      "            else:\n",
      "                sq[i,j] = np.conjugate(vect[i+j*(j+1)/2])\n",
      "    return sq"
     ],
     "language": "python",
     "metadata": {},
     "outputs": [],
     "prompt_number": 19
    },
    {
     "cell_type": "code",
     "collapsed": false,
     "input": [
      "CcommaSq = np.zeros((numBands,numFreqs,numFreqs),dtype=complex128)\n",
      "for i,vect in enumerate(CcommaVects):\n",
      "    CcommaSq[i] = vect2sq(numFreqs,vect)"
     ],
     "language": "python",
     "metadata": {},
     "outputs": [],
     "prompt_number": 20
    },
    {
     "cell_type": "markdown",
     "metadata": {},
     "source": [
      "Phew! Finally done with the $\\mathbf{C}_{,\\alpha}$ matrices! Now let's try a Monte Carlo simulation, like the ones we did before."
     ]
    },
    {
     "cell_type": "code",
     "collapsed": false,
     "input": [
      "inputP = 8.6 * np.ones(numBands)\n",
      "uSepFct = 34.*np.sin(8* ((uBandBounds[:,0] + uBandBounds[:,1])/2) / np.pi)**2\n",
      "etaSepFct = np.cos(3* ((etaBandBounds[:,0] + etaBandBounds[:,1])/2) / np.pi)**2\n",
      "pspecPic = np.outer(uSepFct,etaSepFct)\n",
      "inputP = np.reshape(pspecPic, (numBands))\n",
      "plt.pcolor(np.transpose(pspecPic))"
     ],
     "language": "python",
     "metadata": {},
     "outputs": [
      {
       "metadata": {},
       "output_type": "pyout",
       "prompt_number": 21,
       "text": [
        "<matplotlib.collections.PolyCollection at 0x10a0835d0>"
       ]
      },
      {
       "metadata": {},
       "output_type": "display_data",
       "png": "[encoded data removed]",
       "text": [
        "<matplotlib.figure.Figure at 0x10a04e590>"
       ]
      }
     ],
     "prompt_number": 21
    },
    {
     "cell_type": "code",
     "collapsed": false,
     "input": [
      "totalCovar = np.einsum('a,aij', inputP, CcommaSq)"
     ],
     "language": "python",
     "metadata": {},
     "outputs": [],
     "prompt_number": 22
    },
    {
     "cell_type": "code",
     "collapsed": false,
     "input": [
      "f, ax = plt.subplots(figsize=(10,6))\n",
      "ax.semilogy(np.real(np.linalg.eigh(totalCovar)[0][::-1]))"
     ],
     "language": "python",
     "metadata": {},
     "outputs": [
      {
       "metadata": {},
       "output_type": "pyout",
       "prompt_number": 23,
       "text": [
        "[<matplotlib.lines.Line2D at 0x10a09f250>]"
       ]
      },
      {
       "metadata": {},
       "output_type": "display_data",
       "png": "[encoded data removed]",
       "text": [
        "<matplotlib.figure.Figure at 0x10a076b10>"
       ]
      }
     ],
     "prompt_number": 23
    },
    {
     "cell_type": "markdown",
     "metadata": {},
     "source": [
      "Ok, so the scree plot isn't quite as flat as the one we had before.  This could be due to our extension to outside the $u$ bands where we have sensitivity, but I'm not 100% sure of that."
     ]
    },
    {
     "cell_type": "code",
     "collapsed": false,
     "input": [
      "Lmatrix = np.linalg.cholesky(totalCovar)\n",
      "LinvMatrix = np.linalg.inv(Lmatrix)"
     ],
     "language": "python",
     "metadata": {},
     "outputs": [],
     "prompt_number": 24
    },
    {
     "cell_type": "code",
     "collapsed": false,
     "input": [
      "LPLmatrices = np.einsum('aik,kj',np.einsum('ij,ajk', LinvMatrix, CcommaSq),np.conjugate(LinvMatrix).T)"
     ],
     "language": "python",
     "metadata": {},
     "outputs": [],
     "prompt_number": 25
    },
    {
     "cell_type": "code",
     "collapsed": false,
     "input": [
      "fisher = 0.5 * np.einsum('aij,bji', LPLmatrices,LPLmatrices)\n",
      "diagNorms = np.sum(fisher, axis=1)\n",
      "diagMmatrix = np.diagflat(1 / diagNorms)\n",
      "diagNormedWind = np.einsum('ij,jk', diagMmatrix, fisher)\n",
      "diagNormedWindPics = [np.transpose(np.reshape(windVect,(uNumBins,etaNumBins))) for windVect in diagNormedWind]"
     ],
     "language": "python",
     "metadata": {},
     "outputs": [],
     "prompt_number": 26
    },
    {
     "cell_type": "code",
     "collapsed": false,
     "input": [
      "f, ax = plt.subplots(figsize=(10,6))\n",
      "ax.plot(diagNormedWind[100])"
     ],
     "language": "python",
     "metadata": {},
     "outputs": [
      {
       "metadata": {},
       "output_type": "pyout",
       "prompt_number": 27,
       "text": [
        "[<matplotlib.lines.Line2D at 0x103235110>]"
       ]
      },
      {
       "metadata": {},
       "output_type": "display_data",
       "png": "[encoded data removed]",
       "text": [
        "<matplotlib.figure.Figure at 0x1064d6890>"
       ]
      }
     ],
     "prompt_number": 27
    },
    {
     "cell_type": "code",
     "collapsed": false,
     "input": [
      "f, ax = plt.subplots(figsize=(6,8))\n",
      "ax.pcolor(np.log(diagNormedWindPics[100]))"
     ],
     "language": "python",
     "metadata": {},
     "outputs": [
      {
       "metadata": {},
       "output_type": "pyout",
       "prompt_number": 28,
       "text": [
        "<matplotlib.collections.PolyCollection at 0x103265350>"
       ]
      },
      {
       "output_type": "stream",
       "stream": "stderr",
       "text": [
        "//anaconda/lib/python2.7/site-packages/numpy/ma/core.py:2914: ComplexWarning: Casting complex values to real discards the imaginary part\n",
        "  output = self._data.astype(newtype).view(type(self))\n",
        "//anaconda/lib/python2.7/site-packages/matplotlib/colors.py:909: ComplexWarning: Casting complex values to real discards the imaginary part\n",
        "  vmin = float(vmin)\n",
        "//anaconda/lib/python2.7/site-packages/matplotlib/colors.py:910: ComplexWarning: Casting complex values to real discards the imaginary part\n",
        "  vmax = float(vmax)\n"
       ]
      },
      {
       "metadata": {},
       "output_type": "display_data",
       "png": "[encoded data removed]",
       "text": [
        "<matplotlib.figure.Figure at 0x1093d6810>"
       ]
      }
     ],
     "prompt_number": 28
    },
    {
     "cell_type": "markdown",
     "metadata": {},
     "source": [
      "There is definitely an aliasing issue here, which we didn't see in the analytic version.  It's mild for certain portions of the plane (for \"middle\" $\\eta$, which really corresponds to small $|\\eta|$ since we're doing both positive and negative $\\eta$ values here), but quite bad when we get to the edges of our $\\eta$ range.  Some ideas:\n",
      "\n",
      "* Extend the $\\eta$ values a bit? Or maybe our buffer is hurting?\n",
      "* Impose a bandpass/tapering function?\n",
      "* Bin the $\\pm |\\eta|$ bands?\n",
      "\n",
      "For some of these I have absolutely no idea whether they make sense/are relevant."
     ]
    },
    {
     "cell_type": "code",
     "collapsed": false,
     "input": [
      "numTrials = 10000\n",
      "bandNumForSlice = 25\n",
      "qhatMean = np.zeros(numBands)\n",
      "meanSlice = np.zeros(numTrials)\n",
      "qhatVariance = np.zeros((numBands,numBands))\n",
      "for i in range(numTrials):\n",
      "    zRand = np.random.normal(size=numFreqs)\n",
      "    xTemp = np.copy(np.einsum('ij,j', Lmatrix, zRand))\n",
      "    whitenedRealization = np.dot(LinvMatrix,xTemp)\n",
      "    qhatRealization = 0.5 * np.einsum('i,ai',np.conjugate(whitenedRealization), \\\n",
      "                 np.einsum('aij,j',LPLmatrices,whitenedRealization))\n",
      "    qhatMean += qhatRealization\n",
      "    meanSlice[i] = qhatRealization[bandNumForSlice]\n",
      "    qhatVariance += np.outer(qhatRealization,np.conjugate(qhatRealization))\n",
      "qhatMean /= numTrials\n",
      "qhatVariance /= numTrials\n",
      "qhatVariance -= np.outer(qhatMean, np.conjugate(qhatMean))\n",
      "phatMean = np.dot(diagMmatrix,qhatMean)\n",
      "phatVariance = np.dot(diagMmatrix,np.dot(qhatVariance,np.conjugate(diagMmatrix).T))"
     ],
     "language": "python",
     "metadata": {},
     "outputs": [
      {
       "output_type": "stream",
       "stream": "stderr",
       "text": [
        "-c:11: ComplexWarning: Casting complex values to real discards the imaginary part\n",
        "-c:12: ComplexWarning: Casting complex values to real discards the imaginary part\n",
        "-c:13: ComplexWarning: Casting complex values to real discards the imaginary part\n"
       ]
      }
     ],
     "prompt_number": 29
    },
    {
     "cell_type": "code",
     "collapsed": false,
     "input": [
      "plt.pcolor(np.transpose(np.reshape(np.real(phatMean),(uNumBins,etaNumBins))))"
     ],
     "language": "python",
     "metadata": {},
     "outputs": [
      {
       "metadata": {},
       "output_type": "pyout",
       "prompt_number": 30,
       "text": [
        "<matplotlib.collections.PolyCollection at 0x10e9b8bd0>"
       ]
      },
      {
       "metadata": {},
       "output_type": "display_data",
       "png": "[encoded data removed]",
       "text": [
        "<matplotlib.figure.Figure at 0x10320e650>"
       ]
      }
     ],
     "prompt_number": 30
    },
    {
     "cell_type": "code",
     "collapsed": false,
     "input": [
      "np.real(phatMean)"
     ],
     "language": "python",
     "metadata": {},
     "outputs": [
      {
       "metadata": {},
       "output_type": "pyout",
       "prompt_number": 31,
       "text": [
        "array([  2.31855173,  12.02867972,   4.44858338,   2.34545652,\n",
        "        12.43210212,   3.53709505,   6.94125831,   6.06721679,\n",
        "         0.43772178,   5.38066934,   5.38066934,   0.43772178,\n",
        "         6.06721679,   6.94125831,   3.53709505,  12.43210212,\n",
        "         2.34545652,   4.44858338,  12.02867972,   2.31855173,\n",
        "         2.30741178,  12.24854183,   4.47792573,   2.34170654,\n",
        "        12.82228208,   3.53456801,   7.02034187,   6.49376013,\n",
        "         0.43558939,   5.72423779,   5.72423779,   0.43558939,\n",
        "         6.49376013,   7.02034187,   3.53456801,  12.82228208,\n",
        "         2.34170654,   4.47792573,  12.24854183,   2.30741178,\n",
        "         2.29123095,  12.59220541,   4.52475099,   2.33672695,\n",
        "        13.46272756,   3.53120146,   7.14123754,   7.28812825,\n",
        "         0.43252483,   6.34876403,   6.34876403,   0.43252483,\n",
        "         7.28812825,   7.14123754,   3.53120146,  13.46272756,\n",
        "         2.33672695,   4.52475099,  12.59220541,   2.29123095,\n",
        "         2.27338945,  13.01194173,   4.58132804,   2.33191642,\n",
        "        14.28697339,   3.5276763 ,   7.28443287,   8.49735508,\n",
        "         0.42911237,   7.26558634,   7.26558634,   0.42911237,\n",
        "         8.49735508,   7.28443287,   3.5276763 ,  14.28697339,\n",
        "         2.33191642,   4.58132804,  13.01194173,   2.27338945,\n",
        "         2.2595735 ,  13.37763801,   4.62843538,   2.32911807,\n",
        "        15.02748202,   3.52436818,   7.40511252,   9.78428764,\n",
        "         0.42619756,   8.20385251,   8.20385251,   0.42619756,\n",
        "         9.78428764,   7.40511252,   3.52436818,  15.02748202,\n",
        "         2.32911807,   4.62843538,  13.37763801,   2.2595735 ,\n",
        "         2.25761952,  13.45884603,   4.63425965,   2.33041179,\n",
        "        15.13491586,   3.52126569,   7.43105697,   9.88438651,\n",
        "         0.42484463,   8.29556937,   8.29556937,   0.42484463,\n",
        "         9.88438651,   7.43105697,   3.52126569,  15.13491586,\n",
        "         2.33041179,   4.63425965,  13.45884603,   2.25761952,\n",
        "         2.27436587,  13.08553415,   4.57542915,   2.33756259,\n",
        "        14.25567853,   3.51896493,   7.30815359,   8.19716748,\n",
        "         0.42607192,   7.09180061,   7.09180061,   0.42607192,\n",
        "         8.19716748,   7.30815359,   3.51896493,  14.25567853,\n",
        "         2.33756259,   4.57542915,  13.08553415,   2.27436587,\n",
        "         2.3102224 ,  12.37790664,   4.46812632,   2.35137877,\n",
        "        12.82433663,   3.52005899,   7.06704156,   6.23458739,\n",
        "         0.43032646,   5.57225874,   5.57225874,   0.43032646,\n",
        "         6.23458739,   7.06704156,   3.52005899,  12.82433663,\n",
        "         2.35137877,   4.46812632,  12.37790664,   2.3102224 ,\n",
        "         2.35996401,  11.58313875,   4.3505262 ,   2.37208777,\n",
        "        11.42757793,   3.52809592,   6.78437948,   4.84925755,\n",
        "         0.43744805,   4.42320785,   4.42320785,   0.43744805,\n",
        "         4.84925755,   6.78437948,   3.52809592,  11.42757793,\n",
        "         2.37208777,   4.3505262 ,  11.58313875,   2.35996401,\n",
        "         2.4185829 ,  10.82666124,   4.24505886,   2.39983794,\n",
        "        10.25545197,   3.54470049,   6.50391648,   3.95255423,\n",
        "         0.44721641,   3.64445551,   3.64445551,   0.44721641,\n",
        "         3.95255423,   6.50391648,   3.54470049,  10.25545197,\n",
        "         2.39983794,   4.24505886,  10.82666124,   2.4185829 ])"
       ]
      }
     ],
     "prompt_number": 31
    },
    {
     "cell_type": "code",
     "collapsed": false,
     "input": [
      "expectedMeasurement = np.dot(diagNormedWind,inputP)\n",
      "print np.real(expectedMeasurement)"
     ],
     "language": "python",
     "metadata": {},
     "outputs": [
      {
       "output_type": "stream",
       "stream": "stdout",
       "text": [
        "[  2.32587665  12.05039499   4.43657347   2.37318782  12.38811422\n",
        "   3.52239929   6.93429475   6.05344305   0.4349323    5.38801137\n",
        "   5.38801137   0.4349323    6.05344305   6.93429475   3.52239929\n",
        "  12.38811422   2.37318782   4.43657347  12.05039499   2.32587665\n",
        "   2.314522    12.27071197   4.46670604   2.36827128  12.77592048\n",
        "   3.52055865   7.01013098   6.48126417   0.43311368   5.73008758\n",
        "   5.73008758   0.43311368   6.48126417   7.01013098   3.52055865\n",
        "  12.77592048   2.36827128   4.46670604  12.27071197   2.314522\n",
        "   2.29803414  12.6131077    4.51470455   2.36147804  13.41204138\n",
        "   3.51833459   7.12520508   7.27794187   0.43057008   6.35153729\n",
        "   6.35153729   0.43057008   7.27794187   7.12520508   3.51833459\n",
        "  13.41204138   2.36147804   4.51470455  12.6131077    2.29803414\n",
        "   2.27982713  13.02737081   4.57261854   2.35436363  14.23013607\n",
        "   3.51642538   7.26017396   8.49067687   0.42785934   7.26231711\n",
        "   7.26231711   0.42785934   8.49067687   7.26017396   3.51642538\n",
        "  14.23013607   2.35436363   4.57261854  13.02737081   2.27982713\n",
        "   2.26555421  13.38085679   4.62082628   2.34900421  14.96426482\n",
        "   3.51526659   7.37206146   9.78129928   0.42576283   8.19002872\n",
        "   8.19002872   0.42576283   9.78129928   7.37206146   3.51526659\n",
        "  14.96426482   2.34900421   4.62082628  13.38085679   2.26555421\n",
        "   2.26284355  13.44424509   4.6270772    2.34782001  15.06942878\n",
        "   3.51487916   7.39279811   9.88187213   0.42523119   8.26978428\n",
        "   8.26978428   0.42523119   9.88187213   7.39279811   3.51487916\n",
        "  15.06942878   2.34782001   4.6270772   13.44424509   2.26284355\n",
        "   2.27817433  13.05508936   4.56787087   2.35304342  14.19610431\n",
        "   3.51560817   7.27158224   8.19100597   0.42714354   7.06240279\n",
        "   7.06240279   0.42714354   8.19100597   7.27158224   3.51560817\n",
        "  14.19610431   2.35304342   4.56787087  13.05508936   2.27817433\n",
        "   2.31178775  12.34013451   4.45955913   2.36587082  12.77677167\n",
        "   3.5193062    7.0360315    6.22494982   0.43186556   5.54890506\n",
        "   5.54890506   0.43186556   6.22494982   7.0360315    3.5193062\n",
        "  12.77677167   2.36587082   4.45955913  12.34013451   2.31178775\n",
        "   2.35873692  11.54447681   4.34020841   2.38650045  11.39333413\n",
        "   3.52858738   6.75637086   4.83779607   0.43924933   4.40858749\n",
        "   4.40858749   0.43924933   4.83779607   6.75637086   3.52858738\n",
        "  11.39333413   2.38650045   4.34020841  11.54447681   2.35873692\n",
        "   2.41443517  10.78901998   4.23193615   2.41461386  10.23345312\n",
        "   3.54449319   6.47379215   3.94005417   0.44910244   3.63692128\n",
        "   3.63692128   0.44910244   3.94005417   6.47379215   3.54449319\n",
        "  10.23345312   2.41461386   4.23193615  10.78901998   2.41443517]\n"
       ]
      }
     ],
     "prompt_number": 34
    },
    {
     "cell_type": "markdown",
     "metadata": {},
     "source": [
      "Ok, looks like it was working all along.  Now let's do another one of our usual tests.  Let's go crazy and double the $u$ resolution while we increase the $\\eta$ resolution by $50\\%$."
     ]
    },
    {
     "cell_type": "code",
     "collapsed": false,
     "input": [
      "uNumBins_fine = 20\n",
      "etaNumBins_fine = 30\n",
      "numBands_fine = uNumBins_fine * etaNumBins_fine\n",
      "uBuffer = 2. # in rad^-1\n",
      "etaBuffer = 2. # in MHz^-1\n",
      "uTemp = np.linspace(uBaseline[0]-uBuffer,uBaseline[-1]+uBuffer,uNumBins_fine+1)\n",
      "etaTemp = np.linspace(-1/(2*freqRes)-etaBuffer,1/(2*freqRes)+etaBuffer, etaNumBins_fine+1)\n",
      "uBandBounds_fine = np.zeros((uNumBins_fine,2))\n",
      "etaBandBounds_fine = np.zeros((etaNumBins_fine,2))\n",
      "uBandBounds_fine[:,0] = uTemp[:-1]\n",
      "uBandBounds_fine[:,1] = uTemp[1:]\n",
      "etaBandBounds_fine[:,0] = etaTemp[:-1]\n",
      "etaBandBounds_fine[:,1] = etaTemp[1:]"
     ],
     "language": "python",
     "metadata": {},
     "outputs": [],
     "prompt_number": 35
    },
    {
     "cell_type": "code",
     "collapsed": false,
     "input": [
      "integratedOverlapVects_fine = np.zeros((uNumBins_fine,numFreqs*(numFreqs+1)/2),dtype=complex128)\n",
      "for bandNum,(uLower,uHigher) in enumerate(uBandBounds_fine):\n",
      "    print bandNum,uLower,uHigher\n",
      "    k=0\n",
      "    for i in range(numFreqs):\n",
      "        for j in range(i+1):\n",
      "            integratedOverlapVects_fine[bandNum,k] = \\\n",
      "            quad(lambda u: np.real(overlapFct(u,i,j,overlineBeamFits,uBaseline)), uLower,uHigher)[0]\n",
      "            k += 1"
     ],
     "language": "python",
     "metadata": {},
     "outputs": [
      {
       "output_type": "stream",
       "stream": "stdout",
       "text": [
        "0 5.73333333333 5.95986666667\n",
        "1"
       ]
      },
      {
       "output_type": "stream",
       "stream": "stdout",
       "text": [
        " 5.95986666667 6.1864\n",
        "2"
       ]
      },
      {
       "output_type": "stream",
       "stream": "stdout",
       "text": [
        " 6.1864 6.41293333333\n",
        "3"
       ]
      },
      {
       "output_type": "stream",
       "stream": "stdout",
       "text": [
        " 6.41293333333 6.63946666667\n",
        "4"
       ]
      },
      {
       "output_type": "stream",
       "stream": "stdout",
       "text": [
        " 6.63946666667 6.866\n",
        "5"
       ]
      },
      {
       "output_type": "stream",
       "stream": "stdout",
       "text": [
        " 6.866 7.09253333333\n",
        "6"
       ]
      },
      {
       "output_type": "stream",
       "stream": "stdout",
       "text": [
        " 7.09253333333 7.31906666667\n",
        "7"
       ]
      },
      {
       "output_type": "stream",
       "stream": "stdout",
       "text": [
        " 7.31906666667 7.5456\n",
        "8"
       ]
      },
      {
       "output_type": "stream",
       "stream": "stdout",
       "text": [
        " 7.5456 7.77213333333\n",
        "9"
       ]
      },
      {
       "output_type": "stream",
       "stream": "stdout",
       "text": [
        " 7.77213333333 7.99866666667\n",
        "10"
       ]
      },
      {
       "output_type": "stream",
       "stream": "stdout",
       "text": [
        " 7.99866666667 8.2252\n",
        "11"
       ]
      },
      {
       "output_type": "stream",
       "stream": "stdout",
       "text": [
        " 8.2252 8.45173333333\n",
        "12"
       ]
      },
      {
       "output_type": "stream",
       "stream": "stdout",
       "text": [
        " 8.45173333333 8.67826666667\n",
        "13"
       ]
      },
      {
       "output_type": "stream",
       "stream": "stdout",
       "text": [
        " 8.67826666667 8.9048\n",
        "14"
       ]
      },
      {
       "output_type": "stream",
       "stream": "stdout",
       "text": [
        " 8.9048 9.13133333333\n",
        "15"
       ]
      },
      {
       "output_type": "stream",
       "stream": "stdout",
       "text": [
        " 9.13133333333 9.35786666667\n",
        "16"
       ]
      },
      {
       "output_type": "stream",
       "stream": "stdout",
       "text": [
        " 9.35786666667 9.5844\n",
        "17"
       ]
      },
      {
       "output_type": "stream",
       "stream": "stdout",
       "text": [
        " 9.5844 9.81093333333\n",
        "18"
       ]
      },
      {
       "output_type": "stream",
       "stream": "stdout",
       "text": [
        " 9.81093333333 10.0374666667\n",
        "19"
       ]
      },
      {
       "output_type": "stream",
       "stream": "stdout",
       "text": [
        " 10.0374666667 10.264\n"
       ]
      }
     ],
     "prompt_number": 37
    },
    {
     "cell_type": "code",
     "collapsed": false,
     "input": [
      "etaPieceVects_fine = np.zeros((etaNumBins_fine,numFreqs*(numFreqs+1)/2),dtype=complex128)\n",
      "for bandNum,(etaLower,etaHigher) in enumerate(etaBandBounds_fine):\n",
      "    deltaEta = etaHigher - etaLower\n",
      "    avEta = (etaLower + etaHigher) / 2.\n",
      "    k=0\n",
      "    for i in range(numFreqs):\n",
      "        for j in range(i+1):\n",
      "            deltaNu = freqVect[i] - freqVect[j]\n",
      "            etaPieceVects_fine[bandNum,k] = deltaEta * np.sinc(deltaNu * deltaEta)\n",
      "            etaPieceVects_fine[bandNum,k] *= np.exp(1j * 2 * np.pi * avEta * deltaNu)\n",
      "            # Again, don't forget that numpy does the silly thing where a pi is included in the definition of sinc\n",
      "            k += 1"
     ],
     "language": "python",
     "metadata": {},
     "outputs": [],
     "prompt_number": 38
    },
    {
     "cell_type": "code",
     "collapsed": false,
     "input": [
      "CcommaVects_fine = np.zeros((numBands_fine,numFreqs*(numFreqs+1)/2),dtype=complex128)\n",
      "k=0\n",
      "for i in range(uNumBins_fine):\n",
      "    for j in range(etaNumBins_fine):\n",
      "        CcommaVects_fine[k] = etaPieceVects_fine[j] * integratedOverlapVects_fine[i] #integratedOverlapVects[i]\n",
      "        k += 1"
     ],
     "language": "python",
     "metadata": {},
     "outputs": [],
     "prompt_number": 40
    },
    {
     "cell_type": "code",
     "collapsed": false,
     "input": [
      "CcommaSq_fine = np.zeros((numBands_fine,numFreqs,numFreqs),dtype=complex128)\n",
      "for i,vect in enumerate(CcommaVects_fine):\n",
      "    CcommaSq_fine[i] = vect2sq(numFreqs,vect)"
     ],
     "language": "python",
     "metadata": {},
     "outputs": [],
     "prompt_number": 41
    },
    {
     "cell_type": "code",
     "collapsed": false,
     "input": [
      "LPLmatrices_fine = np.einsum('aik,kj',np.einsum('ij,ajk', LinvMatrix, CcommaSq_fine),np.conjugate(LinvMatrix).T)"
     ],
     "language": "python",
     "metadata": {},
     "outputs": [],
     "prompt_number": 42
    },
    {
     "cell_type": "code",
     "collapsed": false,
     "input": [
      "fisher_fine = 0.5 * np.einsum('aij,bji', LPLmatrices_fine,LPLmatrices_fine)\n",
      "diagNorms_fine = np.sum(fisher_fine, axis=1)\n",
      "diagMmatrix_fine = np.diagflat(1 / diagNorms_fine)\n",
      "diagNormedWind_fine = np.einsum('ij,jk', diagMmatrix_fine, fisher_fine)\n",
      "diagNormedWindPics_fine = [np.transpose(np.reshape(windVect_fine,(uNumBins_fine,etaNumBins_fine))) for windVect_fine in diagNormedWind_fine]"
     ],
     "language": "python",
     "metadata": {},
     "outputs": [],
     "prompt_number": 44
    },
    {
     "cell_type": "code",
     "collapsed": false,
     "input": [
      "f, ax = plt.subplots(figsize=(10,6))\n",
      "ax.plot(diagNormedWind_fine[195])"
     ],
     "language": "python",
     "metadata": {},
     "outputs": [
      {
       "metadata": {},
       "output_type": "pyout",
       "prompt_number": 52,
       "text": [
        "[<matplotlib.lines.Line2D at 0x12d498190>]"
       ]
      },
      {
       "metadata": {},
       "output_type": "display_data",
       "png": "[encoded data removed]",
       "text": [
        "<matplotlib.figure.Figure at 0x10cacae90>"
       ]
      }
     ],
     "prompt_number": 52
    },
    {
     "cell_type": "code",
     "collapsed": false,
     "input": [
      "f, ax = plt.subplots(figsize=(6,8))\n",
      "ax.pcolor(np.log(diagNormedWindPics_fine[195]))"
     ],
     "language": "python",
     "metadata": {},
     "outputs": [
      {
       "metadata": {},
       "output_type": "pyout",
       "prompt_number": 51,
       "text": [
        "<matplotlib.collections.PolyCollection at 0x11bbb1a90>"
       ]
      },
      {
       "metadata": {},
       "output_type": "display_data",
       "png": "[encoded data removed]",
       "text": [
        "<matplotlib.figure.Figure at 0x10ac9e190>"
       ]
      }
     ],
     "prompt_number": 51
    },
    {
     "cell_type": "code",
     "collapsed": false,
     "input": [
      "numTrials = 10000\n",
      "bandNumForSlice = 25\n",
      "qhatMean_fine = np.zeros(numBands_fine)\n",
      "meanSlice_fine = np.zeros(numTrials)\n",
      "qhatVariance_fine = np.zeros((numBands_fine,numBands_fine))\n",
      "for i in range(numTrials):\n",
      "    zRand = np.random.normal(size=numFreqs)\n",
      "    xTemp = np.copy(np.einsum('ij,j', Lmatrix, zRand))\n",
      "    whitenedRealization = np.dot(LinvMatrix,xTemp)\n",
      "    qhatRealization_fine = 0.5 * np.einsum('i,ai',np.conjugate(whitenedRealization), \\\n",
      "                 np.einsum('aij,j',LPLmatrices_fine,whitenedRealization))\n",
      "    qhatMean_fine += qhatRealization_fine\n",
      "    meanSlice[i] = qhatRealization_fine[bandNumForSlice]\n",
      "    qhatVariance_fine += np.outer(qhatRealization_fine,np.conjugate(qhatRealization_fine))\n",
      "qhatMean_fine /= numTrials\n",
      "qhatVariance_fine /= numTrials\n",
      "qhatVariance_fine -= np.outer(qhatMean_fine, np.conjugate(qhatMean_fine))\n",
      "phatMean_fine = np.dot(diagMmatrix_fine,qhatMean_fine)\n",
      "phatVariance_fine = np.dot(diagMmatrix_fine,np.dot(qhatVariance_fine,np.conjugate(diagMmatrix_fine).T))"
     ],
     "language": "python",
     "metadata": {},
     "outputs": [],
     "prompt_number": 54
    },
    {
     "cell_type": "markdown",
     "metadata": {},
     "source": [
      "Figure out what things should look like by interpolating the old pspec"
     ]
    },
    {
     "cell_type": "code",
     "collapsed": false,
     "input": [
      "temp = []\n",
      "interpPspecPic = []\n",
      "from scipy.interpolate import interp1d\n",
      "for sliceThroughEta in pspecPic:\n",
      "    x = np.linspace(0,etaNumBins-1,etaNumBins)\n",
      "    f = interp1d(x, sliceThroughEta)\n",
      "    xnew = np.linspace(0,etaNumBins-1,etaNumBins_fine)\n",
      "    temp.append(f(xnew))\n",
      "temp = np.array(temp)\n",
      "    \n",
      "for sliceThroughU in temp.T:\n",
      "    x = np.linspace(0,uNumBins-1,uNumBins)\n",
      "    f = interp1d(x, sliceThroughU)\n",
      "    xnew = np.linspace(0,uNumBins-1,uNumBins_fine)\n",
      "    interpPspecPic.append(f(xnew))\n",
      "interpPspecPic = np.array(interpPspecPic).T\n",
      "\n",
      "interpInputP = np.reshape(interpPspecPic, (numBands_fine))"
     ],
     "language": "python",
     "metadata": {},
     "outputs": [],
     "prompt_number": 150
    },
    {
     "cell_type": "code",
     "collapsed": false,
     "input": [
      "expectedMeasurement_fine = np.dot(diagNormedWind_fine,interpInputP)\n",
      "#print np.real(expectedMeasurement)"
     ],
     "language": "python",
     "metadata": {},
     "outputs": [],
     "prompt_number": 155
    },
    {
     "cell_type": "code",
     "collapsed": false,
     "input": [
      "#print np.real(phatMean)"
     ],
     "language": "python",
     "metadata": {},
     "outputs": [],
     "prompt_number": 156
    },
    {
     "cell_type": "code",
     "collapsed": false,
     "input": [
      "plt.pcolor(np.transpose(np.reshape(np.real(expectedMeasurement_fine),(uNumBins_fine,etaNumBins_fine))))"
     ],
     "language": "python",
     "metadata": {},
     "outputs": [
      {
       "metadata": {},
       "output_type": "pyout",
       "prompt_number": 152,
       "text": [
        "<matplotlib.collections.PolyCollection at 0x1304122d0>"
       ]
      },
      {
       "metadata": {},
       "output_type": "display_data",
       "png": "[encoded data removed]",
       "text": [
        "<matplotlib.figure.Figure at 0x13025f390>"
       ]
      }
     ],
     "prompt_number": 152
    },
    {
     "cell_type": "code",
     "collapsed": false,
     "input": [
      "plt.pcolor(np.transpose(np.reshape(np.real(phatMean_fine),(uNumBins_fine,etaNumBins_fine))))"
     ],
     "language": "python",
     "metadata": {},
     "outputs": [
      {
       "metadata": {},
       "output_type": "pyout",
       "prompt_number": 153,
       "text": [
        "<matplotlib.collections.PolyCollection at 0x1304a5990>"
       ]
      },
      {
       "metadata": {},
       "output_type": "display_data",
       "png": "[encoded data removed]",
       "text": [
        "<matplotlib.figure.Figure at 0x13029af10>"
       ]
      }
     ],
     "prompt_number": 153
    },
    {
     "cell_type": "markdown",
     "metadata": {},
     "source": [
      "The agreement certainly isn't perfect, but it's not bad.  Perhaps it's not surprising that things aren't super great, since the interpolation that we didn't isn't exactly what's happening."
     ]
    },
    {
     "cell_type": "markdown",
     "metadata": {},
     "source": [
      "Now let's try an under-resolved grid, just for completeness"
     ]
    },
    {
     "cell_type": "code",
     "collapsed": false,
     "input": [
      "uNumBins_coarse = 6\n",
      "etaNumBins_coarse = 12\n",
      "numBands_coarse = uNumBins_coarse * etaNumBins_coarse\n",
      "uBuffer = 2. # in rad^-1\n",
      "etaBuffer = 2. # in MHz^-1\n",
      "uTemp = np.linspace(uBaseline[0]-uBuffer,uBaseline[-1]+uBuffer,uNumBins_coarse+1)\n",
      "etaTemp = np.linspace(-1/(2*freqRes)-etaBuffer,1/(2*freqRes)+etaBuffer, etaNumBins_coarse+1)\n",
      "uBandBounds_coarse = np.zeros((uNumBins_coarse,2))\n",
      "etaBandBounds_coarse = np.zeros((etaNumBins_coarse,2))\n",
      "uBandBounds_coarse[:,0] = uTemp[:-1]\n",
      "uBandBounds_coarse[:,1] = uTemp[1:]\n",
      "etaBandBounds_coarse[:,0] = etaTemp[:-1]\n",
      "etaBandBounds_coarse[:,1] = etaTemp[1:]"
     ],
     "language": "python",
     "metadata": {},
     "outputs": [],
     "prompt_number": 157
    },
    {
     "cell_type": "code",
     "collapsed": false,
     "input": [
      "integratedOverlapVects_coarse = np.zeros((uNumBins_coarse,numFreqs*(numFreqs+1)/2),dtype=complex128)\n",
      "for bandNum,(uLower,uHigher) in enumerate(uBandBounds_coarse):\n",
      "    print bandNum,uLower,uHigher\n",
      "    k=0\n",
      "    for i in range(numFreqs):\n",
      "        for j in range(i+1):\n",
      "            integratedOverlapVects_coarse[bandNum,k] = \\\n",
      "            quad(lambda u: np.real(overlapFct(u,i,j,overlineBeamFits,uBaseline)), uLower,uHigher)[0]\n",
      "            k += 1"
     ],
     "language": "python",
     "metadata": {},
     "outputs": [
      {
       "output_type": "stream",
       "stream": "stdout",
       "text": [
        "0 5.73333333333 6.48844444444\n",
        "1"
       ]
      },
      {
       "output_type": "stream",
       "stream": "stdout",
       "text": [
        " 6.48844444444 7.24355555556\n",
        "2"
       ]
      },
      {
       "output_type": "stream",
       "stream": "stdout",
       "text": [
        " 7.24355555556 7.99866666667\n",
        "3"
       ]
      },
      {
       "output_type": "stream",
       "stream": "stdout",
       "text": [
        " 7.99866666667 8.75377777778\n",
        "4"
       ]
      },
      {
       "output_type": "stream",
       "stream": "stdout",
       "text": [
        " 8.75377777778 9.50888888889\n",
        "5"
       ]
      },
      {
       "output_type": "stream",
       "stream": "stdout",
       "text": [
        " 9.50888888889 10.264\n"
       ]
      }
     ],
     "prompt_number": 158
    },
    {
     "cell_type": "code",
     "collapsed": false,
     "input": [
      "etaPieceVects_coarse = np.zeros((etaNumBins_coarse,numFreqs*(numFreqs+1)/2),dtype=complex128)\n",
      "for bandNum,(etaLower,etaHigher) in enumerate(etaBandBounds_coarse):\n",
      "    deltaEta = etaHigher - etaLower\n",
      "    avEta = (etaLower + etaHigher) / 2.\n",
      "    k=0\n",
      "    for i in range(numFreqs):\n",
      "        for j in range(i+1):\n",
      "            deltaNu = freqVect[i] - freqVect[j]\n",
      "            etaPieceVects_coarse[bandNum,k] = deltaEta * np.sinc(deltaNu * deltaEta)\n",
      "            etaPieceVects_coarse[bandNum,k] *= np.exp(1j * 2 * np.pi * avEta * deltaNu)\n",
      "            # Again, don't forget that numpy does the silly thing where a pi is included in the definition of sinc\n",
      "            k += 1"
     ],
     "language": "python",
     "metadata": {},
     "outputs": [],
     "prompt_number": 159
    },
    {
     "cell_type": "code",
     "collapsed": false,
     "input": [
      "CcommaVects_coarse = np.zeros((numBands_coarse,numFreqs*(numFreqs+1)/2),dtype=complex128)\n",
      "k=0\n",
      "for i in range(uNumBins_coarse):\n",
      "    for j in range(etaNumBins_coarse):\n",
      "        CcommaVects_coarse[k] = etaPieceVects_coarse[j] * integratedOverlapVects_coarse[i] #integratedOverlapVects[i]\n",
      "        k += 1"
     ],
     "language": "python",
     "metadata": {},
     "outputs": [],
     "prompt_number": 160
    },
    {
     "cell_type": "code",
     "collapsed": false,
     "input": [
      "CcommaSq_coarse = np.zeros((numBands_coarse,numFreqs,numFreqs),dtype=complex128)\n",
      "for i,vect in enumerate(CcommaVects_coarse):\n",
      "    CcommaSq_coarse[i] = vect2sq(numFreqs,vect)"
     ],
     "language": "python",
     "metadata": {},
     "outputs": [],
     "prompt_number": 161
    },
    {
     "cell_type": "code",
     "collapsed": false,
     "input": [
      "LPLmatrices_coarse = np.einsum('aik,kj',np.einsum('ij,ajk', LinvMatrix, CcommaSq_coarse),np.conjugate(LinvMatrix).T)"
     ],
     "language": "python",
     "metadata": {},
     "outputs": [],
     "prompt_number": 162
    },
    {
     "cell_type": "code",
     "collapsed": false,
     "input": [
      "fisher_coarse = 0.5 * np.einsum('aij,bji', LPLmatrices_coarse,LPLmatrices_coarse)\n",
      "diagNorms_coarse = np.sum(fisher_coarse, axis=1)\n",
      "diagMmatrix_coarse = np.diagflat(1 / diagNorms_coarse)\n",
      "diagNormedWind_coarse = np.einsum('ij,jk', diagMmatrix_coarse, fisher_coarse)\n",
      "diagNormedWindPics_coarse = [np.transpose(np.reshape(windVect_coarse,(uNumBins_coarse,etaNumBins_coarse))) for windVect_coarse in diagNormedWind_coarse]"
     ],
     "language": "python",
     "metadata": {},
     "outputs": [],
     "prompt_number": 163
    },
    {
     "cell_type": "code",
     "collapsed": false,
     "input": [
      "f, ax = plt.subplots(figsize=(10,6))\n",
      "ax.plot(diagNormedWind_coarse[45])"
     ],
     "language": "python",
     "metadata": {},
     "outputs": [
      {
       "metadata": {},
       "output_type": "pyout",
       "prompt_number": 167,
       "text": [
        "[<matplotlib.lines.Line2D at 0x137a157d0>]"
       ]
      },
      {
       "metadata": {},
       "output_type": "display_data",
       "png": "[encoded data removed]",
       "text": [
        "<matplotlib.figure.Figure at 0x13041e7d0>"
       ]
      }
     ],
     "prompt_number": 167
    },
    {
     "cell_type": "code",
     "collapsed": false,
     "input": [
      "f, ax = plt.subplots(figsize=(6,8))\n",
      "ax.pcolor(np.log(diagNormedWindPics_coarse[35]))"
     ],
     "language": "python",
     "metadata": {},
     "outputs": [
      {
       "metadata": {},
       "output_type": "pyout",
       "prompt_number": 170,
       "text": [
        "<matplotlib.collections.PolyCollection at 0x137a56810>"
       ]
      },
      {
       "metadata": {},
       "output_type": "display_data",
       "png": "[encoded data removed]",
       "text": [
        "<matplotlib.figure.Figure at 0x137a38090>"
       ]
      }
     ],
     "prompt_number": 170
    },
    {
     "cell_type": "code",
     "collapsed": false,
     "input": [
      "numTrials = 10000\n",
      "bandNumForSlice = 25\n",
      "qhatMean_coarse = np.zeros(numBands_coarse)\n",
      "meanSlice_coarse = np.zeros(numTrials)\n",
      "qhatVariance_coarse = np.zeros((numBands_coarse,numBands_coarse))\n",
      "for i in range(numTrials):\n",
      "    zRand = np.random.normal(size=numFreqs)\n",
      "    xTemp = np.copy(np.einsum('ij,j', Lmatrix, zRand))\n",
      "    whitenedRealization = np.dot(LinvMatrix,xTemp)\n",
      "    qhatRealization_coarse = 0.5 * np.einsum('i,ai',np.conjugate(whitenedRealization), \\\n",
      "                 np.einsum('aij,j',LPLmatrices_coarse,whitenedRealization))\n",
      "    qhatMean_coarse += qhatRealization_coarse\n",
      "    meanSlice[i] = qhatRealization_coarse[bandNumForSlice]\n",
      "    qhatVariance_coarse += np.outer(qhatRealization_coarse,np.conjugate(qhatRealization_coarse))\n",
      "qhatMean_coarse /= numTrials\n",
      "qhatVariance_coarse /= numTrials\n",
      "qhatVariance_coarse -= np.outer(qhatMean_coarse, np.conjugate(qhatMean_coarse))\n",
      "phatMean_coarse = np.dot(diagMmatrix_coarse,qhatMean_coarse)\n",
      "phatVariance_coarse = np.dot(diagMmatrix_coarse,np.dot(qhatVariance_coarse,np.conjugate(diagMmatrix_coarse).T))"
     ],
     "language": "python",
     "metadata": {},
     "outputs": [],
     "prompt_number": 173
    },
    {
     "cell_type": "code",
     "collapsed": false,
     "input": [
      "plt.pcolor(np.transpose(np.reshape(np.real(phatMean_coarse),(uNumBins_coarse,etaNumBins_coarse))))"
     ],
     "language": "python",
     "metadata": {},
     "outputs": [
      {
       "metadata": {},
       "output_type": "pyout",
       "prompt_number": 175,
       "text": [
        "<matplotlib.collections.PolyCollection at 0x1376cd090>"
       ]
      },
      {
       "metadata": {},
       "output_type": "display_data",
       "png": "[encoded data removed]",
       "text": [
        "<matplotlib.figure.Figure at 0x137a69f10>"
       ]
      }
     ],
     "prompt_number": 175
    },
    {
     "cell_type": "code",
     "collapsed": false,
     "input": [
      "np.real(phatMean_coarse)"
     ],
     "language": "python",
     "metadata": {},
     "outputs": [
      {
       "metadata": {},
       "output_type": "pyout",
       "prompt_number": 176,
       "text": [
        "array([ 2.58515738,  2.58515738,  3.50086059,  4.02691254,  0.5270233 ,\n",
        "        0.45623115,  0.45623115,  0.5270233 ,  4.02691254,  3.50086059,\n",
        "        2.58515738,  2.58515738,  2.55452072,  2.55452072,  3.50141164,\n",
        "        4.03013006,  0.51536474,  0.45013781,  0.45013781,  0.51536474,\n",
        "        4.03013006,  3.50141164,  2.55452072,  2.55452072,  2.52712956,\n",
        "        2.52712956,  3.50340848,  4.03076931,  0.50501143,  0.4444198 ,\n",
        "        0.4444198 ,  0.50501143,  4.03076931,  3.50340848,  2.52712956,\n",
        "        2.52712956,  2.5265161 ,  2.5265161 ,  3.50313921,  4.02315828,\n",
        "        0.5034895 ,  0.44289888,  0.44289888,  0.5034895 ,  4.02315828,\n",
        "        3.50313921,  2.5265161 ,  2.5265161 ,  2.57383594,  2.57383594,\n",
        "        3.50181898,  4.00757589,  0.51824452,  0.44939052,  0.44939052,\n",
        "        0.51824452,  4.00757589,  3.50181898,  2.57383594,  2.57383594,\n",
        "        2.6718214 ,  2.6718214 ,  3.51548379,  4.00037524,  0.55513109,\n",
        "        0.46704989,  0.46704989,  0.55513109,  4.00037524,  3.51548379,\n",
        "        2.6718214 ,  2.6718214 ])"
       ]
      }
     ],
     "prompt_number": 176
    },
    {
     "cell_type": "code",
     "collapsed": false,
     "input": [
      "temp = []\n",
      "interpPspecPic = []\n",
      "from scipy.interpolate import interp1d\n",
      "for sliceThroughEta in pspecPic:\n",
      "    x = np.linspace(0,etaNumBins-1,etaNumBins)\n",
      "    f = interp1d(x, sliceThroughEta)\n",
      "    xnew = np.linspace(0,etaNumBins-1,etaNumBins_coarse)\n",
      "    temp.append(f(xnew))\n",
      "temp = np.array(temp)\n",
      "    \n",
      "for sliceThroughU in temp.T:\n",
      "    x = np.linspace(0,uNumBins-1,uNumBins)\n",
      "    f = interp1d(x, sliceThroughU)\n",
      "    xnew = np.linspace(0,uNumBins-1,uNumBins_coarse)\n",
      "    interpPspecPic.append(f(xnew))\n",
      "interpPspecPic = np.array(interpPspecPic).T\n",
      "\n",
      "interpInputP = np.reshape(interpPspecPic, (numBands_coarse))"
     ],
     "language": "python",
     "metadata": {},
     "outputs": [],
     "prompt_number": 177
    },
    {
     "cell_type": "code",
     "collapsed": false,
     "input": [
      "expectedMeasurement_coarse = np.dot(diagNormedWind_coarse,interpInputP)"
     ],
     "language": "python",
     "metadata": {},
     "outputs": [],
     "prompt_number": 179
    },
    {
     "cell_type": "code",
     "collapsed": false,
     "input": [
      "plt.pcolor(np.transpose(np.reshape(np.real(expectedMeasurement_coarse),(uNumBins_coarse,etaNumBins_coarse))))"
     ],
     "language": "python",
     "metadata": {},
     "outputs": [
      {
       "metadata": {},
       "output_type": "pyout",
       "prompt_number": 181,
       "text": [
        "<matplotlib.collections.PolyCollection at 0x1376cc110>"
       ]
      },
      {
       "metadata": {},
       "output_type": "display_data",
       "png": "[encoded data removed]",
       "text": [
        "<matplotlib.figure.Figure at 0x1376c5050>"
       ]
      }
     ],
     "prompt_number": 181
    },
    {
     "cell_type": "code",
     "collapsed": false,
     "input": [
      "np.real(expectedMeasurement_coarse)"
     ],
     "language": "python",
     "metadata": {},
     "outputs": [
      {
       "metadata": {},
       "output_type": "pyout",
       "prompt_number": 182,
       "text": [
        "array([  4.72327375,   4.72327375,   7.89583607,   3.72987042,\n",
        "        12.71281777,   7.35069919,   7.35069919,  12.71281777,\n",
        "         3.72987042,   7.89583607,   4.72327375,   4.72327375,\n",
        "         4.69325206,   4.69325206,   7.9736986 ,   3.67834705,\n",
        "        12.8555026 ,   7.30850229,   7.30850229,  12.8555026 ,\n",
        "         3.67834705,   7.9736986 ,   4.69325206,   4.69325206,\n",
        "         4.68102397,   4.68102397,   8.07584929,   3.6443584 ,\n",
        "        13.02225847,   7.29131619,   7.29131619,  13.02225847,\n",
        "         3.6443584 ,   8.07584929,   4.68102397,   4.68102397,\n",
        "         4.72260951,   4.72260951,   8.15692252,   3.6750753 ,\n",
        "        13.12296845,   7.34952677,   7.34952677,  13.12296845,\n",
        "         3.6750753 ,   8.15692252,   4.72260951,   4.72260951,\n",
        "         4.84310211,   4.84310211,   8.17098714,   3.80505448,\n",
        "        13.07641487,   7.52308786,   7.52308786,  13.07641487,\n",
        "         3.80505448,   8.17098714,   4.84310211,   4.84310211,\n",
        "         5.00933278,   5.00933278,   8.08546977,   4.01230582,\n",
        "        12.82897736,   7.77114772,   7.77114772,  12.82897736,\n",
        "         4.01230582,   8.08546977,   5.00933278,   5.00933278])"
       ]
      }
     ],
     "prompt_number": 182
    },
    {
     "cell_type": "markdown",
     "metadata": {},
     "source": [
      "Ok, not entirely ideal, although the obvious features are reproduced."
     ]
    },
    {
     "cell_type": "code",
     "collapsed": false,
     "input": [
      "f, ax = plt.subplots()\n",
      "ax.plot(expectedMeasurement_coarse)\n",
      "ax.plot(np.real(phatMean_coarse))\n",
      "ax.plot(interpInputP)"
     ],
     "language": "python",
     "metadata": {},
     "outputs": [
      {
       "metadata": {},
       "output_type": "pyout",
       "prompt_number": 196,
       "text": [
        "[<matplotlib.lines.Line2D at 0x15f54d750>]"
       ]
      },
      {
       "metadata": {},
       "output_type": "display_data",
       "png": "[encoded data removed]",
       "text": [
        "<matplotlib.figure.Figure at 0x15f3a5890>"
       ]
      }
     ],
     "prompt_number": 196
    },
    {
     "cell_type": "code",
     "collapsed": false,
     "input": [
      "plt.plot(np.real(phatMean_coarse))"
     ],
     "language": "python",
     "metadata": {},
     "outputs": [
      {
       "metadata": {},
       "output_type": "pyout",
       "prompt_number": 187,
       "text": [
        "[<matplotlib.lines.Line2D at 0x137fde490>]"
       ]
      },
      {
       "metadata": {},
       "output_type": "display_data",
       "png": "[encoded data removed]",
       "text": [
        "<matplotlib.figure.Figure at 0x137fb8890>"
       ]
      }
     ],
     "prompt_number": 187
    },
    {
     "cell_type": "markdown",
     "metadata": {},
     "source": [
      "It might be difficult to tell here, with the aliasing and all.  Let's try to put some tapering functions into this."
     ]
    },
    {
     "cell_type": "heading",
     "level": 3,
     "metadata": {},
     "source": [
      "Comments below are obsolete."
     ]
    },
    {
     "cell_type": "markdown",
     "metadata": {},
     "source": [
      "Well this is kinda disappointing.  I guess I'll have to figure out why it doesn't work."
     ]
    },
    {
     "cell_type": "markdown",
     "metadata": {},
     "source": [
      "As a start, let's do a side-by-side comparison.  We'll use the bins here, and we'll compare it to the analytic version.  Check all matrix elements."
     ]
    },
    {
     "cell_type": "markdown",
     "metadata": {},
     "source": [
      "Umm...ok.  This is quite totally bizarre.  Now it works.  Before it didn't, and I don't think I really changed anything.  But what have we learned today?\n",
      "\n",
      "* Part of the difference was a different set of parameters.  Different primary beam width and different frequency-dependence of the width.  However, this doesn't really affect the scree plot, so I suspect we're pretty robust to such changes.\n",
      "* The \"extra padding\" of the $u\\eta$ plane to include a \"buffer zone\" DOES change the scree plot.  The relatively flat structure seen in the analytic notebook only happens when the $u$ values encompass only the ones probed by the bl.\n",
      "* What we have here is a self-consistent treatment.  The scree plot still differs from the analytic version.  Might want to have them agree.  Part of it could be the aliasing issue.\n",
      "* The aliasing issue still exists.  I wonder if a tapering function will help with that?\n",
      "* Also, is there something about the specific inputP we chose? That could be part of it.\n",
      "* The only thing I really changed was changing bl to 16.0 (rather than 16 from before)."
     ]
    },
    {
     "cell_type": "code",
     "collapsed": false,
     "input": [],
     "language": "python",
     "metadata": {},
     "outputs": [],
     "prompt_number": 163
    }
   ],
   "metadata": {}
  }
 ]
}