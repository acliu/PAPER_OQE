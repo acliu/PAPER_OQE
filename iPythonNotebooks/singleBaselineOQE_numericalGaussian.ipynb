{
 "metadata": {
  "name": ""
 },
 "nbformat": 3,
 "nbformat_minor": 0,
 "worksheets": [
  {
   "cells": [
    {
     "cell_type": "heading",
     "level": 1,
     "metadata": {},
     "source": [
      "Single baseline OQE using numerical Gaussian beams"
     ]
    },
    {
     "cell_type": "markdown",
     "metadata": {},
     "source": [
      "The goal here is to build on the previous iPython notebook that used analytic forms for the $\\mathbf{C}_{,\\alpha}$ matrices.  Now we're going to use numerical beams, which will make it easier to generalize to an arbitrary beam.  However, we're still going to work in the flat-sky approximation for now, which is an assumption that will have to be relaxed in the future.  Also, this is still for a 1D array, although note that if we're only doing a single-baseline estimate, it is always permissible to make the 1D assumption."
     ]
    },
    {
     "cell_type": "code",
     "collapsed": false,
     "input": [
      "import numpy as np\n",
      "from scipy.interpolate import interp1d\n",
      "from scipy.integrate import quad\n",
      "%pylab inline"
     ],
     "language": "python",
     "metadata": {},
     "outputs": [
      {
       "output_type": "stream",
       "stream": "stdout",
       "text": [
        "Populating the interactive namespace from numpy and matplotlib\n"
       ]
      }
     ],
     "prompt_number": 1
    },
    {
     "cell_type": "code",
     "collapsed": false,
     "input": [
      "roughPrimaryBeamWidth = 45. # In degrees, used to help figure out the grid extent + resolution for the uv plane.\n",
      "roughPrimaryBeamWidth *= np.pi / 180.\n",
      "speedOfLight = 300. # In meters per microsecond\n",
      "centralFreq = 150. # Frequencies all in MHz\n",
      "totalBand = 10.\n",
      "freqRes = 0.05 # 50 kHz frequency resolution\n",
      "bottomFreq = centralFreq - totalBand / 2.\n",
      "topFreq = centralFreq + totalBand / 2.\n",
      "numFreqs = int( ( topFreq - bottomFreq ) / freqRes )\n",
      "freqVect = np.delete(np.linspace(bottomFreq, topFreq, numFreqs + 1), -1)\n",
      "blLength = 16. # In meters\n",
      "uBaseline = blLength * freqVect / speedOfLight"
     ],
     "language": "python",
     "metadata": {},
     "outputs": [],
     "prompt_number": 2
    },
    {
     "cell_type": "markdown",
     "metadata": {},
     "source": [
      "The width of the primary beam can vary arbitrarily with frequency, if we want.  Use a smooth, linear function for now, where\n",
      "\n",
      "$\\textrm{FWHM}( \\nu ) = \\textrm{FWHM}(\\nu_0) - \\alpha (\\nu - \\nu_0)$, with $\\nu_0$ being our central frequency, and $\\alpha = 0.5\\,\\textrm{degrees per MHz}$.  (The value of $\\alpha$ here is totally arbitrary)."
     ]
    },
    {
     "cell_type": "code",
     "collapsed": false,
     "input": [
      "centralBeamFWHM = 40. # In degrees, once again\n",
      "beamSlope = 0.5 # In degrees per MHz\n",
      "beamWidths = centralBeamFWHM - beamSlope * ( freqVect - centralFreq )\n",
      "beamWidths *= np.pi / 180."
     ],
     "language": "python",
     "metadata": {},
     "outputs": [],
     "prompt_number": 3
    },
    {
     "cell_type": "markdown",
     "metadata": {},
     "source": [
      "Define a Gaussian beam, although of course we may put in whatever we like."
     ]
    },
    {
     "cell_type": "code",
     "collapsed": false,
     "input": [
      "def gaussBeamFct(theta, beamFWHM, thetaCenter = 0.):\n",
      "    \"\"\"Evaluates Gaussian beam.  Inputs are angle and FWHM in radians.\n",
      "        Normalized so that A(0) = 1\"\"\"\n",
      "    sigma = beamFWHM / np.sqrt( 8. * np.log(2.))\n",
      "    deviation = theta - thetaCenter\n",
      "    return np.exp(-0.5 * deviation**2 / sigma**2)"
     ],
     "language": "python",
     "metadata": {},
     "outputs": [],
     "prompt_number": 4
    },
    {
     "cell_type": "markdown",
     "metadata": {},
     "source": [
      "There are three grids that we have to consider here.  One is a grid for performing the spatial Fourier transform of the primary beam.  Another is for performing the integrals over the bands.  The final one is the actual boundaries of the bandpowers."
     ]
    },
    {
     "cell_type": "markdown",
     "metadata": {},
     "source": [
      "Before we start Fourier transforming, need to choose a nice grid so that we can resolve the $uv$ plane primary beam kernel properly.  For the minimum and maximum $u$ that we probe, it's important to look at more than just the minimum and maximum dictated by the baseline's $u$ coordinate, because the primary beam kernel provides some spillover."
     ]
    },
    {
     "cell_type": "markdown",
     "metadata": {},
     "source": [
      "For a Gaussian beam, a beamwidth of $\\theta_b$ gives a beamwidth of $\\frac{1}{2 \\pi \\theta_b}$ in $u$ space.  Suppose we have a beam size of $40^\\circ$.  In radians this is"
     ]
    },
    {
     "cell_type": "code",
     "collapsed": false,
     "input": [
      "40. * np.pi / 180."
     ],
     "language": "python",
     "metadata": {},
     "outputs": [
      {
       "metadata": {},
       "output_type": "pyout",
       "prompt_number": 5,
       "text": [
        "0.6981317007977318"
       ]
      }
     ],
     "prompt_number": 5
    },
    {
     "cell_type": "markdown",
     "metadata": {},
     "source": [
      "And the size of the beam in $u$ is then"
     ]
    },
    {
     "cell_type": "code",
     "collapsed": false,
     "input": [
      "1/ ( 2 * np.pi * (40. * np.pi / 180.) )"
     ],
     "language": "python",
     "metadata": {},
     "outputs": [
      {
       "metadata": {},
       "output_type": "pyout",
       "prompt_number": 6,
       "text": [
        "0.22797266319526"
       ]
      }
     ],
     "prompt_number": 6
    },
    {
     "cell_type": "markdown",
     "metadata": {},
     "source": [
      "This is a good ballpark number for the bleed in $u$.  Now, the $u$ coordinate probed by our baseline is frequency-dependent, and we'd better span this entire range:"
     ]
    },
    {
     "cell_type": "code",
     "collapsed": false,
     "input": [
      "print uBaseline[0],uBaseline[-1]"
     ],
     "language": "python",
     "metadata": {},
     "outputs": [
      {
       "output_type": "stream",
       "stream": "stdout",
       "text": [
        "7.73333333333 8.264\n"
       ]
      }
     ],
     "prompt_number": 7
    },
    {
     "cell_type": "markdown",
     "metadata": {},
     "source": [
      "If we do $\\pm 2.0$ in $u$, that should be plenty, since the primary beam kernel only makes things spill over by about $0.23$."
     ]
    },
    {
     "cell_type": "markdown",
     "metadata": {},
     "source": [
      "Now, let's say we want to resolve the primary beam by about a factor of 5.  Then we need $\\Delta u = 0.05$.  This means we need a grid in real-space that is $20$ radians wide.  Now how many pixels do we need? We also want to be able to resolve the beam in image space, so that we can get good Fourier transforms.  We'd like the beamwidth to be well-resolved, so maybe $0.05$ radians resolution.  This means $400$ pixels on one side.  Let's round that up to a nice $512$."
     ]
    },
    {
     "cell_type": "code",
     "collapsed": false,
     "input": [
      "pixRes = 0.05 # Pixel res. in radians\n",
      "npix = 512\n",
      "pixExtent = npix * pixRes\n",
      "pixVect = np.delete(np.linspace(-pixExtent/2., pixExtent/2., npix+1), -1)\n",
      "uVectFFT = np.fft.fftshift(np.fft.fftfreq(npix,pixRes))"
     ],
     "language": "python",
     "metadata": {},
     "outputs": [],
     "prompt_number": 8
    },
    {
     "cell_type": "code",
     "collapsed": false,
     "input": [
      "f, ax = plt.subplots(figsize=(10,6))\n",
      "for bmWidth in beamWidths:\n",
      "    temp = [gaussBeamFct(theta, bmWidth) for theta in pixVect]\n",
      "    ax.plot(pixVect, temp)\n",
      "ax.set_xlim(-1.5,1.5)\n",
      "ax.set_xlabel(r\"$\\theta$ in rad\")"
     ],
     "language": "python",
     "metadata": {},
     "outputs": [
      {
       "metadata": {},
       "output_type": "pyout",
       "prompt_number": 9,
       "text": [
        "<matplotlib.text.Text at 0x107f006d0>"
       ]
      },
      {
       "metadata": {},
       "output_type": "display_data",
       "png": "[encoded data removed]",
       "text": [
        "<matplotlib.figure.Figure at 0x107efb2d0>"
       ]
      }
     ],
     "prompt_number": 9
    },
    {
     "cell_type": "markdown",
     "metadata": {},
     "source": [
      "Collect all the beams into an array, with each row representing the beam at a frequency."
     ]
    },
    {
     "cell_type": "code",
     "collapsed": false,
     "input": [
      "primaryBeamCollection = np.zeros((numFreqs,npix), dtype=complex)\n",
      "for i in range(numFreqs):\n",
      "    for j,pix in enumerate(pixVect):\n",
      "        primaryBeamCollection[i,j] = gaussBeamFct(pix,beamWidths[i])"
     ],
     "language": "python",
     "metadata": {},
     "outputs": [],
     "prompt_number": 10
    },
    {
     "cell_type": "markdown",
     "metadata": {},
     "source": [
      "Fourier transform each row to get $\\overline{A} \\left( u-\\frac{\\nu b }{ c} \\right) \\equiv \\int  A(\\theta, \\nu) \\,e^{i 2 \\pi\\, (u - \\nu b / c)\\, \\theta} \\, d\\theta$."
     ]
    },
    {
     "cell_type": "code",
     "collapsed": false,
     "input": [
      "overlineBeamCollection = np.zeros_like(primaryBeamCollection)\n",
      "for j,row in enumerate(primaryBeamCollection):\n",
      "    temp = np.fft.fftshift(row)\n",
      "    temp = np.fft.fft(temp)\n",
      "    temp = np.fft.fftshift(temp)\n",
      "    overlineBeamCollection[j] = temp"
     ],
     "language": "python",
     "metadata": {},
     "outputs": [],
     "prompt_number": 11
    },
    {
     "cell_type": "code",
     "collapsed": false,
     "input": [
      "f, ax = plt.subplots(figsize=(10,6))\n",
      "for uBeam in overlineBeamCollection:\n",
      "    ax.plot(uVectFFT,uBeam)\n",
      "ax.set_xlim(-5,5)\n",
      "ax.set_xlabel(r\"$u$ in rad$^{-1}$\")"
     ],
     "language": "python",
     "metadata": {},
     "outputs": [
      {
       "output_type": "stream",
       "stream": "stderr",
       "text": [
        "//anaconda/lib/python2.7/site-packages/numpy/core/numeric.py:320: ComplexWarning: Casting complex values to real discards the imaginary part\n",
        "  return array(a, dtype, copy=False, order=order)\n"
       ]
      },
      {
       "metadata": {},
       "output_type": "pyout",
       "prompt_number": 12,
       "text": [
        "<matplotlib.text.Text at 0x108b1ea10>"
       ]
      },
      {
       "metadata": {},
       "output_type": "display_data",
       "png": "[encoded data removed]",
       "text": [
        "<matplotlib.figure.Figure at 0x108b4e350>"
       ]
      }
     ],
     "prompt_number": 12
    },
    {
     "cell_type": "markdown",
     "metadata": {},
     "source": [
      "What we need for our $\\mathbf{C}_{,\\alpha}$ matrices is the overlap integral $\\int_{u_{\\rm lower}}^{u_{\\rm upper}} \\overline{A} \\left( u-\\frac{\\nu_i b }{ c} \\right)  \\overline{A}^* \\left( u-\\frac{\\nu_j b }{ c} \\right) du$.  Unfortunately, what we have so far might not be quite high-resolution enough, if we look at how much the $u$ coordinate of the baseline varies from channel-to-channel, it's rather small.  We'd like to be able to pick up on the continuously changing overlap with frequency.  Because we have quite a short baseline here, the shift in $u$ is quite small from one frequency channel to the next.  We'd like to be able to pick up on that, rather than having the baseline's $u$ coordinate \"snapping\" to a grid and having discrete jumps every few frequency channels."
     ]
    },
    {
     "cell_type": "markdown",
     "metadata": {},
     "source": [
      "On the other hand, we'd prefer not to increase the FFT resolution by too much more. If the beam profile is relatively smooth, we can fit the Fourier-transformed beam using a cubic spline (or some other fit, like fitting the logarithm to a higher order polynomial or something)."
     ]
    },
    {
     "cell_type": "code",
     "collapsed": false,
     "input": [
      "overlineBeamFits = []\n",
      "for beam in overlineBeamCollection:\n",
      "    overlineBeamFits.append(interp1d(uVectFFT, beam, kind='cubic'))"
     ],
     "language": "python",
     "metadata": {},
     "outputs": [],
     "prompt_number": 13
    },
    {
     "cell_type": "markdown",
     "metadata": {},
     "source": [
      "Define an overlap function:"
     ]
    },
    {
     "cell_type": "code",
     "collapsed": false,
     "input": [
      "def overlapFct(u,iChannel,jChannel,overlineBeamFits,uBl):\n",
      "    overlap = overlineBeamFits[iChannel](u-uBl[iChannel])\n",
      "    overlap *= np.conjugate(overlineBeamFits[jChannel](u-uBl[jChannel]))\n",
      "    return overlap"
     ],
     "language": "python",
     "metadata": {},
     "outputs": [],
     "prompt_number": 14
    },
    {
     "cell_type": "markdown",
     "metadata": {},
     "source": [
      "Now we're ready to form our $\\mathbf{C}_{,\\alpha}$ matrices, which are given by\n",
      "\n",
      "$\\mathbf{C}_{,\\alpha} = \\int_{\\eta_{\\rm lower}}^{\\eta_{\\rm higher}} d\\eta e^{i 2 \\pi \\eta (\\nu_i - \\nu_j)}  \\int_{u_{\\rm lower}}^{u_{\\rm higher}} du \\,\n",
      "\\overline{A} \\left( u-\\frac{\\nu_i b }{ c} \\right)  \\overline{A}^* \\left( u-\\frac{\\nu_j b }{ c} \\right)$.\n",
      "\n",
      "Notice how the integrals separate.  This is good news, because it means we can just compute the spatial part (indexed by the $u$ coordinates of our bands) and then multiply by the corresponding $\\eta$ portion.  This saves us a lot of computation."
     ]
    },
    {
     "cell_type": "markdown",
     "metadata": {},
     "source": [
      "Define our bandpowers:"
     ]
    },
    {
     "cell_type": "code",
     "collapsed": false,
     "input": [
      "uNumBins = 10\n",
      "etaNumBins = 20\n",
      "numBands = uNumBins * etaNumBins\n",
      "uBuffer = 2. # in rad^-1\n",
      "etaBuffer = 2. # in MHz^-1\n",
      "uTemp = np.linspace(uBaseline[0]-uBuffer,uBaseline[-1]+uBuffer,uNumBins+1)\n",
      "etaTemp = np.linspace(-1/(2*freqRes)-etaBuffer,1/(2*freqRes)+etaBuffer, etaNumBins+1)\n",
      "uBandBounds = np.zeros((uNumBins,2))\n",
      "etaBandBounds = np.zeros((etaNumBins,2))\n",
      "uBandBounds[:,0] = uTemp[:-1]\n",
      "uBandBounds[:,1] = uTemp[1:]\n",
      "etaBandBounds[:,0] = etaTemp[:-1]\n",
      "etaBandBounds[:,1] = etaTemp[1:]"
     ],
     "language": "python",
     "metadata": {},
     "outputs": [],
     "prompt_number": 15
    },
    {
     "cell_type": "code",
     "collapsed": false,
     "input": [
      "integratedOverlapVects = np.zeros((uNumBins,numFreqs*(numFreqs+1)/2),dtype=complex128)\n",
      "for bandNum,(uLower,uHigher) in enumerate(uBandBounds):\n",
      "    print bandNum,uLower,uHigher\n",
      "    k=0\n",
      "    for i in range(numFreqs):\n",
      "        for j in range(i+1):\n",
      "            integratedOverlapVects[bandNum,k] = \\\n",
      "            quad(lambda u: np.real(overlapFct(u,i,j,overlineBeamFits,uBaseline)), uLower,uHigher)[0]\n",
      "            k += 1"
     ],
     "language": "python",
     "metadata": {},
     "outputs": [
      {
       "output_type": "stream",
       "stream": "stdout",
       "text": [
        "0 5.73333333333 6.1864\n",
        "1"
       ]
      },
      {
       "output_type": "stream",
       "stream": "stdout",
       "text": [
        " 6.1864 6.63946666667\n",
        "2"
       ]
      },
      {
       "output_type": "stream",
       "stream": "stdout",
       "text": [
        " 6.63946666667 7.09253333333\n",
        "3"
       ]
      },
      {
       "output_type": "stream",
       "stream": "stdout",
       "text": [
        " 7.09253333333 7.5456\n",
        "4"
       ]
      },
      {
       "output_type": "stream",
       "stream": "stdout",
       "text": [
        " 7.5456 7.99866666667\n",
        "5"
       ]
      },
      {
       "output_type": "stream",
       "stream": "stdout",
       "text": [
        " 7.99866666667 8.45173333333\n",
        "6"
       ]
      },
      {
       "output_type": "stream",
       "stream": "stdout",
       "text": [
        " 8.45173333333 8.9048\n",
        "7"
       ]
      },
      {
       "output_type": "stream",
       "stream": "stdout",
       "text": [
        " 8.9048 9.35786666667\n",
        "8"
       ]
      },
      {
       "output_type": "stream",
       "stream": "stdout",
       "text": [
        " 9.35786666667 9.81093333333\n",
        "9"
       ]
      },
      {
       "output_type": "stream",
       "stream": "stdout",
       "text": [
        " 9.81093333333 10.264\n"
       ]
      }
     ],
     "prompt_number": 16
    },
    {
     "cell_type": "markdown",
     "metadata": {},
     "source": [
      "Note that if the beam isn't real and symmetric, the overlap integral can be complex.  Will have to revise this if the beam is asymmetric."
     ]
    },
    {
     "cell_type": "markdown",
     "metadata": {},
     "source": [
      "The $\\eta$ portion of the integral can be done analytically.  We have\n",
      "\n",
      "$\\int_{\\eta_{\\rm lower}}^{\\eta_{\\rm higher}} e^{i 2\\pi (\\nu_i - \\nu_j) \\eta} d\\eta = (\\eta_{\\rm higher} - \\eta_{\\rm lower}) e^{i 2 \\pi (\\nu_i - \\nu_j) \\overline{\\eta}} \\textrm{sinc} [ \\pi (\\nu_i - \\nu_j) (\\eta_{\\rm higher} - \\eta_{\\rm lower})]$."
     ]
    },
    {
     "cell_type": "code",
     "collapsed": false,
     "input": [
      "etaPieceVects = np.zeros((etaNumBins,numFreqs*(numFreqs+1)/2),dtype=complex128)\n",
      "for bandNum,(etaLower,etaHigher) in enumerate(etaBandBounds):\n",
      "    deltaEta = etaHigher - etaLower\n",
      "    avEta = (etaLower + etaHigher) / 2.\n",
      "    k=0\n",
      "    for i in range(numFreqs):\n",
      "        for j in range(i+1):\n",
      "            deltaNu = freqVect[i] - freqVect[j]\n",
      "            etaPieceVects[bandNum,k] = deltaEta * np.sinc(deltaNu * deltaEta)\n",
      "            etaPieceVects[bandNum,k] *= np.exp(1j * 2 * np.pi * avEta * deltaNu)\n",
      "            # Again, don't forget that numpy does the silly thing where a pi is included in the definition of sinc\n",
      "            k += 1"
     ],
     "language": "python",
     "metadata": {},
     "outputs": [],
     "prompt_number": 17
    },
    {
     "cell_type": "markdown",
     "metadata": {},
     "source": [
      "Combine it all, giving one matrix per cell on the $(u, \\eta)$ plane.  The convention we adopt is that we cycle through the $\\eta$ bands more quickly than we do the $u$ bands."
     ]
    },
    {
     "cell_type": "code",
     "collapsed": false,
     "input": [
      "CcommaVects = np.zeros((numBands,numFreqs*(numFreqs+1)/2),dtype=complex128)\n",
      "k=0\n",
      "for i in range(uNumBins):\n",
      "    for j in range(etaNumBins):\n",
      "        CcommaVects[k] = etaPieceVects[j] * integratedOverlapVects[i] #integratedOverlapVects[i]\n",
      "        k += 1"
     ],
     "language": "python",
     "metadata": {},
     "outputs": [],
     "prompt_number": 18
    },
    {
     "cell_type": "code",
     "collapsed": false,
     "input": [
      "def vect2sq(n,vect):\n",
      "    \"\"\"Converts a Hermitian matrix from lower triangular vector form to square matrix form\"\"\"\n",
      "    sq = np.zeros((n,n),dtype=complex128)\n",
      "    for i in range(n):\n",
      "        for j in range(n):\n",
      "            if i >= j:\n",
      "                sq[i,j] = vect[j+i*(i+1)/2]\n",
      "            else:\n",
      "                sq[i,j] = np.conjugate(vect[i+j*(j+1)/2])\n",
      "    return sq"
     ],
     "language": "python",
     "metadata": {},
     "outputs": [],
     "prompt_number": 19
    },
    {
     "cell_type": "code",
     "collapsed": false,
     "input": [
      "CcommaSq = np.zeros((numBands,numFreqs,numFreqs),dtype=complex128)\n",
      "for i,vect in enumerate(CcommaVects):\n",
      "    CcommaSq[i] = vect2sq(numFreqs,vect)"
     ],
     "language": "python",
     "metadata": {},
     "outputs": [],
     "prompt_number": 20
    },
    {
     "cell_type": "markdown",
     "metadata": {},
     "source": [
      "Phew! Finally done with the $\\mathbf{C}_{,\\alpha}$ matrices! Now let's try a Monte Carlo simulation, like the ones we did before."
     ]
    },
    {
     "cell_type": "code",
     "collapsed": false,
     "input": [
      "inputP = 8.6 * np.ones(numBands)\n",
      "uSepFct = 34.*np.sin(8* ((uBandBounds[:,0] + uBandBounds[:,1])/2) / np.pi)**2\n",
      "etaSepFct = np.cos(3* ((etaBandBounds[:,0] + etaBandBounds[:,1])/2) / np.pi)**2\n",
      "pspecPic = np.outer(uSepFct,etaSepFct)\n",
      "inputP = np.reshape(pspecPic, (numBands))\n",
      "plt.pcolor(np.transpose(pspecPic))"
     ],
     "language": "python",
     "metadata": {},
     "outputs": [
      {
       "metadata": {},
       "output_type": "pyout",
       "prompt_number": 21,
       "text": [
        "<matplotlib.collections.PolyCollection at 0x109fa54d0>"
       ]
      },
      {
       "metadata": {},
       "output_type": "display_data",
       "png": "[encoded data removed]",
       "text": [
        "<matplotlib.figure.Figure at 0x109f745d0>"
       ]
      }
     ],
     "prompt_number": 21
    },
    {
     "cell_type": "code",
     "collapsed": false,
     "input": [
      "totalCovar = np.einsum('a,aij', inputP, CcommaSq)"
     ],
     "language": "python",
     "metadata": {},
     "outputs": [],
     "prompt_number": 22
    },
    {
     "cell_type": "code",
     "collapsed": false,
     "input": [
      "f, ax = plt.subplots(figsize=(10,6))\n",
      "ax.semilogy(np.real(np.linalg.eigh(totalCovar)[0][::-1]))"
     ],
     "language": "python",
     "metadata": {},
     "outputs": [
      {
       "metadata": {},
       "output_type": "pyout",
       "prompt_number": 23,
       "text": [
        "[<matplotlib.lines.Line2D at 0x109f7e550>]"
       ]
      },
      {
       "metadata": {},
       "output_type": "display_data",
       "png": "[encoded data removed]",
       "text": [
        "<matplotlib.figure.Figure at 0x109f97810>"
       ]
      }
     ],
     "prompt_number": 23
    },
    {
     "cell_type": "markdown",
     "metadata": {},
     "source": [
      "Ok, so the scree plot isn't quite as flat as the one we had before.  This could be due to our extension to outside the $u$ bands where we have sensitivity, but I'm not 100% sure of that."
     ]
    },
    {
     "cell_type": "code",
     "collapsed": false,
     "input": [
      "Lmatrix = np.linalg.cholesky(totalCovar)\n",
      "LinvMatrix = np.linalg.inv(Lmatrix)"
     ],
     "language": "python",
     "metadata": {},
     "outputs": [],
     "prompt_number": 24
    },
    {
     "cell_type": "code",
     "collapsed": false,
     "input": [
      "LPLmatrices = np.einsum('aik,kj',np.einsum('ij,ajk', LinvMatrix, CcommaSq),np.conjugate(LinvMatrix).T)"
     ],
     "language": "python",
     "metadata": {},
     "outputs": [],
     "prompt_number": 25
    },
    {
     "cell_type": "code",
     "collapsed": false,
     "input": [
      "fisher = 0.5 * np.einsum('aij,bji', LPLmatrices,LPLmatrices)\n",
      "diagNorms = np.sum(fisher, axis=1)\n",
      "diagMmatrix = np.diagflat(1 / diagNorms)\n",
      "diagNormedWind = np.einsum('ij,jk', diagMmatrix, fisher)\n",
      "diagNormedWindPics = [np.transpose(np.reshape(windVect,(uNumBins,etaNumBins))) for windVect in diagNormedWind]"
     ],
     "language": "python",
     "metadata": {},
     "outputs": [],
     "prompt_number": 26
    },
    {
     "cell_type": "code",
     "collapsed": false,
     "input": [
      "f, ax = plt.subplots(figsize=(10,6))\n",
      "ax.plot(diagNormedWind[100])"
     ],
     "language": "python",
     "metadata": {},
     "outputs": [
      {
       "metadata": {},
       "output_type": "pyout",
       "prompt_number": 27,
       "text": [
        "[<matplotlib.lines.Line2D at 0x103235110>]"
       ]
      },
      {
       "metadata": {},
       "output_type": "display_data",
       "png": "[encoded data removed]",
       "text": [
        "<matplotlib.figure.Figure at 0x103227a50>"
       ]
      }
     ],
     "prompt_number": 27
    },
    {
     "cell_type": "code",
     "collapsed": false,
     "input": [
      "f, ax = plt.subplots(figsize=(6,8))\n",
      "ax.pcolor(np.log(diagNormedWindPics[100]))"
     ],
     "language": "python",
     "metadata": {},
     "outputs": [
      {
       "metadata": {},
       "output_type": "pyout",
       "prompt_number": 28,
       "text": [
        "<matplotlib.collections.PolyCollection at 0x10b1fd3d0>"
       ]
      },
      {
       "output_type": "stream",
       "stream": "stderr",
       "text": [
        "//anaconda/lib/python2.7/site-packages/numpy/ma/core.py:2914: ComplexWarning: Casting complex values to real discards the imaginary part\n",
        "  output = self._data.astype(newtype).view(type(self))\n",
        "//anaconda/lib/python2.7/site-packages/matplotlib/colors.py:909: ComplexWarning: Casting complex values to real discards the imaginary part\n",
        "  vmin = float(vmin)\n"
       ]
      },
      {
       "output_type": "stream",
       "stream": "stderr",
       "text": [
        "//anaconda/lib/python2.7/site-packages/matplotlib/colors.py:910: ComplexWarning: Casting complex values to real discards the imaginary part\n",
        "  vmax = float(vmax)\n"
       ]
      },
      {
       "metadata": {},
       "output_type": "display_data",
       "png": "[encoded data removed]",
       "text": [
        "<matplotlib.figure.Figure at 0x109fb3050>"
       ]
      }
     ],
     "prompt_number": 28
    },
    {
     "cell_type": "markdown",
     "metadata": {},
     "source": [
      "There is definitely an aliasing issue here, which we didn't see in the analytic version.  It's mild for certain portions of the plane (for \"middle\" $\\eta$, which really corresponds to small $|\\eta|$ since we're doing both positive and negative $\\eta$ values here), but quite bad when we get to the edges of our $\\eta$ range.  Some ideas:\n",
      "\n",
      "* Extend the $\\eta$ values a bit? Or maybe our buffer is hurting?\n",
      "* Impose a bandpass/tapering function?\n",
      "* Bin the $\\pm |\\eta|$ bands?\n",
      "\n",
      "For some of these I have absolutely no idea whether they make sense/are relevant."
     ]
    },
    {
     "cell_type": "code",
     "collapsed": false,
     "input": [
      "numTrials = 10000\n",
      "bandNumForSlice = 25\n",
      "qhatMean = np.zeros(numBands)\n",
      "meanSlice = np.zeros(numTrials)\n",
      "qhatVariance = np.zeros((numBands,numBands))\n",
      "for i in range(numTrials):\n",
      "    zRand = np.random.normal(size=numFreqs)\n",
      "    xTemp = np.copy(np.einsum('ij,j', Lmatrix, zRand))\n",
      "    whitenedRealization = np.dot(LinvMatrix,xTemp)\n",
      "    qhatRealization = 0.5 * np.einsum('i,ai',np.conjugate(whitenedRealization), \\\n",
      "                 np.einsum('aij,j',LPLmatrices,whitenedRealization))\n",
      "    qhatMean += qhatRealization\n",
      "    meanSlice[i] = qhatRealization[bandNumForSlice]\n",
      "    qhatVariance += np.outer(qhatRealization,np.conjugate(qhatRealization))\n",
      "qhatMean /= numTrials\n",
      "qhatVariance /= numTrials\n",
      "qhatVariance -= np.outer(qhatMean, np.conjugate(qhatMean))\n",
      "phatMean = np.dot(diagMmatrix,qhatMean)\n",
      "phatVariance = np.dot(diagMmatrix,np.dot(qhatVariance,np.conjugate(diagMmatrix).T))"
     ],
     "language": "python",
     "metadata": {},
     "outputs": [
      {
       "output_type": "stream",
       "stream": "stderr",
       "text": [
        "-c:11: ComplexWarning: Casting complex values to real discards the imaginary part\n",
        "-c:12: ComplexWarning: Casting complex values to real discards the imaginary part\n",
        "-c:13: ComplexWarning: Casting complex values to real discards the imaginary part\n"
       ]
      }
     ],
     "prompt_number": 29
    },
    {
     "cell_type": "code",
     "collapsed": false,
     "input": [
      "plt.pcolor(np.transpose(np.reshape(np.real(phatMean),(uNumBins,etaNumBins))))"
     ],
     "language": "python",
     "metadata": {},
     "outputs": [
      {
       "metadata": {},
       "output_type": "pyout",
       "prompt_number": 30,
       "text": [
        "<matplotlib.collections.PolyCollection at 0x10d1d1b50>"
       ]
      },
      {
       "metadata": {},
       "output_type": "display_data",
       "png": "[encoded data removed]",
       "text": [
        "<matplotlib.figure.Figure at 0x109fac750>"
       ]
      }
     ],
     "prompt_number": 30
    },
    {
     "cell_type": "code",
     "collapsed": false,
     "input": [
      "np.real(phatMean)"
     ],
     "language": "python",
     "metadata": {},
     "outputs": [
      {
       "metadata": {},
       "output_type": "pyout",
       "prompt_number": 31,
       "text": [
        "array([  2.33917553,  12.13652119,   4.45422625,   2.38361262,\n",
        "        12.50850606,   3.53288174,   6.92402781,   6.05349486,\n",
        "         0.43310428,   5.38145134,   5.38145134,   0.43310428,\n",
        "         6.05349486,   6.92402781,   3.53288174,  12.50850606,\n",
        "         2.38361262,   4.45422625,  12.13652119,   2.33917553,\n",
        "         2.32598822,  12.36133713,   4.48294733,   2.37695134,\n",
        "        12.89443412,   3.52932795,   6.9972736 ,   6.48063235,\n",
        "         0.43136736,   5.72693733,   5.72693733,   0.43136736,\n",
        "         6.48063235,   6.9972736 ,   3.52932795,  12.89443412,\n",
        "         2.37695134,   4.48294733,  12.36133713,   2.32598822,\n",
        "         2.30641915,  12.7099785 ,   4.52845933,   2.36726625,\n",
        "        13.52811989,   3.5246599 ,   7.1090529 ,   7.2748936 ,\n",
        "         0.42896192,   6.3551565 ,   6.3551565 ,   0.42896192,\n",
        "         7.2748936 ,   7.1090529 ,   3.5246599 ,  13.52811989,\n",
        "         2.36726625,   4.52845933,  12.7099785 ,   2.30641915,\n",
        "         2.28407311,  13.12971847,   4.58287382,   2.35625472,\n",
        "        14.34409848,   3.52015999,   7.24150015,   8.48105336,\n",
        "         0.42644309,   7.27762995,   7.27762995,   0.42644309,\n",
        "         8.48105336,   7.24150015,   3.52015999,  14.34409848,\n",
        "         2.35625472,   4.58287382,  13.12971847,   2.28407311,\n",
        "         2.26531699,  13.48272008,   4.6272559 ,   2.346474  ,\n",
        "        15.07748442,   3.51726451,   7.35383069,   9.757336  ,\n",
        "         0.4245798 ,   8.22195435,   8.22195435,   0.4245798 ,\n",
        "         9.757336  ,   7.35383069,   3.51726451,  15.07748442,\n",
        "         2.346474  ,   4.6272559 ,  13.48272008,   2.26531699,\n",
        "         2.25928958,  13.53380528,   4.63111509,   2.34136044,\n",
        "        15.18192588,   3.51729739,   7.37931392,   9.83855985,\n",
        "         0.42429456,   8.3158253 ,   8.3158253 ,   0.42429456,\n",
        "         9.83855985,   7.37931392,   3.51729739,  15.18192588,\n",
        "         2.34136044,   4.63111509,  13.53380528,   2.25928958,\n",
        "         2.27422971,  13.12162216,   4.57291266,   2.34439167,\n",
        "        14.30293466,   3.52150845,   7.26489615,   8.13802426,\n",
        "         0.42643794,   7.11009155,   7.11009155,   0.42643794,\n",
        "         8.13802426,   7.26489615,   3.52150845,  14.30293466,\n",
        "         2.34439167,   4.57291266,  13.12162216,   2.27422971,\n",
        "         2.31063982,  12.38290819,   4.46868419,   2.35712879,\n",
        "        12.87199922,   3.53133573,   7.0334669 ,   6.17499536,\n",
        "         0.43139503,   5.59086364,   5.59086364,   0.43139503,\n",
        "         6.17499536,   7.0334669 ,   3.53133573,  12.87199922,\n",
        "         2.35712879,   4.46868419,  12.38290819,   2.31063982,\n",
        "         2.36183195,  11.56955145,   4.35392772,   2.37889347,\n",
        "        11.47704142,   3.54803899,   6.75363719,   4.79539088,\n",
        "         0.43909714,   4.44579275,   4.44579275,   0.43909714,\n",
        "         4.79539088,   6.75363719,   3.54803899,  11.47704142,\n",
        "         2.37889347,   4.35392772,  11.56955145,   2.36183195,\n",
        "         2.42134696,  10.80178095,   4.24874057,   2.4084036 ,\n",
        "        10.31007708,   3.57139195,   6.46842072,   3.90554999,\n",
        "         0.44941345,   3.67184951,   3.67184951,   0.44941345,\n",
        "         3.90554999,   6.46842072,   3.57139195,  10.31007708,\n",
        "         2.4084036 ,   4.24874057,  10.80178095,   2.42134696])"
       ]
      }
     ],
     "prompt_number": 31
    },
    {
     "cell_type": "code",
     "collapsed": false,
     "input": [
      "expectedMeasurement = np.dot(diagNormedWind,inputP)\n",
      "print np.real(expectedMeasurement)"
     ],
     "language": "python",
     "metadata": {},
     "outputs": [
      {
       "output_type": "stream",
       "stream": "stdout",
       "text": [
        "[  2.32587665  12.05039499   4.43657347   2.37318782  12.38811422\n",
        "   3.52239929   6.93429475   6.05344305   0.4349323    5.38801137\n",
        "   5.38801137   0.4349323    6.05344305   6.93429475   3.52239929\n",
        "  12.38811422   2.37318782   4.43657347  12.05039499   2.32587665\n",
        "   2.314522    12.27071197   4.46670604   2.36827128  12.77592048\n",
        "   3.52055865   7.01013098   6.48126417   0.43311368   5.73008758\n",
        "   5.73008758   0.43311368   6.48126417   7.01013098   3.52055865\n",
        "  12.77592048   2.36827128   4.46670604  12.27071197   2.314522\n",
        "   2.29803414  12.6131077    4.51470455   2.36147804  13.41204138\n",
        "   3.51833459   7.12520508   7.27794187   0.43057008   6.35153729\n",
        "   6.35153729   0.43057008   7.27794187   7.12520508   3.51833459\n",
        "  13.41204138   2.36147804   4.51470455  12.6131077    2.29803414\n",
        "   2.27982713  13.02737081   4.57261854   2.35436363  14.23013607\n",
        "   3.51642538   7.26017396   8.49067687   0.42785934   7.26231711\n",
        "   7.26231711   0.42785934   8.49067687   7.26017396   3.51642538\n",
        "  14.23013607   2.35436363   4.57261854  13.02737081   2.27982713\n",
        "   2.26555421  13.38085679   4.62082628   2.34900421  14.96426482\n",
        "   3.51526659   7.37206146   9.78129928   0.42576283   8.19002872\n",
        "   8.19002872   0.42576283   9.78129928   7.37206146   3.51526659\n",
        "  14.96426482   2.34900421   4.62082628  13.38085679   2.26555421\n",
        "   2.26284355  13.44424509   4.6270772    2.34782001  15.06942878\n",
        "   3.51487916   7.39279811   9.88187213   0.42523119   8.26978428\n",
        "   8.26978428   0.42523119   9.88187213   7.39279811   3.51487916\n",
        "  15.06942878   2.34782001   4.6270772   13.44424509   2.26284355\n",
        "   2.27817433  13.05508936   4.56787087   2.35304342  14.19610431\n",
        "   3.51560817   7.27158224   8.19100597   0.42714354   7.06240279\n",
        "   7.06240279   0.42714354   8.19100597   7.27158224   3.51560817\n",
        "  14.19610431   2.35304342   4.56787087  13.05508936   2.27817433\n",
        "   2.31178775  12.34013451   4.45955913   2.36587082  12.77677167\n",
        "   3.5193062    7.0360315    6.22494982   0.43186556   5.54890506\n",
        "   5.54890506   0.43186556   6.22494982   7.0360315    3.5193062\n",
        "  12.77677167   2.36587082   4.45955913  12.34013451   2.31178775\n",
        "   2.35873692  11.54447681   4.34020841   2.38650045  11.39333413\n",
        "   3.52858738   6.75637086   4.83779607   0.43924933   4.40858749\n",
        "   4.40858749   0.43924933   4.83779607   6.75637086   3.52858738\n",
        "  11.39333413   2.38650045   4.34020841  11.54447681   2.35873692\n",
        "   2.41443517  10.78901998   4.23193615   2.41461386  10.23345312\n",
        "   3.54449319   6.47379215   3.94005417   0.44910244   3.63692128\n",
        "   3.63692128   0.44910244   3.94005417   6.47379215   3.54449319\n",
        "  10.23345312   2.41461386   4.23193615  10.78901998   2.41443517]\n"
       ]
      }
     ],
     "prompt_number": 32
    },
    {
     "cell_type": "markdown",
     "metadata": {},
     "source": [
      "Well this is kinda disappointing.  I guess I'll have to figure out why it doesn't work."
     ]
    },
    {
     "cell_type": "markdown",
     "metadata": {},
     "source": [
      "As a start, let's do a side-by-side comparison.  We'll use the bins here, and we'll compare it to the analytic version.  Check all matrix elements."
     ]
    },
    {
     "cell_type": "markdown",
     "metadata": {},
     "source": [
      "Umm...ok.  This is quite totally bizarre.  Now it works.  Before it didn't, and I don't think I really changed anything.  But what have we learned today?\n",
      "\n",
      "* Part of the difference was a different set of parameters.  Different primary beam width and different frequency-dependence of the width.  However, this doesn't really affect the scree plot, so I suspect we're pretty robust to such changes.\n",
      "* The \"extra padding\" of the $u\\eta$ plane to include a \"buffer zone\" DOES change the scree plot.  The relatively flat structure seen in the analytic notebook only happens when the $u$ values encompass only the ones probed by the bl.\n",
      "* What we have here is a self-consistent treatment.  The scree plot still differs from the analytic version.  Might want to have them agree.  Part of it could be the aliasing issue.\n",
      "* The aliasing issue still exists.  I wonder if a tapering function will help with that?\n",
      "* Also, is there something about the specific inputP we chose? That could be part of it.\n",
      "* The only thing I really changed was changing bl to 16.0 (rather than 16 from before)."
     ]
    },
    {
     "cell_type": "code",
     "collapsed": false,
     "input": [],
     "language": "python",
     "metadata": {},
     "outputs": []
    }
   ],
   "metadata": {}
  }
 ]
}