{
 "metadata": {
  "name": ""
 },
 "nbformat": 3,
 "nbformat_minor": 0,
 "worksheets": [
  {
   "cells": [
    {
     "cell_type": "heading",
     "level": 1,
     "metadata": {},
     "source": [
      "Single baseline OQE using numerical Gaussian beams"
     ]
    },
    {
     "cell_type": "markdown",
     "metadata": {},
     "source": [
      "The goal here is to build on the previous iPython notebook that used analytic forms for the $\\mathbf{C}_{,\\alpha}$ matrices.  Now we're going to use numerical beams, which will make it easier to generalize to an arbitrary beam.  However, we're still going to work in the flat-sky approximation for now, which is an assumption that will have to be relaxed in the future.  Also, this is still for a 1D array, although note that if we're only doing a single-baseline estimate, it is always permissible to make the 1D assumption."
     ]
    },
    {
     "cell_type": "code",
     "collapsed": false,
     "input": [
      "import numpy as np\n",
      "from scipy.interpolate import interp1d\n",
      "from scipy.integrate import quad\n",
      "%pylab inline"
     ],
     "language": "python",
     "metadata": {},
     "outputs": [
      {
       "output_type": "stream",
       "stream": "stdout",
       "text": [
        "Populating the interactive namespace from numpy and matplotlib\n"
       ]
      }
     ],
     "prompt_number": 93
    },
    {
     "cell_type": "code",
     "collapsed": false,
     "input": [
      "roughPrimaryBeamWidth = 45. # In degrees, used to help figure out the grid extent + resolution for the uv plane.\n",
      "roughPrimaryBeamWidth *= np.pi / 180.\n",
      "speedOfLight = 300. # In meters per microsecond\n",
      "centralFreq = 150. # Frequencies all in MHz\n",
      "totalBand = 10.\n",
      "freqRes = 0.05 # 50 kHz frequency resolution\n",
      "bottomFreq = centralFreq - totalBand / 2.\n",
      "topFreq = centralFreq + totalBand / 2.\n",
      "numFreqs = int( ( topFreq - bottomFreq ) / freqRes )\n",
      "freqVect = np.delete(np.linspace(bottomFreq, topFreq, numFreqs + 1), -1)\n",
      "blLength = 16 # In meters\n",
      "uBaseline = blLength * freqVect / speedOfLight"
     ],
     "language": "python",
     "metadata": {},
     "outputs": [],
     "prompt_number": 8
    },
    {
     "cell_type": "markdown",
     "metadata": {},
     "source": [
      "The width of the primary beam can vary arbitrarily with frequency, if we want.  Use a smooth, linear function for now, where\n",
      "\n",
      "$\\textrm{FWHM}( \\nu ) = \\textrm{FWHM}(\\nu_0) - \\alpha (\\nu - \\nu_0)$, with $\\nu_0$ being our central frequency, and $\\alpha = 0.5\\,\\textrm{degrees per MHz}$.  (The value of $\\alpha$ here is totally arbitrary)."
     ]
    },
    {
     "cell_type": "code",
     "collapsed": false,
     "input": [
      "centralBeamFWHM = 40. # In degrees, once again\n",
      "beamSlope = 0.5 # In degrees per MHz\n",
      "beamWidths = centralBeamFWHM - beamSlope * ( freqVect - centralFreq )\n",
      "beamWidths *= np.pi / 180."
     ],
     "language": "python",
     "metadata": {},
     "outputs": [],
     "prompt_number": 33
    },
    {
     "cell_type": "markdown",
     "metadata": {},
     "source": [
      "Define a Gaussian beam, although of course we may put in whatever we like."
     ]
    },
    {
     "cell_type": "code",
     "collapsed": false,
     "input": [
      "def gaussBeamFct(theta, beamFWHM, thetaCenter = 0.):\n",
      "    \"\"\"Evaluates Gaussian beam.  Inputs are angle and FWHM in radians.\n",
      "        Normalized so that A(0) = 1\"\"\"\n",
      "    sigma = beamFWHM / np.sqrt( 8. * np.log(2.))\n",
      "    deviation = theta - thetaCenter\n",
      "    return np.exp(-0.5 * deviation**2 / sigma**2)"
     ],
     "language": "python",
     "metadata": {},
     "outputs": [],
     "prompt_number": 7
    },
    {
     "cell_type": "markdown",
     "metadata": {},
     "source": [
      "There are three grids that we have to consider here.  One is a grid for performing the spatial Fourier transform of the primary beam.  Another is for performing the integrals over the bands.  The final one is the actual boundaries of the bandpowers."
     ]
    },
    {
     "cell_type": "markdown",
     "metadata": {},
     "source": [
      "Before we start Fourier transforming, need to choose a nice grid so that we can resolve the $uv$ plane primary beam kernel properly.  For the minimum and maximum $u$ that we probe, it's important to look at more than just the minimum and maximum dictated by the baseline's $u$ coordinate, because the primary beam kernel provides some spillover."
     ]
    },
    {
     "cell_type": "markdown",
     "metadata": {},
     "source": [
      "For a Gaussian beam, a beamwidth of $\\theta_b$ gives a beamwidth of $\\frac{1}{2 \\pi \\theta_b}$ in $u$ space.  Suppose we have a beam size of $40^\\circ$.  In radians this is"
     ]
    },
    {
     "cell_type": "code",
     "collapsed": false,
     "input": [
      "40. * np.pi / 180."
     ],
     "language": "python",
     "metadata": {},
     "outputs": [
      {
       "metadata": {},
       "output_type": "pyout",
       "prompt_number": 10,
       "text": [
        "0.6981317007977318"
       ]
      }
     ],
     "prompt_number": 10
    },
    {
     "cell_type": "markdown",
     "metadata": {},
     "source": [
      "And the size of the beam in $u$ is then"
     ]
    },
    {
     "cell_type": "code",
     "collapsed": false,
     "input": [
      "1/ ( 2 * np.pi * (40. * np.pi / 180.) )"
     ],
     "language": "python",
     "metadata": {},
     "outputs": [
      {
       "metadata": {},
       "output_type": "pyout",
       "prompt_number": 11,
       "text": [
        "0.22797266319526"
       ]
      }
     ],
     "prompt_number": 11
    },
    {
     "cell_type": "markdown",
     "metadata": {},
     "source": [
      "This is a good ballpark number for the bleed in $u$.  Now, the $u$ coordinate probed by our baseline is frequency-dependent, and we'd better span this entire range:"
     ]
    },
    {
     "cell_type": "code",
     "collapsed": false,
     "input": [
      "print uBaseline[0],uBaseline[-1]"
     ],
     "language": "python",
     "metadata": {},
     "outputs": [
      {
       "output_type": "stream",
       "stream": "stdout",
       "text": [
        "7.73333333333 8.264\n"
       ]
      }
     ],
     "prompt_number": 12
    },
    {
     "cell_type": "markdown",
     "metadata": {},
     "source": [
      "If we do $\\pm 2.0$ in $u$, that should be plenty, since the primary beam kernel only makes things spill over by about $0.23$."
     ]
    },
    {
     "cell_type": "markdown",
     "metadata": {},
     "source": [
      "Now, let's say we want to resolve the primary beam by about a factor of 5.  Then we need $\\Delta u = 0.05$.  This means we need a grid in real-space that is $20$ radians wide.  Now how many pixels do we need? We also want to be able to resolve the beam in image space, so that we can get good Fourier transforms.  We'd like the beamwidth to be well-resolved, so maybe $0.05$ radians resolution.  This means $400$ pixels on one side.  Let's round that up to a nice $512$."
     ]
    },
    {
     "cell_type": "code",
     "collapsed": false,
     "input": [
      "pixRes = 0.05 # Pixel res. in radians\n",
      "npix = 512\n",
      "pixExtent = npix * pixRes\n",
      "pixVect = np.delete(np.linspace(-pixExtent/2., pixExtent/2., npix+1), -1)\n",
      "uVectFFT = np.fft.fftshift(np.fft.fftfreq(npix,pixRes))"
     ],
     "language": "python",
     "metadata": {},
     "outputs": [],
     "prompt_number": 59
    },
    {
     "cell_type": "code",
     "collapsed": false,
     "input": [
      "f, ax = plt.subplots(figsize=(10,6))\n",
      "for bmWidth in beamWidths:\n",
      "    temp = [gaussBeamFct(theta, bmWidth) for theta in pixVect]\n",
      "    ax.plot(pixVect, temp)\n",
      "ax.set_xlim(-1.5,1.5)\n",
      "ax.set_xlabel(r\"$\\theta$ in rad\")"
     ],
     "language": "python",
     "metadata": {},
     "outputs": [
      {
       "metadata": {},
       "output_type": "pyout",
       "prompt_number": 53,
       "text": [
        "<matplotlib.text.Text at 0x108356490>"
       ]
      },
      {
       "metadata": {},
       "output_type": "display_data",
       "png": "[encoded data removed]",
       "text": [
        "<matplotlib.figure.Figure at 0x107701550>"
       ]
      }
     ],
     "prompt_number": 53
    },
    {
     "cell_type": "markdown",
     "metadata": {},
     "source": [
      "Collect all the beams into an array, with each row representing the beam at a frequency."
     ]
    },
    {
     "cell_type": "code",
     "collapsed": false,
     "input": [
      "primaryBeamCollection = np.zeros((numFreqs,npix), dtype=complex)\n",
      "for i in range(numFreqs):\n",
      "    for j,pix in enumerate(pixVect):\n",
      "        primaryBeamCollection[i,j] = gaussBeamFct(pix,beamWidths[i])"
     ],
     "language": "python",
     "metadata": {},
     "outputs": [],
     "prompt_number": 35
    },
    {
     "cell_type": "markdown",
     "metadata": {},
     "source": [
      "Fourier transform each row to get $\\overline{A} \\left( u-\\frac{\\nu b }{ c} \\right) \\equiv \\int  A(\\theta, \\nu) \\,e^{i 2 \\pi\\, (u - \\nu b / c)\\, \\theta} \\, d\\theta$."
     ]
    },
    {
     "cell_type": "code",
     "collapsed": false,
     "input": [
      "overlineBeamCollection = np.zeros_like(primaryBeamCollection)\n",
      "for j,row in enumerate(primaryBeamCollection):\n",
      "    temp = np.fft.fftshift(row)\n",
      "    temp = np.fft.fft(temp)\n",
      "    temp = np.fft.fftshift(temp)\n",
      "    overlineBeamCollection[j] = temp"
     ],
     "language": "python",
     "metadata": {},
     "outputs": [],
     "prompt_number": 42
    },
    {
     "cell_type": "code",
     "collapsed": false,
     "input": [
      "f, ax = plt.subplots(figsize=(10,6))\n",
      "for uBeam in overlineBeamCollection:\n",
      "    ax.plot(uVectFFT,uBeam)\n",
      "ax.set_xlim(-5,5)\n",
      "ax.set_xlabel(r\"$u$ in rad$^{-1}$\")"
     ],
     "language": "python",
     "metadata": {},
     "outputs": [
      {
       "metadata": {},
       "output_type": "pyout",
       "prompt_number": 60,
       "text": [
        "<matplotlib.text.Text at 0x10ac6d3d0>"
       ]
      },
      {
       "metadata": {},
       "output_type": "display_data",
       "png": "[encoded data removed]",
       "text": [
        "<matplotlib.figure.Figure at 0x1093ec650>"
       ]
      }
     ],
     "prompt_number": 60
    },
    {
     "cell_type": "markdown",
     "metadata": {},
     "source": [
      "What we need for our $\\mathbf{C}_{,\\alpha}$ matrices is the overlap integral $\\int_{u_{\\rm lower}}^{u_{\\rm upper}} \\overline{A} \\left( u-\\frac{\\nu_i b }{ c} \\right)  \\overline{A}^* \\left( u-\\frac{\\nu_j b }{ c} \\right) du$.  Unfortunately, what we have so far might not be quite high-resolution enough, if we look at how much the $u$ coordinate of the baseline varies from channel-to-channel, it's rather small.  We'd like to be able to pick up on the continuously changing overlap with frequency.  Because we have quite a short baseline here, the shift in $u$ is quite small from one frequency channel to the next.  We'd like to be able to pick up on that, rather than having the baseline's $u$ coordinate \"snapping\" to a grid and having discrete jumps every few frequency channels."
     ]
    },
    {
     "cell_type": "markdown",
     "metadata": {},
     "source": [
      "On the other hand, we'd prefer not to increase the FFT resolution by too much more. If the beam profile is relatively smooth, we can fit the Fourier-transformed beam using a cubic spline (or some other fit, like fitting the logarithm to a higher order polynomial or something)."
     ]
    },
    {
     "cell_type": "code",
     "collapsed": false,
     "input": [
      "overlineBeamFits = []\n",
      "for beam in overlineBeamCollection:\n",
      "    overlineBeamFits.append(interp1d(uVectFFT, beam, kind='cubic'))"
     ],
     "language": "python",
     "metadata": {},
     "outputs": [],
     "prompt_number": 73
    },
    {
     "cell_type": "markdown",
     "metadata": {},
     "source": [
      "Define an overlap function:"
     ]
    },
    {
     "cell_type": "code",
     "collapsed": false,
     "input": [
      "def overlapFct(u,iChannel,jChannel,overlineBeamFits,uBl):\n",
      "    overlap = overlineBeamFits[iChannel](u-uBl[i])\n",
      "    overlap *= np.conjugate(overlineBeamFits[jChannel](u-uBl[j]))\n",
      "    return overlap"
     ],
     "language": "python",
     "metadata": {},
     "outputs": [],
     "prompt_number": 87
    },
    {
     "cell_type": "markdown",
     "metadata": {},
     "source": [
      "Now we're ready to form our $\\mathbf{C}_{,\\alpha}$ matrices, which are given by\n",
      "\n",
      "$\\mathbf{C}_{,\\alpha} = \\int_{\\eta_{\\rm lower}}^{\\eta_{\\rm higher}} d\\eta \\int_{u_{\\rm lower}}^{u_{\\rm higher}} du \\,\n",
      "e^{i 2 \\pi \\eta (\\nu_i - \\nu_j)} \\overline{A} \\left( u-\\frac{\\nu_i b }{ c} \\right)  \\overline{A}^* \\left( u-\\frac{\\nu_j b }{ c} \\right)$.\n",
      "\n",
      "Notice how the integrals separate.  This is good news, because it means we can just compute the spatial part (indexed by the $u$ coordinates of our bands) and then multiply by the corresponding $\\eta$ portion.  This saves us a lot of computation."
     ]
    },
    {
     "cell_type": "markdown",
     "metadata": {},
     "source": [
      "Define our bandpowers:"
     ]
    },
    {
     "cell_type": "code",
     "collapsed": false,
     "input": [
      "uNumBins = 10\n",
      "etaNumBins = 20\n",
      "numBands = uNumBins * etaNumBins\n",
      "uBuffer = 2. # in rad^-1\n",
      "etaBuffer = 2. # in MHz^-1\n",
      "uTemp = np.linspace(uBaseline[0]-uBuffer,uBaseline[-1]+uBuffer,uNumBins+1)\n",
      "etaTemp = np.linspace(-1/(2*freqRes)-etaBuffer,1/(2*freqRes)+etaBuffer, etaNumBins+1)\n",
      "uBandBounds = np.zeros((uNumBins,2))\n",
      "etaBandBounds = np.zeros((etaNumBins,2))\n",
      "uBandBounds[:,0] = uTemp[:-1]\n",
      "uBandBounds[:,1] = uTemp[1:]\n",
      "etaBandBounds[:,0] = etaTemp[:-1]\n",
      "etaBandBounds[:,1] = etaTemp[1:]"
     ],
     "language": "python",
     "metadata": {},
     "outputs": [],
     "prompt_number": 119
    },
    {
     "cell_type": "code",
     "collapsed": false,
     "input": [
      "integratedOverlapVects = np.zeros((uNumBins,numFreqs*(numFreqs+1)/2),dtype=complex128)\n",
      "for bandNum,(uLower,uHigher) in enumerate(uBandBounds):\n",
      "    print bandNum,uLower,uHigher\n",
      "    k=0\n",
      "    for i in range(numFreqs):\n",
      "        for j in range(i+1):\n",
      "            integratedOverlapVects[bandNum,k] = \\\n",
      "            quad(lambda u: np.real(overlapFct(u,i,j,overlineBeamFits,uBaseline)), uLower,uHigher)[0]\n",
      "            k += 1"
     ],
     "language": "python",
     "metadata": {},
     "outputs": [
      {
       "output_type": "stream",
       "stream": "stdout",
       "text": [
        "0 5.73333333333 6.1864\n",
        "1"
       ]
      },
      {
       "output_type": "stream",
       "stream": "stdout",
       "text": [
        " 6.1864 6.63946666667\n",
        "2"
       ]
      },
      {
       "output_type": "stream",
       "stream": "stdout",
       "text": [
        " 6.63946666667 7.09253333333\n",
        "3"
       ]
      },
      {
       "output_type": "stream",
       "stream": "stdout",
       "text": [
        " 7.09253333333 7.5456\n",
        "4"
       ]
      },
      {
       "output_type": "stream",
       "stream": "stdout",
       "text": [
        " 7.5456 7.99866666667\n",
        "5"
       ]
      },
      {
       "output_type": "stream",
       "stream": "stdout",
       "text": [
        " 7.99866666667 8.45173333333\n",
        "6"
       ]
      },
      {
       "output_type": "stream",
       "stream": "stdout",
       "text": [
        " 8.45173333333 8.9048\n",
        "7"
       ]
      },
      {
       "output_type": "stream",
       "stream": "stdout",
       "text": [
        " 8.9048 9.35786666667\n",
        "8"
       ]
      },
      {
       "output_type": "stream",
       "stream": "stdout",
       "text": [
        " 9.35786666667 9.81093333333\n",
        "9"
       ]
      },
      {
       "output_type": "stream",
       "stream": "stdout",
       "text": [
        " 9.81093333333 10.264\n"
       ]
      }
     ],
     "prompt_number": 131
    },
    {
     "cell_type": "markdown",
     "metadata": {},
     "source": [
      "Note that if the beam isn't real and symmetric, the overlap integral can be complex.  Will have to revise this if the beam is asymmetric."
     ]
    },
    {
     "cell_type": "markdown",
     "metadata": {},
     "source": [
      "The $\\eta$ portion of the integral can be done analytically.  We have\n",
      "\n",
      "$\\int_{\\eta_{\\rm lower}}^{\\eta_{\\rm higher}} e^{i 2\\pi (\\nu_i - \\nu_j) \\eta} d\\eta = (\\eta_{\\rm higher} - \\eta_{\\rm lower}) e^{i 2 \\pi (\\nu_i - \\nu_j) \\overline{\\eta}} \\textrm{sinc} [ \\pi (\\nu_i - \\nu_j) (\\eta_{\\rm higher} - \\eta_{\\rm lower})]$."
     ]
    },
    {
     "cell_type": "code",
     "collapsed": false,
     "input": [
      "etaPieceVects = np.zeros((etaNumBins,numFreqs*(numFreqs+1)/2),dtype=complex128)\n",
      "for bandNum,(etaLower,etaHigher) in enumerate(etaBandBounds):\n",
      "    deltaEta = etaHigher - etaLower\n",
      "    avEta = (etaLower + etaHigher) / 2.\n",
      "    k=0\n",
      "    for i in range(numFreqs):\n",
      "        for j in range(i+1):\n",
      "            deltaNu = freqVect[i] - freqVect[j]\n",
      "            etaPieceVects[bandNum,k] = deltaEta * np.sinc(deltaNu * deltaEta)\n",
      "            etaPieceVects[bandNum,k] *= np.exp(1j * 2 * np.pi * avEta * deltaNu)\n",
      "            # Again, don't forget that numpy does the silly thing where a pi is included in the definition of sinc\n",
      "            k += 1"
     ],
     "language": "python",
     "metadata": {},
     "outputs": [],
     "prompt_number": 142
    },
    {
     "cell_type": "markdown",
     "metadata": {},
     "source": [
      "Combine it all, giving one matrix per cell on the $(u, \\eta)$ plane.  The convention we adopt is that we cycle through the $\\eta$ bands more quickly than we do the $u$ bands."
     ]
    },
    {
     "cell_type": "code",
     "collapsed": false,
     "input": [
      "CcommaVects = np.zeros((numBands,numFreqs*(numFreqs+1)/2),dtype=complex128)\n",
      "k=0\n",
      "for i in range(uNumBins):\n",
      "    for j in range(etaNumBins):\n",
      "        CcommaVects[k] = etaPieceVects[j] * integratedOverlapVects[i]\n",
      "        k += 1"
     ],
     "language": "python",
     "metadata": {},
     "outputs": [],
     "prompt_number": 145
    },
    {
     "cell_type": "code",
     "collapsed": false,
     "input": [
      "def vect2sq(n,vect):\n",
      "    \"\"\"Converts a Hermitian matrix from lower triangular vector form to square matrix form\"\"\"\n",
      "    sq = np.zeros((n,n),dtype=complex128)\n",
      "    for i in range(n):\n",
      "        for j in range(n):\n",
      "            if i >= j:\n",
      "                sq[i,j] = vect[j+i*(i+1)/2]\n",
      "            else:\n",
      "                sq[i,j] = np.conjugate(vect[i+j*(j+1)/2])\n",
      "    return sq"
     ],
     "language": "python",
     "metadata": {},
     "outputs": [],
     "prompt_number": 170
    },
    {
     "cell_type": "code",
     "collapsed": false,
     "input": [
      "CcommaSq = np.zeros((numBands,numFreqs,numFreqs),dtype=complex128)\n",
      "for i,vect in enumerate(CcommaVects):\n",
      "    CcommaSq[i] = vect2sq(numFreqs,vect)"
     ],
     "language": "python",
     "metadata": {},
     "outputs": [],
     "prompt_number": 173
    },
    {
     "cell_type": "markdown",
     "metadata": {},
     "source": [
      "Phew! Finally done with the $\\mathbf{C}_{,\\alpha}$ matrices! Now let's try a Monte Carlo simulation, like the ones we did before."
     ]
    },
    {
     "cell_type": "code",
     "collapsed": false,
     "input": [
      "inputP = 8.6 * np.ones(numBands)\n",
      "uSepFct = 34.*np.sin(3* ((uBandBounds[:,0] + uBandBounds[:,1])/2) / np.pi)**2\n",
      "etaSepFct = np.cos(5* ((etaBandBounds[:,0] + etaBandBounds[:,1])/2) / np.pi)**2\n",
      "pspecPic = np.outer(uSepFct,etaSepFct)\n",
      "inputP = np.reshape(pspecPic, (numBands))\n",
      "plt.pcolor(np.transpose(pspecPic))"
     ],
     "language": "python",
     "metadata": {},
     "outputs": [
      {
       "metadata": {},
       "output_type": "pyout",
       "prompt_number": 230,
       "text": [
        "<matplotlib.collections.PolyCollection at 0x138672710>"
       ]
      },
      {
       "metadata": {},
       "output_type": "display_data",
       "png": "[encoded data removed]",
       "text": [
        "<matplotlib.figure.Figure at 0x12d52dc90>"
       ]
      }
     ],
     "prompt_number": 230
    },
    {
     "cell_type": "code",
     "collapsed": false,
     "input": [
      "totalCovar = np.einsum('a,aij', inputP, CcommaSq)"
     ],
     "language": "python",
     "metadata": {},
     "outputs": [],
     "prompt_number": 215
    },
    {
     "cell_type": "code",
     "collapsed": false,
     "input": [
      "f, ax = plt.subplots(figsize=(10,6))\n",
      "ax.semilogy(np.real(np.linalg.eigh(totalCovar)[0][::-1]))"
     ],
     "language": "python",
     "metadata": {},
     "outputs": [
      {
       "metadata": {},
       "output_type": "pyout",
       "prompt_number": 216,
       "text": [
        "[<matplotlib.lines.Line2D at 0x12e7c7050>]"
       ]
      },
      {
       "metadata": {},
       "output_type": "display_data",
       "png": "[encoded data removed]",
       "text": [
        "<matplotlib.figure.Figure at 0x12d3bb510>"
       ]
      }
     ],
     "prompt_number": 216
    },
    {
     "cell_type": "markdown",
     "metadata": {},
     "source": [
      "Ok, so the scree plot isn't quite as flat as the one we had before.  This could be due to our extension to outside the $u$ bands where we have sensitivity, but I'm not 100% sure of that."
     ]
    },
    {
     "cell_type": "code",
     "collapsed": false,
     "input": [
      "Lmatrix = np.linalg.cholesky(totalCovar)\n",
      "LinvMatrix = np.linalg.inv(Lmatrix)"
     ],
     "language": "python",
     "metadata": {},
     "outputs": [],
     "prompt_number": 217
    },
    {
     "cell_type": "code",
     "collapsed": false,
     "input": [
      "LPLmatrices = np.einsum('aik,kj',np.einsum('ij,ajk', LinvMatrix, CcommaSq),np.conjugate(LinvMatrix).T)"
     ],
     "language": "python",
     "metadata": {},
     "outputs": [],
     "prompt_number": 218
    },
    {
     "cell_type": "code",
     "collapsed": false,
     "input": [
      "fisher = 0.5 * np.einsum('aij,bji', LPLmatrices,LPLmatrices)\n",
      "diagNorms = np.sum(fisher, axis=1)\n",
      "diagMmatrix = np.diagflat(1 / diagNorms)\n",
      "diagNormedWind = np.einsum('ij,jk', diagMmatrix, fisher)\n",
      "diagNormedWindPics = [np.transpose(np.reshape(windVect,(uNumBins,etaNumBins))) for windVect in diagNormedWind]"
     ],
     "language": "python",
     "metadata": {},
     "outputs": [],
     "prompt_number": 270
    },
    {
     "cell_type": "code",
     "collapsed": false,
     "input": [
      "f, ax = plt.subplots(figsize=(10,6))\n",
      "ax.plot(diagNormedWind[127])"
     ],
     "language": "python",
     "metadata": {},
     "outputs": [
      {
       "metadata": {},
       "output_type": "pyout",
       "prompt_number": 283,
       "text": [
        "[<matplotlib.lines.Line2D at 0x13d87c390>]"
       ]
      },
      {
       "metadata": {},
       "output_type": "display_data",
       "png": "[encoded data removed]",
       "text": [
        "<matplotlib.figure.Figure at 0x13c7d6b90>"
       ]
      }
     ],
     "prompt_number": 283
    },
    {
     "cell_type": "code",
     "collapsed": false,
     "input": [
      "f, ax = plt.subplots(figsize=(6,8))\n",
      "ax.pcolor(np.log(diagNormedWindPics[127]))"
     ],
     "language": "python",
     "metadata": {},
     "outputs": [
      {
       "metadata": {},
       "output_type": "pyout",
       "prompt_number": 286,
       "text": [
        "<matplotlib.collections.PolyCollection at 0x13e10b590>"
       ]
      },
      {
       "metadata": {},
       "output_type": "display_data",
       "png": "[encoded data removed]",
       "text": [
        "<matplotlib.figure.Figure at 0x13d85d110>"
       ]
      }
     ],
     "prompt_number": 286
    },
    {
     "cell_type": "markdown",
     "metadata": {},
     "source": [
      "There is definitely an aliasing issue here, which we didn't see in the analytic version.  It's mild for certain portions of the plane (for \"middle\" $\\eta$, which really corresponds to small $|\\eta|$ since we're doing both positive and negative $\\eta$ values here), but quite bad when we get to the edges of our $\\eta$ range.  Some ideas:\n",
      "\n",
      "* Extend the $\\eta$ values a bit? Or maybe our buffer is hurting?\n",
      "* Impose a bandpass/tapering function?\n",
      "* Bin the $\\pm |\\eta|$ bands?\n",
      "\n",
      "For some of these I have absolutely no idea whether they make sense/are relevant."
     ]
    },
    {
     "cell_type": "code",
     "collapsed": false,
     "input": [
      "numTrials = 10000\n",
      "bandNumForSlice = 25\n",
      "qhatMean = np.zeros(numBands)\n",
      "meanSlice = np.zeros(numTrials)\n",
      "qhatVariance = np.zeros((numBands,numBands))\n",
      "for i in range(numTrials):\n",
      "    zRand = np.random.normal(size=numFreqs)\n",
      "    xTemp = np.copy(np.einsum('ij,j', Lmatrix, zRand))\n",
      "    whitenedRealization = np.dot(LinvMatrix,xTemp)\n",
      "    qhatRealization = 0.5 * np.einsum('i,ai',np.conjugate(whitenedRealization), \\\n",
      "                 np.einsum('aij,j',LPLmatrices,whitenedRealization))\n",
      "    qhatMean += qhatRealization\n",
      "    meanSlice[i] = qhatRealization[bandNumForSlice]\n",
      "    qhatVariance += np.outer(qhatRealization,np.conjugate(qhatRealization))\n",
      "qhatMean /= numTrials\n",
      "qhatVariance /= numTrials\n",
      "qhatVariance -= np.outer(qhatMean, np.conjugate(qhatMean))\n",
      "phatMean = np.dot(diagMmatrix,qhatMean)\n",
      "phatVariance = np.dot(diagMmatrix,np.dot(qhatVariance,np.conjugate(diagMmatrix).T))"
     ],
     "language": "python",
     "metadata": {},
     "outputs": [
      {
       "output_type": "stream",
       "stream": "stderr",
       "text": [
        "-c:11: ComplexWarning: Casting complex values to real discards the imaginary part\n",
        "-c:12: ComplexWarning: Casting complex values to real discards the imaginary part\n",
        "-c:13: ComplexWarning: Casting complex values to real discards the imaginary part\n"
       ]
      }
     ],
     "prompt_number": 287
    },
    {
     "cell_type": "code",
     "collapsed": false,
     "input": [
      "plt.pcolor(np.transpose(np.reshape(np.real(phatMean),(uNumBins,etaNumBins))))"
     ],
     "language": "python",
     "metadata": {},
     "outputs": [
      {
       "metadata": {},
       "output_type": "pyout",
       "prompt_number": 288,
       "text": [
        "<matplotlib.collections.PolyCollection at 0x13c19dad0>"
       ]
      },
      {
       "metadata": {},
       "output_type": "display_data",
       "png": "[encoded data removed]",
       "text": [
        "<matplotlib.figure.Figure at 0x13d826650>"
       ]
      }
     ],
     "prompt_number": 288
    },
    {
     "cell_type": "code",
     "collapsed": false,
     "input": [
      "np.real(phatMean)"
     ],
     "language": "python",
     "metadata": {},
     "outputs": [
      {
       "metadata": {},
       "output_type": "pyout",
       "prompt_number": 292,
       "text": [
        "array([  1.11901334,   0.10310989,   0.38522833,   2.69898403,\n",
        "         6.60141197,  11.49863659,  16.74407683,  21.4610681 ,\n",
        "        25.07134235,  27.12159033,  27.12159033,  25.07134235,\n",
        "        21.4610681 ,  16.74407683,  11.49863659,   6.60141197,\n",
        "         2.69898403,   0.38522833,   0.10310989,   1.11901334,\n",
        "         1.13608805,   0.10229489,   0.38896852,   2.72890627,\n",
        "         6.69137941,  11.64658752,  16.95206177,  21.72396235,\n",
        "        25.37964861,  27.46393206,  27.46393206,  25.37964861,\n",
        "        21.72396235,  16.95206177,  11.64658752,   6.69137941,\n",
        "         2.72890627,   0.38896852,   0.10229489,   1.13608805,\n",
        "         1.16124609,   0.10107801,   0.39497917,   2.77071021,\n",
        "         6.82022612,  11.85621339,  17.24458065,  22.09305442,\n",
        "        25.81217425,  27.94117507,  27.94117507,  25.81217425,\n",
        "        22.09305442,  17.24458065,  11.85621339,   6.82022612,\n",
        "         2.77071021,   0.39497917,   0.10107801,   1.16124609,\n",
        "         1.1882071 ,   0.09965448,   0.40171704,   2.81249031,\n",
        "         6.95542518,  12.07440797,  17.54658993,  22.47247785,\n",
        "        26.25508893,  28.42442825,  28.42442825,  26.25508893,\n",
        "        22.47247785,  17.54658993,  12.07440797,   6.95542518,\n",
        "         2.81249031,   0.40171704,   0.09965448,   1.1882071 ,\n",
        "         1.20402003,   0.09833031,   0.40559552,   2.83299531,\n",
        "         7.03506686,  12.20291462,  17.72232691,  22.68802663,\n",
        "        26.49932834,  28.68382182,  28.68382182,  26.49932834,\n",
        "        22.68802663,  17.72232691,  12.20291462,   7.03506686,\n",
        "         2.83299531,   0.40559552,   0.09833031,   1.20402003,\n",
        "         1.19114525,   0.09752288,   0.40141742,   2.80590709,\n",
        "         6.97819547,  12.11453634,  17.59894346,  22.51573493,\n",
        "        26.27678018,  28.43466446,  28.43466446,  26.27678018,\n",
        "        22.51573493,  17.59894346,  12.11453634,   6.97819547,\n",
        "         2.80590709,   0.40141742,   0.09752288,   1.19114525,\n",
        "         1.14219407,   0.0976578 ,   0.38688299,   2.71971429,\n",
        "         6.74665119,  11.74657732,  17.09160956,  21.84411227,\n",
        "        25.45942813,  27.55403785,  27.55403785,  25.45942813,\n",
        "        21.84411227,  17.09160956,  11.74657732,   6.74665119,\n",
        "         2.71971429,   0.38688299,   0.0976578 ,   1.14219407,\n",
        "         1.07156582,   0.09892699,   0.36668612,   2.59356793,\n",
        "         6.39687384,  11.18105096,  16.30822373,  20.8148381 ,\n",
        "        24.2284983 ,  26.24504714,  26.24504714,  24.2284983 ,\n",
        "        20.8148381 ,  16.30822373,  11.18105096,   6.39687384,\n",
        "         2.59356793,   0.36668612,   0.09892699,   1.07156582,\n",
        "         0.99822756,   0.10122149,   0.34736575,   2.45530162,\n",
        "         6.0120221 ,  10.54487326,  15.41578391,  19.65210557,\n",
        "        22.8589338 ,  24.79167291,  24.79167291,  22.8589338 ,\n",
        "        19.65210557,  15.41578391,  10.54487326,   6.0120221 ,\n",
        "         2.45530162,   0.34736575,   0.10122149,   0.99822756,\n",
        "         0.93023103,   0.1043563 ,   0.33176682,   2.31839043,\n",
        "         5.63231774,   9.90302157,  14.50113368,  18.4747549 ,\n",
        "        21.48737662,  23.3262986 ,  23.3262986 ,  21.48737662,\n",
        "        18.4747549 ,  14.50113368,   9.90302157,   5.63231774,\n",
        "         2.31839043,   0.33176682,   0.1043563 ,   0.93023103])"
       ]
      }
     ],
     "prompt_number": 292
    },
    {
     "cell_type": "code",
     "collapsed": false,
     "input": [
      "expectedMeasurement = np.dot(diagNormedWind,inputP)\n",
      "print np.real(expectedMeasurement)"
     ],
     "language": "python",
     "metadata": {},
     "outputs": [
      {
       "output_type": "stream",
       "stream": "stdout",
       "text": [
        "[ 10.67964197  19.57685445  12.60017026  22.19592085   8.54384229\n",
        "  12.4346753   20.65895959   3.52711283  22.14028668  10.20748281\n",
        "  10.20748281  22.14028668   3.52711283  20.65895959  12.4346753\n",
        "   8.54384229  22.19592085  12.60017026  19.57685445  10.67964197\n",
        "  10.61151022  19.67204742  12.50183377  22.47446494   8.36672609\n",
        "  12.45017622  20.90171468   3.24917366  22.43761185  10.13436877\n",
        "  10.13436877  22.43761185   3.24917366  20.90171468  12.45017622\n",
        "   8.36672609  22.47446494  12.50183377  19.67204742  10.61151022\n",
        "  10.53084381  19.83903986  12.35891008  22.9327293    8.11266537\n",
        "  12.4993101   21.30481861   2.84045681  22.92548865  10.04497669\n",
        "  10.04497669  22.92548865   2.84045681  21.30481861  12.4993101\n",
        "   8.11266537  22.9327293   12.35891008  19.83903986  10.53084381\n",
        "  10.48284376  20.07819095  12.23021086  23.53986405   7.85330253\n",
        "  12.60724563  21.84813002   2.38921179  23.57140291   9.9846954\n",
        "   9.9846954   23.57140291   2.38921179  21.84813002  12.60724563\n",
        "   7.85330253  23.53986405  12.23021086  20.07819095  10.48284376\n",
        "  10.54194862  20.37574361  12.23405233  24.19226101   7.72793123\n",
        "  12.80021069  22.44784009   2.07331217  24.26259785  10.02810902\n",
        "  10.02810902  24.26259785   2.07331217  22.44784009  12.80021069\n",
        "   7.72793123  24.19226101  12.23405233  20.37574361  10.54194862\n",
        "  10.78557087  20.68909456  12.52196087  24.6774421    7.92221367\n",
        "  13.07929945  22.91795557   2.1473093   24.76595471  10.25622249\n",
        "  10.25622249  24.76595471   2.1473093   22.91795557  13.07929945\n",
        "   7.92221367  24.6774421   12.52196087  20.68909456  10.78557087\n",
        "  11.21730134  20.9464099   13.13637435  24.76346625   8.5271256\n",
        "  13.39603696  23.0468354    2.77448473  24.83154563  10.68516492\n",
        "  10.68516492  24.83154563   2.77448473  23.0468354   13.39603696\n",
        "   8.5271256   24.76346625  13.13637435  20.9464099   11.21730134\n",
        "  11.74516198  21.08949853  13.91370823  24.42106518   9.41467255\n",
        "  13.69014461  22.80309575   3.83837718  24.43935884  11.23263398\n",
        "  11.23263398  24.43935884   3.83837718  22.80309575  13.69014461\n",
        "   9.41467255  24.42106518  13.91370823  21.08949853  11.74516198\n",
        "  12.28809825  21.12073755  14.66209415  23.82597871  10.38641371\n",
        "  13.95021122  22.34076584   5.09111894  23.7876429   11.8092701\n",
        "  11.8092701   23.7876429    5.09111894  22.34076584  13.95021122\n",
        "  10.38641371  23.82597871  14.66209415  21.12073755  12.28809825\n",
        "  12.82252153  21.08034205  15.30813777  23.14609994  11.33583033\n",
        "  14.19566039  21.80641596   6.37687227  23.05578296  12.37829848\n",
        "  12.37829848  23.05578296   6.37687227  21.80641596  14.19566039\n",
        "  11.33583033  23.14609994  15.30813777  21.08034205  12.82252153]\n"
       ]
      }
     ],
     "prompt_number": 293
    },
    {
     "cell_type": "markdown",
     "metadata": {},
     "source": [
      "Well this is kinda disappointing.  I guess I'll have to figure out why it doesn't work."
     ]
    },
    {
     "cell_type": "code",
     "collapsed": false,
     "input": [],
     "language": "python",
     "metadata": {},
     "outputs": []
    }
   ],
   "metadata": {}
  }
 ]
}