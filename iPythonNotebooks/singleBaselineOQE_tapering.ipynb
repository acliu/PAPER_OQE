{
 "metadata": {
  "name": ""
 },
 "nbformat": 3,
 "nbformat_minor": 0,
 "worksheets": [
  {
   "cells": [
    {
     "cell_type": "heading",
     "level": 1,
     "metadata": {},
     "source": [
      "Single baseline OQE with numerical Gaussian and tapering"
     ]
    },
    {
     "cell_type": "markdown",
     "metadata": {},
     "source": [
      "The idea in this notebook is to i) try to code things in a slightly better way, and ii) does some numerical tapering of the spectra to try to avoid artifacts."
     ]
    },
    {
     "cell_type": "code",
     "collapsed": false,
     "input": [
      "import numpy as np\n",
      "from scipy.interpolate import interp1d\n",
      "from scipy.integrate import quad\n",
      "from scipy import signal\n",
      "%pylab inline"
     ],
     "language": "python",
     "metadata": {},
     "outputs": [
      {
       "output_type": "stream",
       "stream": "stdout",
       "text": [
        "Populating the interactive namespace from numpy and matplotlib\n"
       ]
      },
      {
       "output_type": "stream",
       "stream": "stderr",
       "text": [
        "WARNING: pylab import has clobbered these variables: ['f']\n",
        "`%pylab --no-import-all` prevents importing * from pylab and numpy\n"
       ]
      }
     ],
     "prompt_number": 29
    },
    {
     "cell_type": "markdown",
     "metadata": {},
     "source": [
      "Define some classes"
     ]
    },
    {
     "cell_type": "code",
     "collapsed": false,
     "input": [
      "class singleBlArray:\n",
      "    def __init__ (self, bl, centralFreq=150., cosmoBand=10., freqRes=0.05):\n",
      "        speedOfLight = 299.792458 # In meters per microsecond\n",
      "        self.centralFreq = centralFreq\n",
      "        self.cosmoBand = cosmoBand\n",
      "        self.freqRes = freqRes\n",
      "        self.bl = bl\n",
      "        bottomFreq = centralFreq - cosmoBand / 2.\n",
      "        topFreq = centralFreq + cosmoBand / 2.\n",
      "        self.numFreqs = int( ( topFreq - bottomFreq ) / self.freqRes )\n",
      "        self.freqVect = np.delete(np.linspace(bottomFreq, topFreq, self.numFreqs + 1), -1)\n",
      "        self.uBaseline = bl * self.freqVect / speedOfLight\n",
      "        return None\n",
      "    \n",
      "    def get_BlLength(self):\n",
      "        return self.bl\n",
      "    \n",
      "    def get_Freqs(self):\n",
      "        return self.freqVect\n",
      "    \n",
      "    def get_uBls(self):\n",
      "        return self.uBaseline\n",
      "    \n",
      "    def get_primaryBeamPic(self,channelNum):\n",
      "        return self.primaryBeam[channelNum]\n",
      "    \n",
      "    def get_uvBeamPic(self,channelNum):\n",
      "        return self.uvBeams[channelNum]\n",
      "    \n",
      "    def get_primaryBeamGrid(self):\n",
      "        return self.fineImageGrid\n",
      "    \n",
      "    def get_uvBeamGrid(self):\n",
      "        return self.uVectFFT\n",
      "    \n",
      "    def get_uvBeamSplines(self):\n",
      "        return self.uvBeamSplines\n",
      "    \n",
      "    def generate_uvPrimaryBeams(self):\n",
      "        npix = len(self.fineImageGrid)\n",
      "        pixRes = self.fineImageGridRes\n",
      "        self.uVectFFT = np.fft.fftshift(np.fft.fftfreq(npix,pixRes))\n",
      "        \n",
      "        self.uvBeams = np.zeros_like(self.primaryBeam, dtype=complex128)\n",
      "        for j,row in enumerate(self.primaryBeam):\n",
      "            temp = np.fft.fftshift(row)\n",
      "            temp = np.fft.fft(temp)\n",
      "            temp = np.fft.fftshift(temp)\n",
      "            self.uvBeams[j] = temp\n",
      "            \n",
      "        return None\n",
      "\n",
      "    def impose_primaryBeams(self, pixVect, primaryBeamArray):\n",
      "        \"\"\"Input primary beam info.\"\"\"\n",
      "        nfreq,npix = shape(primaryBeamArray)\n",
      "        if npix != len(pixVect) or nfreq != self.numFreqs:\n",
      "            print \"Incorrect dimensions for primary beam array\"\n",
      "        else:\n",
      "            self.fineImageGrid = pixVect\n",
      "            self.fineImageGridRes = pixVect[1]-pixVect[0]\n",
      "            self.primaryBeam = primaryBeamArray\n",
      "        return None\n",
      "    \n",
      "    def gaussBeamFct(self, theta, beamFWHM, thetaCenter = 0.):\n",
      "        \"\"\"Evaluates Gaussian beam.  Inputs are angle and FWHM in radians.\n",
      "            Normalized so that A(0) = 1\"\"\"\n",
      "        sigma = beamFWHM / np.sqrt( 8. * np.log(2.))\n",
      "        deviation = theta - thetaCenter\n",
      "        return np.exp(-0.5 * deviation**2 / sigma**2)\n",
      "    \n",
      "    def set_gaussBeam(self,centralFWHM,beamSlope,npix=512,pixRes=0.05):\n",
      "        # centralFWHM in degrees, beamslope in deg/MHz\n",
      "        # pixRes in radians\n",
      "        self.beamWidths = centralFWHM - beamSlope * ( self.freqVect - self.centralFreq )\n",
      "        self.beamWidths *= np.pi / 180.\n",
      "        \n",
      "        pixExtent = npix * pixRes\n",
      "        self.fineImageGridRes = pixRes\n",
      "        self.fineImageGrid = np.delete(np.linspace(-pixExtent/2., pixExtent/2., npix+1), -1)\n",
      "        self.primaryBeam = np.zeros((self.numFreqs,npix), dtype=complex128)\n",
      "        for i in range(self.numFreqs):\n",
      "            for j,pix in enumerate(self.fineImageGrid):\n",
      "                self.primaryBeam[i,j] = self.gaussBeamFct(pix,self.beamWidths[i])\n",
      "        return None \n",
      "    \n",
      "    def generate_uvBeamSplines(self,fitType=\"linearCubic\"):\n",
      "        self.uvBeamSplines = []\n",
      "        for beam in self.uvBeams:\n",
      "            if fitType == \"linearCubic\":\n",
      "                self.uvBeamSplines.append(interp1d(self.uVectFFT, beam, kind='cubic'))\n",
      "            else:\n",
      "                print \"Unknown spline type\"\n",
      "                assert False\n",
      "        return None"
     ],
     "language": "python",
     "metadata": {},
     "outputs": [],
     "prompt_number": 2
    },
    {
     "cell_type": "code",
     "collapsed": false,
     "input": [
      "class OQE:\n",
      "    def __init__(self,array,uBands,etaBands):\n",
      "        self.array = array\n",
      "        self.uBands = uBands\n",
      "        self.etaBands = etaBands\n",
      "        self.uNumBins = len(uBands)\n",
      "        self.etaNumBins = len(etaBands)\n",
      "        self.numBands = self.uNumBins * self.etaNumBins\n",
      "        return None\n",
      "        \n",
      "    def overlapFct(self,u,iChannel,jChannel,uvBeamFits,uBl):\n",
      "        overlap = uvBeamFits[iChannel](u-uBl[iChannel])\n",
      "        overlap *= np.conjugate(uvBeamFits[jChannel](u-uBl[jChannel]))\n",
      "        return overlap\n",
      "        \n",
      "    def compute_overlaps(self):\n",
      "        numFreqs = len(self.array.get_Freqs())\n",
      "        uvSplines = self.array.get_uvBeamSplines()\n",
      "        uBl = self.array.get_uBls()\n",
      "        serializedVectLength = numFreqs*(numFreqs+1)/2\n",
      "        self.integratedOverlaps = np.zeros((self.uNumBins,serializedVectLength),dtype=complex128)\n",
      "        for bandNum,(uLower,uHigher) in enumerate(self.uBands):\n",
      "            print \"Now computing band number\",bandNum,\"which goes from u=\",uLower,\"to\",uHigher\n",
      "            k=0\n",
      "            for i in range(self.array.numFreqs):\n",
      "                for j in range(i+1):\n",
      "                    self.integratedOverlaps[bandNum,k] = \\\n",
      "                    quad(lambda u: np.real(self.overlapFct(u,i,j,uvSplines,uBl)), uLower, uHigher)[0]\n",
      "                    k+=1\n",
      "        return None\n",
      "    \n",
      "    def compute_unbinnedEtaIntegrals(self):\n",
      "        freqVect = self.array.get_Freqs()\n",
      "        numFreqs = len(freqVect)\n",
      "        self.unbinnedEtaIntegrals = np.zeros((self.etaNumBins,numFreqs*(numFreqs+1)/2),dtype=complex128)\n",
      "        for bandNum,(etaLower,etaHigher) in enumerate(self.etaBands):\n",
      "            deltaEta = etaHigher - etaLower\n",
      "            avEta = (etaLower + etaHigher) / 2.\n",
      "            k=0\n",
      "            for i in range(numFreqs):\n",
      "                for j in range(i+1):\n",
      "                    deltaNu = freqVect[i] - freqVect[j]\n",
      "                    self.unbinnedEtaIntegrals[bandNum,k] = deltaEta * np.sinc(deltaNu * deltaEta)\n",
      "                    self.unbinnedEtaIntegrals[bandNum,k] *= np.exp(1j * 2 * np.pi * avEta * deltaNu)\n",
      "                    # Again, don't forget that numpy does the silly thing \n",
      "                    # where a pi is included in the definition of sinc\n",
      "                    k += 1\n",
      "        return None\n",
      "    \n",
      "    def compute_binnedEtaIntegrals(self):\n",
      "        freqVect = self.array.get_Freqs()\n",
      "        numFreqs = len(freqVect)\n",
      "        self.unbinnedEtaIntegrals = np.zeros((self.etaNumBins,numFreqs*(numFreqs+1)/2),dtype=complex128)\n",
      "        for bandNum,(etaLower,etaHigher) in enumerate(self.etaBands):\n",
      "            deltaEta = etaHigher - etaLower\n",
      "            avEta = (etaLower + etaHigher) / 2.\n",
      "            k=0\n",
      "            for i in range(numFreqs):\n",
      "                for j in range(i+1):\n",
      "                    deltaNu = freqVect[i] - freqVect[j]\n",
      "                    self.unbinnedEtaIntegrals[bandNum,k] = deltaEta * np.sinc(deltaNu * deltaEta)\n",
      "                    self.unbinnedEtaIntegrals[bandNum,k] *= 2 * np.cos(2*np.pi*deltaNu*avEta)\n",
      "                    # Again, don't forget that numpy does the silly thing \n",
      "                    # where a pi is included in the definition of sinc\n",
      "                    k += 1\n",
      "        return None\n",
      "    \n",
      "    def generate_Ccomma(self):\n",
      "        numFreqs = len(self.array.get_Freqs())\n",
      "        CcommaVects = np.zeros((self.numBands,numFreqs*(numFreqs+1)/2),dtype=complex128)\n",
      "        k=0\n",
      "        for i in range(self.uNumBins):\n",
      "            for j in range(self.etaNumBins):\n",
      "                # Cycling over eta bins more quickly than u bins\n",
      "                CcommaVects[k] = self.unbinnedEtaIntegrals[j] * self.integratedOverlaps[i]\n",
      "                k += 1\n",
      "                \n",
      "        self.Ccomma = np.zeros((self.numBands,numFreqs,numFreqs),dtype=complex128)\n",
      "        for i,vect in enumerate(CcommaVects):\n",
      "            self.Ccomma[i] = self.vect2sq(numFreqs,vect)\n",
      "        return None\n",
      "    \n",
      "    def vect2sq(self,n,vect):\n",
      "        \"\"\"Converts a Hermitian matrix from lower triangular vector form to square matrix form\"\"\"\n",
      "        sq = np.zeros((n,n),dtype=complex128)\n",
      "        for i in range(n):\n",
      "            for j in range(n):\n",
      "                if i >= j:\n",
      "                    sq[i,j] = vect[j+i*(i+1)/2]\n",
      "                else:\n",
      "                    sq[i,j] = np.conjugate(vect[i+j*(j+1)/2])\n",
      "        return sq\n",
      "    \n",
      "    def compute_unweightedWindows(self,normType=\"diag\"):\n",
      "        \"\"\"Computes the window functions for an unweighted E_a ~ C_,a estimator\"\"\"\n",
      "        windMat = np.einsum('aij,bji',self.Ccomma,self.Ccomma)\n",
      "        if normType == \"diag\":\n",
      "            diagNorms = np.sum(windMat, axis=1)\n",
      "            diagMmatrix = np.diagflat(1 / diagNorms)\n",
      "            diagNormedWind = np.einsum('ij,jk', diagMmatrix, windMat)\n",
      "            return diagNormedWind.copy()\n",
      "        else:\n",
      "            return None\n",
      "#diagNormedWindPics = [np.transpose(np.reshape(windVect,(uNumBins,etaNumBins))) for windVect in diagNormedWind]\n",
      "    \n",
      "    def compute_unweightedTaperedWindows(self,normType=\"diag\",taperType=\"blackmanharris\"):\n",
      "        # Generic window fcts given by W_ab ~ tr[ E_a C,b]\n",
      "        # With taper (and unweighted by C^-1), we have E_a ~ T C_,a T, so\n",
      "        # W_ab ~ tr[ T C_,a T C_,b ]\n",
      "        numFreqs = len(self.array.get_Freqs())\n",
      "        exec \"taperingFct = signal.\" + taperType + \"(\" + str(numFreqs) + \")\"\n",
      "        sqrtTmatrix = np.diagflat(sqrt(taperingFct))\n",
      "        LPLmatrices = np.einsum('aik,kj',np.einsum('ij,ajk', sqrtTmatrix, self.Ccomma),sqrtTmatrix)\n",
      "        windMat = np.einsum('aij,bji',LPLmatrices,LPLmatrices)\n",
      "        if normType == \"diag\":\n",
      "            diagNorms = np.sum(windMat, axis=1)\n",
      "            diagMmatrix = np.diagflat(1 / diagNorms)\n",
      "            diagNormedWind = np.einsum('ij,jk', diagMmatrix, windMat)\n",
      "            return diagNormedWind.copy()\n",
      "        else:\n",
      "            return None"
     ],
     "language": "python",
     "metadata": {},
     "outputs": [],
     "prompt_number": 132
    },
    {
     "cell_type": "code",
     "collapsed": false,
     "input": [
      "myArray = singleBlArray(16.,cosmoBand=5.)"
     ],
     "language": "python",
     "metadata": {},
     "outputs": [],
     "prompt_number": 49
    },
    {
     "cell_type": "code",
     "collapsed": false,
     "input": [
      "myArray.set_gaussBeam(centralFWHM=40.,beamSlope=0.5)\n",
      "myArray.generate_uvPrimaryBeams()\n",
      "myArray.generate_uvBeamSplines()"
     ],
     "language": "python",
     "metadata": {},
     "outputs": [],
     "prompt_number": 50
    },
    {
     "cell_type": "code",
     "collapsed": false,
     "input": [
      "f, ax = plt.subplots(figsize=(10,6))\n",
      "for i in range(len(myArray.get_Freqs())):\n",
      "    ax.plot(myArray.get_primaryBeamGrid(), myArray.get_primaryBeamPic(i))\n",
      "ax.set_xlim(-1.5,1.5)\n",
      "ax.set_xlabel(r\"$\\theta$ in rad\")"
     ],
     "language": "python",
     "metadata": {},
     "outputs": [
      {
       "metadata": {},
       "output_type": "pyout",
       "prompt_number": 51,
       "text": [
        "<matplotlib.text.Text at 0x110439c90>"
       ]
      },
      {
       "metadata": {},
       "output_type": "display_data",
       "png": "[encoded data removed]",
       "text": [
        "<matplotlib.figure.Figure at 0x10fe11dd0>"
       ]
      }
     ],
     "prompt_number": 51
    },
    {
     "cell_type": "code",
     "collapsed": false,
     "input": [
      "f, ax = plt.subplots(figsize=(10,6))\n",
      "for i in range(len(myArray.get_Freqs())):\n",
      "    ax.plot(myArray.get_uvBeamGrid(), myArray.get_uvBeamPic(i))\n",
      "ax.set_xlim(-5,5)\n",
      "ax.set_xlabel(r\"$\\theta$ in rad\")"
     ],
     "language": "python",
     "metadata": {},
     "outputs": [
      {
       "metadata": {},
       "output_type": "pyout",
       "prompt_number": 52,
       "text": [
        "<matplotlib.text.Text at 0x10b6e3950>"
       ]
      },
      {
       "metadata": {},
       "output_type": "display_data",
       "png": "[encoded data removed]",
       "text": [
        "<matplotlib.figure.Figure at 0x110451290>"
       ]
      }
     ],
     "prompt_number": 52
    },
    {
     "cell_type": "code",
     "collapsed": false,
     "input": [
      "uNumBins = 5 #10\n",
      "etaNumBins = 10 #20\n",
      "numBands = uNumBins * etaNumBins\n",
      "uBuffer = 2. # in rad^-1\n",
      "etaBuffer = 5. # in MHz^-1\n",
      "uTemp = np.linspace(myArray.get_uBls()[0]-uBuffer,myArray.get_uBls()[-1]+uBuffer,uNumBins+1)\n",
      "freqRes = myArray.get_Freqs()[1] - myArray.get_Freqs()[0]\n",
      "etaTemp = np.linspace(-1/(2*freqRes)-etaBuffer,1/(2*freqRes)+etaBuffer, etaNumBins+1)\n",
      "uBandBounds = np.zeros((uNumBins,2))\n",
      "etaBandBounds = np.zeros((etaNumBins,2))\n",
      "uBandBounds[:,0] = uTemp[:-1]\n",
      "uBandBounds[:,1] = uTemp[1:]\n",
      "etaBandBounds[:,0] = etaTemp[:-1]\n",
      "etaBandBounds[:,1] = etaTemp[1:]"
     ],
     "language": "python",
     "metadata": {},
     "outputs": [],
     "prompt_number": 83
    },
    {
     "cell_type": "code",
     "collapsed": false,
     "input": [
      "myOQE = OQE(myArray,uBandBounds,etaBandBounds)"
     ],
     "language": "python",
     "metadata": {},
     "outputs": [],
     "prompt_number": 86
    },
    {
     "cell_type": "code",
     "collapsed": false,
     "input": [
      "myOQE.compute_unbinnedEtaIntegrals()"
     ],
     "language": "python",
     "metadata": {},
     "outputs": [],
     "prompt_number": 87
    },
    {
     "cell_type": "code",
     "collapsed": false,
     "input": [
      "myOQE.compute_overlaps()"
     ],
     "language": "python",
     "metadata": {},
     "outputs": [
      {
       "output_type": "stream",
       "stream": "stdout",
       "text": [
        "Now computing band number 0 which goes from u= 5.87211264668 to 6.72494919936\n",
        "Now computing band number"
       ]
      },
      {
       "output_type": "stream",
       "stream": "stdout",
       "text": [
        " 1 which goes from u= 6.72494919936 to 7.57778575204\n",
        "Now computing band number"
       ]
      },
      {
       "output_type": "stream",
       "stream": "stdout",
       "text": [
        " 2 which goes from u= 7.57778575204 to 8.43062230471\n",
        "Now computing band number"
       ]
      },
      {
       "output_type": "stream",
       "stream": "stdout",
       "text": [
        " 3 which goes from u= 8.43062230471 to 9.28345885739\n",
        "Now computing band number"
       ]
      },
      {
       "output_type": "stream",
       "stream": "stdout",
       "text": [
        " 4 which goes from u= 9.28345885739 to 10.1362954101\n"
       ]
      }
     ],
     "prompt_number": 88
    },
    {
     "cell_type": "code",
     "collapsed": false,
     "input": [
      "myOQE.generate_Ccomma()"
     ],
     "language": "python",
     "metadata": {},
     "outputs": [],
     "prompt_number": 89
    },
    {
     "cell_type": "code",
     "collapsed": false,
     "input": [
      "unweightedWind = myOQE.compute_unweightedWindows()\n",
      "unweightedWindPics = [np.transpose(np.reshape(windVect,(uNumBins,etaNumBins))) for windVect in unweightedWind]"
     ],
     "language": "python",
     "metadata": {},
     "outputs": [],
     "prompt_number": 90
    },
    {
     "cell_type": "code",
     "collapsed": false,
     "input": [
      "f, ax = plt.subplots(figsize=(6,8))\n",
      "ax.pcolor(np.log(unweightedWindPics[36]))"
     ],
     "language": "python",
     "metadata": {},
     "outputs": [
      {
       "metadata": {},
       "output_type": "pyout",
       "prompt_number": 102,
       "text": [
        "<matplotlib.collections.PolyCollection at 0x1149da750>"
       ]
      },
      {
       "metadata": {},
       "output_type": "display_data",
       "png": "[encoded data removed]",
       "text": [
        "<matplotlib.figure.Figure at 0x1145e2a50>"
       ]
      }
     ],
     "prompt_number": 102
    },
    {
     "cell_type": "code",
     "collapsed": false,
     "input": [
      "unweightedTaperedWind = myOQE.compute_unweightedTaperedWindows()\n",
      "unweightedTaperedWindPics = [np.transpose(np.reshape(windVect,(uNumBins,etaNumBins))) for windVect in unweightedTaperedWind]"
     ],
     "language": "python",
     "metadata": {},
     "outputs": [],
     "prompt_number": 103
    },
    {
     "cell_type": "code",
     "collapsed": false,
     "input": [
      "f, ax = plt.subplots(figsize=(6,8))\n",
      "ax.pcolor(np.log(unweightedWindPics[9]))"
     ],
     "language": "python",
     "metadata": {},
     "outputs": [
      {
       "metadata": {},
       "output_type": "pyout",
       "prompt_number": 126,
       "text": [
        "<matplotlib.collections.PolyCollection at 0x1164953d0>"
       ]
      },
      {
       "metadata": {},
       "output_type": "display_data",
       "png": "[encoded data removed]",
       "text": [
        "<matplotlib.figure.Figure at 0x116633d90>"
       ]
      }
     ],
     "prompt_number": 126
    },
    {
     "cell_type": "code",
     "collapsed": false,
     "input": [
      "uNumBins = 1 #10\n",
      "etaNumBins = 10 #20\n",
      "numBands = uNumBins * etaNumBins\n",
      "uBuffer = 2. # in rad^-1\n",
      "etaBuffer = 0. # in MHz^-1\n",
      "uTemp = np.linspace(myArray.get_uBls()[0]-uBuffer,myArray.get_uBls()[-1]+uBuffer,uNumBins+1)\n",
      "freqRes = myArray.get_Freqs()[1] - myArray.get_Freqs()[0]\n",
      "etaTemp = np.linspace(0.,1/(2*freqRes)+etaBuffer, etaNumBins+1)\n",
      "#etaTemp = np.linspace(0.,1/freqRes+etaBuffer, etaNumBins+1)\n",
      "uBandBounds = np.zeros((uNumBins,2))\n",
      "etaBandBounds = np.zeros((etaNumBins,2))\n",
      "uBandBounds[:,0] = uTemp[:-1]\n",
      "uBandBounds[:,1] = uTemp[1:]\n",
      "etaBandBounds[:,0] = etaTemp[:-1]\n",
      "etaBandBounds[:,1] = etaTemp[1:]"
     ],
     "language": "python",
     "metadata": {},
     "outputs": [],
     "prompt_number": 175
    },
    {
     "cell_type": "code",
     "collapsed": false,
     "input": [
      "etaBandBounds"
     ],
     "language": "python",
     "metadata": {},
     "outputs": [
      {
       "metadata": {},
       "output_type": "pyout",
       "prompt_number": 176,
       "text": [
        "array([[ 0.,  1.],\n",
        "       [ 1.,  2.],\n",
        "       [ 2.,  3.],\n",
        "       [ 3.,  4.],\n",
        "       [ 4.,  5.],\n",
        "       [ 5.,  6.],\n",
        "       [ 6.,  7.],\n",
        "       [ 7.,  8.],\n",
        "       [ 8.,  9.],\n",
        "       [ 9., 10.]])"
       ]
      }
     ],
     "prompt_number": 176
    },
    {
     "cell_type": "code",
     "collapsed": false,
     "input": [
      "myOQE = OQE(myArray,uBandBounds,etaBandBounds)"
     ],
     "language": "python",
     "metadata": {},
     "outputs": [],
     "prompt_number": 177
    },
    {
     "cell_type": "code",
     "collapsed": false,
     "input": [
      "myOQE.compute_binnedEtaIntegrals()"
     ],
     "language": "python",
     "metadata": {},
     "outputs": [],
     "prompt_number": 178
    },
    {
     "cell_type": "code",
     "collapsed": false,
     "input": [
      "myOQE.compute_overlaps()\n",
      "myOQE.generate_Ccomma()"
     ],
     "language": "python",
     "metadata": {},
     "outputs": [
      {
       "output_type": "stream",
       "stream": "stdout",
       "text": [
        "Now computing band number 0 which goes from u= 5.87211264668 to 10.1362954101\n"
       ]
      }
     ],
     "prompt_number": 179
    },
    {
     "cell_type": "code",
     "collapsed": false,
     "input": [
      "unweightedWind = myOQE.compute_unweightedWindows()\n",
      "unweightedWindPics = [np.transpose(np.reshape(windVect,(uNumBins,etaNumBins))) for windVect in unweightedWind]"
     ],
     "language": "python",
     "metadata": {},
     "outputs": [],
     "prompt_number": 180
    },
    {
     "cell_type": "code",
     "collapsed": false,
     "input": [
      "f, ax = plt.subplots(figsize=(6,10))\n",
      "ax.plot(unweightedWind[9])"
     ],
     "language": "python",
     "metadata": {},
     "outputs": [
      {
       "metadata": {},
       "output_type": "pyout",
       "prompt_number": 184,
       "text": [
        "[<matplotlib.lines.Line2D at 0x11c6997d0>]"
       ]
      },
      {
       "metadata": {},
       "output_type": "display_data",
       "png": "[encoded data removed]",
       "text": [
        "<matplotlib.figure.Figure at 0x1153c7290>"
       ]
      }
     ],
     "prompt_number": 184
    },
    {
     "cell_type": "code",
     "collapsed": false,
     "input": [
      "f, ax = plt.subplots(figsize=(6,8))\n",
      "ax.pcolor(np.log(unweightedWindPics[9]))"
     ],
     "language": "python",
     "metadata": {},
     "outputs": [
      {
       "metadata": {},
       "output_type": "pyout",
       "prompt_number": 186,
       "text": [
        "<matplotlib.collections.PolyCollection at 0x110686090>"
       ]
      },
      {
       "metadata": {},
       "output_type": "display_data",
       "png": "[encoded data removed]",
       "text": [
        "<matplotlib.figure.Figure at 0x1119b4250>"
       ]
      }
     ],
     "prompt_number": 186
    },
    {
     "cell_type": "markdown",
     "metadata": {},
     "source": [
      "We might have to be really careful.  When I increased the grid to include lots of unprobeable high $\\eta$ modes, all hell broke loose."
     ]
    },
    {
     "cell_type": "markdown",
     "metadata": {},
     "source": [
      "To do:\n",
      "\n",
      "* Bin over $\\pm \\eta$\n",
      "* Put prior into the estimator\n",
      "* Tapering"
     ]
    },
    {
     "cell_type": "code",
     "collapsed": false,
     "input": [],
     "language": "python",
     "metadata": {},
     "outputs": []
    }
   ],
   "metadata": {}
  }
 ]
}